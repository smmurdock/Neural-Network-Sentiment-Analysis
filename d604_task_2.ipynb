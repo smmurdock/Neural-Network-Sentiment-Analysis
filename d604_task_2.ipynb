{
  "nbformat": 4,
  "nbformat_minor": 0,
  "metadata": {
    "colab": {
      "provenance": [],
      "mount_file_id": "1i7I5u-GuRHNUH_f65Z3zV9QwJsri6VqR",
      "authorship_tag": "ABX9TyOmy2Qx3c2BRwGj7rjIVOUp",
      "include_colab_link": true
    },
    "kernelspec": {
      "name": "python3",
      "display_name": "Python 3"
    },
    "language_info": {
      "name": "python"
    }
  },
  "cells": [
    {
      "cell_type": "markdown",
      "metadata": {
        "id": "view-in-github",
        "colab_type": "text"
      },
      "source": [
        "<a href=\"https://colab.research.google.com/github/smmurdock/Neural-Network-Sentiment-Analysis/blob/main/d604_task_2.ipynb\" target=\"_parent\"><img src=\"https://colab.research.google.com/assets/colab-badge.svg\" alt=\"Open In Colab\"/></a>"
      ]
    },
    {
      "cell_type": "markdown",
      "source": [
        "# D604 Task 2 - Sentiment Analysis Using Neural Networks"
      ],
      "metadata": {
        "id": "wvGxAFBIW13x"
      }
    },
    {
      "cell_type": "code",
      "execution_count": 1,
      "metadata": {
        "colab": {
          "base_uri": "https://localhost:8080/"
        },
        "id": "YBu6PaAOVL1h",
        "outputId": "917740b9-a570-4d28-9bfd-54c6e593b1dd"
      },
      "outputs": [
        {
          "output_type": "stream",
          "name": "stdout",
          "text": [
            "/content/drive/MyDrive/1 Projects/_WGU | MS-DataAnalytics-DataScience/WGU | D604 - ADVANCED ANALYTICS/Task 2 - Sentiment Analysis Using Neural Networks\n"
          ]
        }
      ],
      "source": [
        "cd /content/drive/MyDrive/1 Projects/_WGU | MS-DataAnalytics-DataScience/WGU | D604 - ADVANCED ANALYTICS/Task 2 - Sentiment Analysis Using Neural Networks"
      ]
    },
    {
      "cell_type": "markdown",
      "source": [
        "## A. Research Purpose"
      ],
      "metadata": {
        "id": "XYnqYu1IW8ZQ"
      }
    },
    {
      "cell_type": "markdown",
      "source": [
        "> Describe the purpose of this data analysis by doing the following:"
      ],
      "metadata": {
        "id": "n8ek1mScXAuI"
      }
    },
    {
      "cell_type": "markdown",
      "source": [
        "### A1. Research Question"
      ],
      "metadata": {
        "id": "1slqPNrqXCHU"
      }
    },
    {
      "cell_type": "markdown",
      "source": [
        "> Summarize one research question that you will answer using a neural network model and NLP techniques. Be sure the research question is relevant to a real-world organizational situation and sentiment analysis captured in your chosen dataset or datasets.\n",
        "\n",
        "\n",
        "  Note: If you choose to use more than one dataset, you must concatenate them into one dataset for parts II and III."
      ],
      "metadata": {
        "id": "KkehER61YRzV"
      }
    },
    {
      "cell_type": "markdown",
      "source": [
        "**Research Question:** Can a neural network be trained to accurately classify sentiment in customer product reviews from Amazon as either positive or negative?\n",
        "\n",
        "This question is directly relevant to a real-world organizational situation. For a company like Amazon or any third-party seller on its platform, manually sifting through thousands of customer reviews to gauge public opinion is impractical based on the sheer volume of Amazon's product catalog. A system that can accurately classify sentiment allows an organization to quickly monitor customer feedback at scale. This enables them to identify popular product features, detect widespread product defects, determine if a product is likely to be returned, and track shifts in customer satisfaction over time, leading to faster product improvements and better customer service."
      ],
      "metadata": {
        "id": "DYV5t1bIiYSs"
      }
    },
    {
      "cell_type": "markdown",
      "source": [
        "### A2. Objectives or Goals"
      ],
      "metadata": {
        "id": "suidsROMXFZj"
      }
    },
    {
      "cell_type": "markdown",
      "source": [
        "> Define the objectives or goals of the data analysis. Be sure each objective or goal is reasonable within the scope of the research question and is represented in the available data."
      ],
      "metadata": {
        "id": "oI94y0muYVGi"
      }
    },
    {
      "cell_type": "markdown",
      "source": [
        "The primary goals of this data analysis are to design, build, and evaluate a neural network for sentiment classification. The specific objectives are as follows:\n",
        "\n",
        "* **Data Preprocessing:** To clean and prepare the raw text data from the Amazon reviews dataset for modeling.\n",
        "\n",
        "* **Model Development:** To build and train a suitable neural network. This analysis will use an LSTM-based architecture, which is effective for learning from sequential data like text. The goal is to train the model to recognize patterns and contextual cues in word usage that indicate positive or negative sentiment.\n",
        "\n",
        "* **Model Evaluation:** To assess the performance of the trained model on an unseen test dataset. The objective is to quantify its predictive accuracy using key classification metrics. This evaluation will directly answer how effectively the model can classify new, unseen review data."
      ],
      "metadata": {
        "id": "lGIsFmmzfopp"
      }
    },
    {
      "cell_type": "markdown",
      "source": [
        "### A3. Prescribed Network"
      ],
      "metadata": {
        "id": "Wdznno85XHt6"
      }
    },
    {
      "cell_type": "markdown",
      "source": [
        "> Identify an industry-relevant type of neural network capable of performing a text classification task that can be trained to produce useful predictions on text sequences on the selected dataset."
      ],
      "metadata": {
        "id": "6G2EyKjQYWkJ"
      }
    },
    {
      "cell_type": "markdown",
      "source": [
        "An appropriate and industry-relevant neural network for this text sentiment classification tasks is the **Long Short-Term Memory (LSTM)** neural network.\n",
        "\n",
        "LSTMs are a type of **Recurrent Neural Network (RNN)** specifically designed to handle and learn from sequential data like text, where the order of text matters. Unlike standard RNNs, LSTMs have internal memory cells that can maintain information over long sequences (Audevart et al., 2021, p. 272). This capability is crucial for natural language processing because the meaning of a word often depends on its context (Ahmad, 2023, p. 333). An LSTM can capture these dependencies, allowing it to understand nuances in language that are critical for accurately determining sentiment. This makes LSTMs a powerful and widely used tool for sentiment analysis in real-world applications."
      ],
      "metadata": {
        "id": "E_zLGej_g9JZ"
      }
    },
    {
      "cell_type": "markdown",
      "source": [
        "## B. Data Preparation"
      ],
      "metadata": {
        "id": "69M-msJNXJng"
      }
    },
    {
      "cell_type": "markdown",
      "source": [
        "> Summarize the data cleaning process by doing the following:"
      ],
      "metadata": {
        "id": "JB6PS55jYYJV"
      }
    },
    {
      "cell_type": "markdown",
      "source": [
        "### B1. Data Exploration"
      ],
      "metadata": {
        "id": "cdydIL9vXLRH"
      }
    },
    {
      "cell_type": "markdown",
      "source": [
        "> Perform exploratory data analysis on the chosen dataset, and include an explanation of each of the following elements:\n",
        "\n",
        "  * presence of unusual characters (e.g., emojis, non-English characters)\n",
        "  * vocabulary size\n",
        "  * word embedding length\n",
        "  * statistical justification for the chosen maximum sequence length"
      ],
      "metadata": {
        "id": "UnAYjwVIYbC1"
      }
    },
    {
      "cell_type": "code",
      "source": [
        "# Load libraries\n",
        "import pandas as pd\n",
        "import numpy as np\n",
        "import matplotlib.pyplot as plt\n",
        "import seaborn as sns\n",
        "\n",
        "# Set the display options for better readability\n",
        "pd.set_option('display.max_colwidth', 100)"
      ],
      "metadata": {
        "id": "7Mh4B7Oci_91"
      },
      "execution_count": 2,
      "outputs": []
    },
    {
      "cell_type": "markdown",
      "source": [
        "The code cell above loads in the basic libraries needed to get started and sets the DataFrame's maximum column width to '100' for better readability."
      ],
      "metadata": {
        "id": "6i1igtEK_e0W"
      }
    },
    {
      "cell_type": "code",
      "source": [
        "# Load the data\n",
        "df = pd.read_csv('amazon_cells_labelled.txt',\n",
        "                 sep='\\t',\n",
        "                 header=None,\n",
        "                 names=['review', 'sentiment'])"
      ],
      "metadata": {
        "id": "bG467cdajKpI"
      },
      "execution_count": 3,
      "outputs": []
    },
    {
      "cell_type": "markdown",
      "source": [
        "The code cell above loads in the the text file as a tab-delimited file with no headers identifying what the observations mean. Because of this, I looked at the data ahead of time and determined appropriate names to act as column headers."
      ],
      "metadata": {
        "id": "susmnqTq_rjc"
      }
    },
    {
      "cell_type": "code",
      "source": [
        "# View the first few rows\n",
        "print(\"First 5 rows:\")\n",
        "df.head()"
      ],
      "metadata": {
        "colab": {
          "base_uri": "https://localhost:8080/",
          "height": 223
        },
        "id": "foaTZ88t4oQP",
        "outputId": "1f222ed8-1a1e-49b3-e0a0-be14a856e9fd"
      },
      "execution_count": 4,
      "outputs": [
        {
          "output_type": "stream",
          "name": "stdout",
          "text": [
            "First 5 rows:\n"
          ]
        },
        {
          "output_type": "execute_result",
          "data": {
            "text/plain": [
              "                                                                               review  \\\n",
              "0  So there is no way for me to plug it in here in the US unless I go by a converter.   \n",
              "1                                                         Good case, Excellent value.   \n",
              "2                                                              Great for the jawbone.   \n",
              "3     Tied to charger for conversations lasting more than 45 minutes.MAJOR PROBLEMS!!   \n",
              "4                                                                   The mic is great.   \n",
              "\n",
              "   sentiment  \n",
              "0          0  \n",
              "1          1  \n",
              "2          1  \n",
              "3          0  \n",
              "4          1  "
            ],
            "text/html": [
              "\n",
              "  <div id=\"df-37dfa707-e498-4ab5-ab1b-003ed4488bcf\" class=\"colab-df-container\">\n",
              "    <div>\n",
              "<style scoped>\n",
              "    .dataframe tbody tr th:only-of-type {\n",
              "        vertical-align: middle;\n",
              "    }\n",
              "\n",
              "    .dataframe tbody tr th {\n",
              "        vertical-align: top;\n",
              "    }\n",
              "\n",
              "    .dataframe thead th {\n",
              "        text-align: right;\n",
              "    }\n",
              "</style>\n",
              "<table border=\"1\" class=\"dataframe\">\n",
              "  <thead>\n",
              "    <tr style=\"text-align: right;\">\n",
              "      <th></th>\n",
              "      <th>review</th>\n",
              "      <th>sentiment</th>\n",
              "    </tr>\n",
              "  </thead>\n",
              "  <tbody>\n",
              "    <tr>\n",
              "      <th>0</th>\n",
              "      <td>So there is no way for me to plug it in here in the US unless I go by a converter.</td>\n",
              "      <td>0</td>\n",
              "    </tr>\n",
              "    <tr>\n",
              "      <th>1</th>\n",
              "      <td>Good case, Excellent value.</td>\n",
              "      <td>1</td>\n",
              "    </tr>\n",
              "    <tr>\n",
              "      <th>2</th>\n",
              "      <td>Great for the jawbone.</td>\n",
              "      <td>1</td>\n",
              "    </tr>\n",
              "    <tr>\n",
              "      <th>3</th>\n",
              "      <td>Tied to charger for conversations lasting more than 45 minutes.MAJOR PROBLEMS!!</td>\n",
              "      <td>0</td>\n",
              "    </tr>\n",
              "    <tr>\n",
              "      <th>4</th>\n",
              "      <td>The mic is great.</td>\n",
              "      <td>1</td>\n",
              "    </tr>\n",
              "  </tbody>\n",
              "</table>\n",
              "</div>\n",
              "    <div class=\"colab-df-buttons\">\n",
              "\n",
              "  <div class=\"colab-df-container\">\n",
              "    <button class=\"colab-df-convert\" onclick=\"convertToInteractive('df-37dfa707-e498-4ab5-ab1b-003ed4488bcf')\"\n",
              "            title=\"Convert this dataframe to an interactive table.\"\n",
              "            style=\"display:none;\">\n",
              "\n",
              "  <svg xmlns=\"http://www.w3.org/2000/svg\" height=\"24px\" viewBox=\"0 -960 960 960\">\n",
              "    <path d=\"M120-120v-720h720v720H120Zm60-500h600v-160H180v160Zm220 220h160v-160H400v160Zm0 220h160v-160H400v160ZM180-400h160v-160H180v160Zm440 0h160v-160H620v160ZM180-180h160v-160H180v160Zm440 0h160v-160H620v160Z\"/>\n",
              "  </svg>\n",
              "    </button>\n",
              "\n",
              "  <style>\n",
              "    .colab-df-container {\n",
              "      display:flex;\n",
              "      gap: 12px;\n",
              "    }\n",
              "\n",
              "    .colab-df-convert {\n",
              "      background-color: #E8F0FE;\n",
              "      border: none;\n",
              "      border-radius: 50%;\n",
              "      cursor: pointer;\n",
              "      display: none;\n",
              "      fill: #1967D2;\n",
              "      height: 32px;\n",
              "      padding: 0 0 0 0;\n",
              "      width: 32px;\n",
              "    }\n",
              "\n",
              "    .colab-df-convert:hover {\n",
              "      background-color: #E2EBFA;\n",
              "      box-shadow: 0px 1px 2px rgba(60, 64, 67, 0.3), 0px 1px 3px 1px rgba(60, 64, 67, 0.15);\n",
              "      fill: #174EA6;\n",
              "    }\n",
              "\n",
              "    .colab-df-buttons div {\n",
              "      margin-bottom: 4px;\n",
              "    }\n",
              "\n",
              "    [theme=dark] .colab-df-convert {\n",
              "      background-color: #3B4455;\n",
              "      fill: #D2E3FC;\n",
              "    }\n",
              "\n",
              "    [theme=dark] .colab-df-convert:hover {\n",
              "      background-color: #434B5C;\n",
              "      box-shadow: 0px 1px 3px 1px rgba(0, 0, 0, 0.15);\n",
              "      filter: drop-shadow(0px 1px 2px rgba(0, 0, 0, 0.3));\n",
              "      fill: #FFFFFF;\n",
              "    }\n",
              "  </style>\n",
              "\n",
              "    <script>\n",
              "      const buttonEl =\n",
              "        document.querySelector('#df-37dfa707-e498-4ab5-ab1b-003ed4488bcf button.colab-df-convert');\n",
              "      buttonEl.style.display =\n",
              "        google.colab.kernel.accessAllowed ? 'block' : 'none';\n",
              "\n",
              "      async function convertToInteractive(key) {\n",
              "        const element = document.querySelector('#df-37dfa707-e498-4ab5-ab1b-003ed4488bcf');\n",
              "        const dataTable =\n",
              "          await google.colab.kernel.invokeFunction('convertToInteractive',\n",
              "                                                    [key], {});\n",
              "        if (!dataTable) return;\n",
              "\n",
              "        const docLinkHtml = 'Like what you see? Visit the ' +\n",
              "          '<a target=\"_blank\" href=https://colab.research.google.com/notebooks/data_table.ipynb>data table notebook</a>'\n",
              "          + ' to learn more about interactive tables.';\n",
              "        element.innerHTML = '';\n",
              "        dataTable['output_type'] = 'display_data';\n",
              "        await google.colab.output.renderOutput(dataTable, element);\n",
              "        const docLink = document.createElement('div');\n",
              "        docLink.innerHTML = docLinkHtml;\n",
              "        element.appendChild(docLink);\n",
              "      }\n",
              "    </script>\n",
              "  </div>\n",
              "\n",
              "\n",
              "    <div id=\"df-55e29750-8dad-4513-9511-feb3b7ebe0b4\">\n",
              "      <button class=\"colab-df-quickchart\" onclick=\"quickchart('df-55e29750-8dad-4513-9511-feb3b7ebe0b4')\"\n",
              "                title=\"Suggest charts\"\n",
              "                style=\"display:none;\">\n",
              "\n",
              "<svg xmlns=\"http://www.w3.org/2000/svg\" height=\"24px\"viewBox=\"0 0 24 24\"\n",
              "     width=\"24px\">\n",
              "    <g>\n",
              "        <path d=\"M19 3H5c-1.1 0-2 .9-2 2v14c0 1.1.9 2 2 2h14c1.1 0 2-.9 2-2V5c0-1.1-.9-2-2-2zM9 17H7v-7h2v7zm4 0h-2V7h2v10zm4 0h-2v-4h2v4z\"/>\n",
              "    </g>\n",
              "</svg>\n",
              "      </button>\n",
              "\n",
              "<style>\n",
              "  .colab-df-quickchart {\n",
              "      --bg-color: #E8F0FE;\n",
              "      --fill-color: #1967D2;\n",
              "      --hover-bg-color: #E2EBFA;\n",
              "      --hover-fill-color: #174EA6;\n",
              "      --disabled-fill-color: #AAA;\n",
              "      --disabled-bg-color: #DDD;\n",
              "  }\n",
              "\n",
              "  [theme=dark] .colab-df-quickchart {\n",
              "      --bg-color: #3B4455;\n",
              "      --fill-color: #D2E3FC;\n",
              "      --hover-bg-color: #434B5C;\n",
              "      --hover-fill-color: #FFFFFF;\n",
              "      --disabled-bg-color: #3B4455;\n",
              "      --disabled-fill-color: #666;\n",
              "  }\n",
              "\n",
              "  .colab-df-quickchart {\n",
              "    background-color: var(--bg-color);\n",
              "    border: none;\n",
              "    border-radius: 50%;\n",
              "    cursor: pointer;\n",
              "    display: none;\n",
              "    fill: var(--fill-color);\n",
              "    height: 32px;\n",
              "    padding: 0;\n",
              "    width: 32px;\n",
              "  }\n",
              "\n",
              "  .colab-df-quickchart:hover {\n",
              "    background-color: var(--hover-bg-color);\n",
              "    box-shadow: 0 1px 2px rgba(60, 64, 67, 0.3), 0 1px 3px 1px rgba(60, 64, 67, 0.15);\n",
              "    fill: var(--button-hover-fill-color);\n",
              "  }\n",
              "\n",
              "  .colab-df-quickchart-complete:disabled,\n",
              "  .colab-df-quickchart-complete:disabled:hover {\n",
              "    background-color: var(--disabled-bg-color);\n",
              "    fill: var(--disabled-fill-color);\n",
              "    box-shadow: none;\n",
              "  }\n",
              "\n",
              "  .colab-df-spinner {\n",
              "    border: 2px solid var(--fill-color);\n",
              "    border-color: transparent;\n",
              "    border-bottom-color: var(--fill-color);\n",
              "    animation:\n",
              "      spin 1s steps(1) infinite;\n",
              "  }\n",
              "\n",
              "  @keyframes spin {\n",
              "    0% {\n",
              "      border-color: transparent;\n",
              "      border-bottom-color: var(--fill-color);\n",
              "      border-left-color: var(--fill-color);\n",
              "    }\n",
              "    20% {\n",
              "      border-color: transparent;\n",
              "      border-left-color: var(--fill-color);\n",
              "      border-top-color: var(--fill-color);\n",
              "    }\n",
              "    30% {\n",
              "      border-color: transparent;\n",
              "      border-left-color: var(--fill-color);\n",
              "      border-top-color: var(--fill-color);\n",
              "      border-right-color: var(--fill-color);\n",
              "    }\n",
              "    40% {\n",
              "      border-color: transparent;\n",
              "      border-right-color: var(--fill-color);\n",
              "      border-top-color: var(--fill-color);\n",
              "    }\n",
              "    60% {\n",
              "      border-color: transparent;\n",
              "      border-right-color: var(--fill-color);\n",
              "    }\n",
              "    80% {\n",
              "      border-color: transparent;\n",
              "      border-right-color: var(--fill-color);\n",
              "      border-bottom-color: var(--fill-color);\n",
              "    }\n",
              "    90% {\n",
              "      border-color: transparent;\n",
              "      border-bottom-color: var(--fill-color);\n",
              "    }\n",
              "  }\n",
              "</style>\n",
              "\n",
              "      <script>\n",
              "        async function quickchart(key) {\n",
              "          const quickchartButtonEl =\n",
              "            document.querySelector('#' + key + ' button');\n",
              "          quickchartButtonEl.disabled = true;  // To prevent multiple clicks.\n",
              "          quickchartButtonEl.classList.add('colab-df-spinner');\n",
              "          try {\n",
              "            const charts = await google.colab.kernel.invokeFunction(\n",
              "                'suggestCharts', [key], {});\n",
              "          } catch (error) {\n",
              "            console.error('Error during call to suggestCharts:', error);\n",
              "          }\n",
              "          quickchartButtonEl.classList.remove('colab-df-spinner');\n",
              "          quickchartButtonEl.classList.add('colab-df-quickchart-complete');\n",
              "        }\n",
              "        (() => {\n",
              "          let quickchartButtonEl =\n",
              "            document.querySelector('#df-55e29750-8dad-4513-9511-feb3b7ebe0b4 button');\n",
              "          quickchartButtonEl.style.display =\n",
              "            google.colab.kernel.accessAllowed ? 'block' : 'none';\n",
              "        })();\n",
              "      </script>\n",
              "    </div>\n",
              "\n",
              "    </div>\n",
              "  </div>\n"
            ],
            "application/vnd.google.colaboratory.intrinsic+json": {
              "type": "dataframe",
              "variable_name": "df",
              "summary": "{\n  \"name\": \"df\",\n  \"rows\": 1000,\n  \"fields\": [\n    {\n      \"column\": \"review\",\n      \"properties\": {\n        \"dtype\": \"string\",\n        \"num_unique_values\": 990,\n        \"samples\": [\n          \"The range is very decent, I've been able to roam around my house with the phone in the living room with no reception/sound quality issues.\",\n          \"The reception is excellent!\",\n          \"I would have given no star if I was able.\"\n        ],\n        \"semantic_type\": \"\",\n        \"description\": \"\"\n      }\n    },\n    {\n      \"column\": \"sentiment\",\n      \"properties\": {\n        \"dtype\": \"number\",\n        \"std\": 0,\n        \"min\": 0,\n        \"max\": 1,\n        \"num_unique_values\": 2,\n        \"samples\": [\n          1,\n          0\n        ],\n        \"semantic_type\": \"\",\n        \"description\": \"\"\n      }\n    }\n  ]\n}"
            }
          },
          "metadata": {},
          "execution_count": 4
        }
      ]
    },
    {
      "cell_type": "markdown",
      "source": [
        "The code cell above reads in the first five rows and gives a glimpse of how the data is formatted and what issues may present themselves. We can already seem some issues like use of punctuation, differences in casing, and missing spaces in between sentences."
      ],
      "metadata": {
        "id": "omMdHu2N_4JK"
      }
    },
    {
      "cell_type": "code",
      "source": [
        "# Check shape\n",
        "print(f\"Dataset shape: {df.shape}\")\n",
        "print(f\"Total reviews: {df.shape[0]}\")\n",
        "print(f\"Total columns: {df.shape[1]}\")"
      ],
      "metadata": {
        "colab": {
          "base_uri": "https://localhost:8080/"
        },
        "id": "-ybJodLQ46RD",
        "outputId": "7bedcfe1-2eb9-48a9-a51d-a77236e31f03"
      },
      "execution_count": 5,
      "outputs": [
        {
          "output_type": "stream",
          "name": "stdout",
          "text": [
            "Dataset shape: (1000, 2)\n",
            "Total reviews: 1000\n",
            "Total columns: 2\n"
          ]
        }
      ]
    },
    {
      "cell_type": "markdown",
      "source": [
        "The code cell above uses Pandas DataFrame properties to check for how many rows and columns are present, indicating there are 1,000 rows and 2 columns. This is a fairly small, fairly simply DataFrame."
      ],
      "metadata": {
        "id": "Bf8_DTIfAJpz"
      }
    },
    {
      "cell_type": "code",
      "source": [
        "# Check for missing values\n",
        "print(\"Missing values:\")\n",
        "print(df.isnull().sum())\n",
        "print(f\"\\nTotal missing: {df.isnull().sum().sum()}\")"
      ],
      "metadata": {
        "colab": {
          "base_uri": "https://localhost:8080/"
        },
        "id": "oYnsTxtnjsT2",
        "outputId": "23bc0799-24a0-4f28-d98d-2c2a35eb8a58"
      },
      "execution_count": 6,
      "outputs": [
        {
          "output_type": "stream",
          "name": "stdout",
          "text": [
            "Missing values:\n",
            "review       0\n",
            "sentiment    0\n",
            "dtype: int64\n",
            "\n",
            "Total missing: 0\n"
          ]
        }
      ]
    },
    {
      "cell_type": "markdown",
      "source": [
        "The code cell above checks for the presence of any missing values. The presence of missing values determines the logical flow of EDA by determining if there are further preprocessing steps to take (e.g., remove the observations with missing data or fill the missing data with a determined value).\n",
        "\n",
        "There are no missing values in this dataset, so we can move on without needing to address any missing values."
      ],
      "metadata": {
        "id": "WAOiFkamAbuB"
      }
    },
    {
      "cell_type": "code",
      "source": [
        "# Check for duplicates\n",
        "print(f\"Number of duplicate rows: {df.duplicated().sum()}\")\n",
        "print(f\"Percentage of duplicates: {df.duplicated().sum() / len(df) * 100:.2f}%\")"
      ],
      "metadata": {
        "colab": {
          "base_uri": "https://localhost:8080/"
        },
        "id": "jyJN9dBQ5PLD",
        "outputId": "ad376aca-a29d-4264-d396-5b6c8321c63d"
      },
      "execution_count": 7,
      "outputs": [
        {
          "output_type": "stream",
          "name": "stdout",
          "text": [
            "Number of duplicate rows: 10\n",
            "Percentage of duplicates: 1.00%\n"
          ]
        }
      ]
    },
    {
      "cell_type": "markdown",
      "source": [
        "The code cell above checks for the presence of any duplicate observations and how prevalent they are.\n",
        "\n",
        "The code finds 10 instances of duplicates, which accounts for 1% of the total dataset."
      ],
      "metadata": {
        "id": "I7O6LfgOA2dv"
      }
    },
    {
      "cell_type": "code",
      "source": [
        "# Find and examine duplicate reviews\n",
        "duplicates = df[df.duplicated(subset=['review'], keep=False)]\n",
        "duplicates_sorted = duplicates.sort_values('review')\n",
        "\n",
        "print(f\"Total duplicate entries: {len(duplicates)}\")\n",
        "print(\"\\nSample of duplicate reviews:\")\n",
        "duplicates_sorted.head(20)"
      ],
      "metadata": {
        "colab": {
          "base_uri": "https://localhost:8080/",
          "height": 728
        },
        "id": "-hlqqsDy6uz4",
        "outputId": "3b588db5-3e66-474a-a800-41ae5a39253e"
      },
      "execution_count": 8,
      "outputs": [
        {
          "output_type": "stream",
          "name": "stdout",
          "text": [
            "Total duplicate entries: 20\n",
            "\n",
            "Sample of duplicate reviews:\n"
          ]
        },
        {
          "output_type": "execute_result",
          "data": {
            "text/plain": [
              "                                                                                         review  \\\n",
              "446                                                                               Does not fit.   \n",
              "748                                                                               Does not fit.   \n",
              "180                                                                     Don't buy this product.   \n",
              "543                                                                     Don't buy this product.   \n",
              "402                                                            Excellent product for the price.   \n",
              "892                                                            Excellent product for the price.   \n",
              "792                                                                                Great Phone.   \n",
              "290                                                                                Great Phone.   \n",
              "187                                                                               Great phone!.   \n",
              "285                                                                               Great phone!.   \n",
              "896                                                                                Great phone.   \n",
              "647                                                                                Great phone.   \n",
              "179  If you like a loud buzzing to override all your conversations, then this phone is for you!   \n",
              "744  If you like a loud buzzing to override all your conversations, then this phone is for you!   \n",
              "392                                                                       This is a great deal.   \n",
              "778                                                                       This is a great deal.   \n",
              "18                                                                                Works great!.   \n",
              "524                                                                               Works great!.   \n",
              "262                                                                                Works great.   \n",
              "407                                                                                Works great.   \n",
              "\n",
              "     sentiment  \n",
              "446          0  \n",
              "748          0  \n",
              "180          0  \n",
              "543          0  \n",
              "402          1  \n",
              "892          1  \n",
              "792          1  \n",
              "290          1  \n",
              "187          1  \n",
              "285          1  \n",
              "896          1  \n",
              "647          1  \n",
              "179          0  \n",
              "744          0  \n",
              "392          1  \n",
              "778          1  \n",
              "18           1  \n",
              "524          1  \n",
              "262          1  \n",
              "407          1  "
            ],
            "text/html": [
              "\n",
              "  <div id=\"df-2c55a270-a0dd-47b9-98c4-673fdbbfc909\" class=\"colab-df-container\">\n",
              "    <div>\n",
              "<style scoped>\n",
              "    .dataframe tbody tr th:only-of-type {\n",
              "        vertical-align: middle;\n",
              "    }\n",
              "\n",
              "    .dataframe tbody tr th {\n",
              "        vertical-align: top;\n",
              "    }\n",
              "\n",
              "    .dataframe thead th {\n",
              "        text-align: right;\n",
              "    }\n",
              "</style>\n",
              "<table border=\"1\" class=\"dataframe\">\n",
              "  <thead>\n",
              "    <tr style=\"text-align: right;\">\n",
              "      <th></th>\n",
              "      <th>review</th>\n",
              "      <th>sentiment</th>\n",
              "    </tr>\n",
              "  </thead>\n",
              "  <tbody>\n",
              "    <tr>\n",
              "      <th>446</th>\n",
              "      <td>Does not fit.</td>\n",
              "      <td>0</td>\n",
              "    </tr>\n",
              "    <tr>\n",
              "      <th>748</th>\n",
              "      <td>Does not fit.</td>\n",
              "      <td>0</td>\n",
              "    </tr>\n",
              "    <tr>\n",
              "      <th>180</th>\n",
              "      <td>Don't buy this product.</td>\n",
              "      <td>0</td>\n",
              "    </tr>\n",
              "    <tr>\n",
              "      <th>543</th>\n",
              "      <td>Don't buy this product.</td>\n",
              "      <td>0</td>\n",
              "    </tr>\n",
              "    <tr>\n",
              "      <th>402</th>\n",
              "      <td>Excellent product for the price.</td>\n",
              "      <td>1</td>\n",
              "    </tr>\n",
              "    <tr>\n",
              "      <th>892</th>\n",
              "      <td>Excellent product for the price.</td>\n",
              "      <td>1</td>\n",
              "    </tr>\n",
              "    <tr>\n",
              "      <th>792</th>\n",
              "      <td>Great Phone.</td>\n",
              "      <td>1</td>\n",
              "    </tr>\n",
              "    <tr>\n",
              "      <th>290</th>\n",
              "      <td>Great Phone.</td>\n",
              "      <td>1</td>\n",
              "    </tr>\n",
              "    <tr>\n",
              "      <th>187</th>\n",
              "      <td>Great phone!.</td>\n",
              "      <td>1</td>\n",
              "    </tr>\n",
              "    <tr>\n",
              "      <th>285</th>\n",
              "      <td>Great phone!.</td>\n",
              "      <td>1</td>\n",
              "    </tr>\n",
              "    <tr>\n",
              "      <th>896</th>\n",
              "      <td>Great phone.</td>\n",
              "      <td>1</td>\n",
              "    </tr>\n",
              "    <tr>\n",
              "      <th>647</th>\n",
              "      <td>Great phone.</td>\n",
              "      <td>1</td>\n",
              "    </tr>\n",
              "    <tr>\n",
              "      <th>179</th>\n",
              "      <td>If you like a loud buzzing to override all your conversations, then this phone is for you!</td>\n",
              "      <td>0</td>\n",
              "    </tr>\n",
              "    <tr>\n",
              "      <th>744</th>\n",
              "      <td>If you like a loud buzzing to override all your conversations, then this phone is for you!</td>\n",
              "      <td>0</td>\n",
              "    </tr>\n",
              "    <tr>\n",
              "      <th>392</th>\n",
              "      <td>This is a great deal.</td>\n",
              "      <td>1</td>\n",
              "    </tr>\n",
              "    <tr>\n",
              "      <th>778</th>\n",
              "      <td>This is a great deal.</td>\n",
              "      <td>1</td>\n",
              "    </tr>\n",
              "    <tr>\n",
              "      <th>18</th>\n",
              "      <td>Works great!.</td>\n",
              "      <td>1</td>\n",
              "    </tr>\n",
              "    <tr>\n",
              "      <th>524</th>\n",
              "      <td>Works great!.</td>\n",
              "      <td>1</td>\n",
              "    </tr>\n",
              "    <tr>\n",
              "      <th>262</th>\n",
              "      <td>Works great.</td>\n",
              "      <td>1</td>\n",
              "    </tr>\n",
              "    <tr>\n",
              "      <th>407</th>\n",
              "      <td>Works great.</td>\n",
              "      <td>1</td>\n",
              "    </tr>\n",
              "  </tbody>\n",
              "</table>\n",
              "</div>\n",
              "    <div class=\"colab-df-buttons\">\n",
              "\n",
              "  <div class=\"colab-df-container\">\n",
              "    <button class=\"colab-df-convert\" onclick=\"convertToInteractive('df-2c55a270-a0dd-47b9-98c4-673fdbbfc909')\"\n",
              "            title=\"Convert this dataframe to an interactive table.\"\n",
              "            style=\"display:none;\">\n",
              "\n",
              "  <svg xmlns=\"http://www.w3.org/2000/svg\" height=\"24px\" viewBox=\"0 -960 960 960\">\n",
              "    <path d=\"M120-120v-720h720v720H120Zm60-500h600v-160H180v160Zm220 220h160v-160H400v160Zm0 220h160v-160H400v160ZM180-400h160v-160H180v160Zm440 0h160v-160H620v160ZM180-180h160v-160H180v160Zm440 0h160v-160H620v160Z\"/>\n",
              "  </svg>\n",
              "    </button>\n",
              "\n",
              "  <style>\n",
              "    .colab-df-container {\n",
              "      display:flex;\n",
              "      gap: 12px;\n",
              "    }\n",
              "\n",
              "    .colab-df-convert {\n",
              "      background-color: #E8F0FE;\n",
              "      border: none;\n",
              "      border-radius: 50%;\n",
              "      cursor: pointer;\n",
              "      display: none;\n",
              "      fill: #1967D2;\n",
              "      height: 32px;\n",
              "      padding: 0 0 0 0;\n",
              "      width: 32px;\n",
              "    }\n",
              "\n",
              "    .colab-df-convert:hover {\n",
              "      background-color: #E2EBFA;\n",
              "      box-shadow: 0px 1px 2px rgba(60, 64, 67, 0.3), 0px 1px 3px 1px rgba(60, 64, 67, 0.15);\n",
              "      fill: #174EA6;\n",
              "    }\n",
              "\n",
              "    .colab-df-buttons div {\n",
              "      margin-bottom: 4px;\n",
              "    }\n",
              "\n",
              "    [theme=dark] .colab-df-convert {\n",
              "      background-color: #3B4455;\n",
              "      fill: #D2E3FC;\n",
              "    }\n",
              "\n",
              "    [theme=dark] .colab-df-convert:hover {\n",
              "      background-color: #434B5C;\n",
              "      box-shadow: 0px 1px 3px 1px rgba(0, 0, 0, 0.15);\n",
              "      filter: drop-shadow(0px 1px 2px rgba(0, 0, 0, 0.3));\n",
              "      fill: #FFFFFF;\n",
              "    }\n",
              "  </style>\n",
              "\n",
              "    <script>\n",
              "      const buttonEl =\n",
              "        document.querySelector('#df-2c55a270-a0dd-47b9-98c4-673fdbbfc909 button.colab-df-convert');\n",
              "      buttonEl.style.display =\n",
              "        google.colab.kernel.accessAllowed ? 'block' : 'none';\n",
              "\n",
              "      async function convertToInteractive(key) {\n",
              "        const element = document.querySelector('#df-2c55a270-a0dd-47b9-98c4-673fdbbfc909');\n",
              "        const dataTable =\n",
              "          await google.colab.kernel.invokeFunction('convertToInteractive',\n",
              "                                                    [key], {});\n",
              "        if (!dataTable) return;\n",
              "\n",
              "        const docLinkHtml = 'Like what you see? Visit the ' +\n",
              "          '<a target=\"_blank\" href=https://colab.research.google.com/notebooks/data_table.ipynb>data table notebook</a>'\n",
              "          + ' to learn more about interactive tables.';\n",
              "        element.innerHTML = '';\n",
              "        dataTable['output_type'] = 'display_data';\n",
              "        await google.colab.output.renderOutput(dataTable, element);\n",
              "        const docLink = document.createElement('div');\n",
              "        docLink.innerHTML = docLinkHtml;\n",
              "        element.appendChild(docLink);\n",
              "      }\n",
              "    </script>\n",
              "  </div>\n",
              "\n",
              "\n",
              "    <div id=\"df-6fa23474-e877-4871-bdf2-b27fe01042e7\">\n",
              "      <button class=\"colab-df-quickchart\" onclick=\"quickchart('df-6fa23474-e877-4871-bdf2-b27fe01042e7')\"\n",
              "                title=\"Suggest charts\"\n",
              "                style=\"display:none;\">\n",
              "\n",
              "<svg xmlns=\"http://www.w3.org/2000/svg\" height=\"24px\"viewBox=\"0 0 24 24\"\n",
              "     width=\"24px\">\n",
              "    <g>\n",
              "        <path d=\"M19 3H5c-1.1 0-2 .9-2 2v14c0 1.1.9 2 2 2h14c1.1 0 2-.9 2-2V5c0-1.1-.9-2-2-2zM9 17H7v-7h2v7zm4 0h-2V7h2v10zm4 0h-2v-4h2v4z\"/>\n",
              "    </g>\n",
              "</svg>\n",
              "      </button>\n",
              "\n",
              "<style>\n",
              "  .colab-df-quickchart {\n",
              "      --bg-color: #E8F0FE;\n",
              "      --fill-color: #1967D2;\n",
              "      --hover-bg-color: #E2EBFA;\n",
              "      --hover-fill-color: #174EA6;\n",
              "      --disabled-fill-color: #AAA;\n",
              "      --disabled-bg-color: #DDD;\n",
              "  }\n",
              "\n",
              "  [theme=dark] .colab-df-quickchart {\n",
              "      --bg-color: #3B4455;\n",
              "      --fill-color: #D2E3FC;\n",
              "      --hover-bg-color: #434B5C;\n",
              "      --hover-fill-color: #FFFFFF;\n",
              "      --disabled-bg-color: #3B4455;\n",
              "      --disabled-fill-color: #666;\n",
              "  }\n",
              "\n",
              "  .colab-df-quickchart {\n",
              "    background-color: var(--bg-color);\n",
              "    border: none;\n",
              "    border-radius: 50%;\n",
              "    cursor: pointer;\n",
              "    display: none;\n",
              "    fill: var(--fill-color);\n",
              "    height: 32px;\n",
              "    padding: 0;\n",
              "    width: 32px;\n",
              "  }\n",
              "\n",
              "  .colab-df-quickchart:hover {\n",
              "    background-color: var(--hover-bg-color);\n",
              "    box-shadow: 0 1px 2px rgba(60, 64, 67, 0.3), 0 1px 3px 1px rgba(60, 64, 67, 0.15);\n",
              "    fill: var(--button-hover-fill-color);\n",
              "  }\n",
              "\n",
              "  .colab-df-quickchart-complete:disabled,\n",
              "  .colab-df-quickchart-complete:disabled:hover {\n",
              "    background-color: var(--disabled-bg-color);\n",
              "    fill: var(--disabled-fill-color);\n",
              "    box-shadow: none;\n",
              "  }\n",
              "\n",
              "  .colab-df-spinner {\n",
              "    border: 2px solid var(--fill-color);\n",
              "    border-color: transparent;\n",
              "    border-bottom-color: var(--fill-color);\n",
              "    animation:\n",
              "      spin 1s steps(1) infinite;\n",
              "  }\n",
              "\n",
              "  @keyframes spin {\n",
              "    0% {\n",
              "      border-color: transparent;\n",
              "      border-bottom-color: var(--fill-color);\n",
              "      border-left-color: var(--fill-color);\n",
              "    }\n",
              "    20% {\n",
              "      border-color: transparent;\n",
              "      border-left-color: var(--fill-color);\n",
              "      border-top-color: var(--fill-color);\n",
              "    }\n",
              "    30% {\n",
              "      border-color: transparent;\n",
              "      border-left-color: var(--fill-color);\n",
              "      border-top-color: var(--fill-color);\n",
              "      border-right-color: var(--fill-color);\n",
              "    }\n",
              "    40% {\n",
              "      border-color: transparent;\n",
              "      border-right-color: var(--fill-color);\n",
              "      border-top-color: var(--fill-color);\n",
              "    }\n",
              "    60% {\n",
              "      border-color: transparent;\n",
              "      border-right-color: var(--fill-color);\n",
              "    }\n",
              "    80% {\n",
              "      border-color: transparent;\n",
              "      border-right-color: var(--fill-color);\n",
              "      border-bottom-color: var(--fill-color);\n",
              "    }\n",
              "    90% {\n",
              "      border-color: transparent;\n",
              "      border-bottom-color: var(--fill-color);\n",
              "    }\n",
              "  }\n",
              "</style>\n",
              "\n",
              "      <script>\n",
              "        async function quickchart(key) {\n",
              "          const quickchartButtonEl =\n",
              "            document.querySelector('#' + key + ' button');\n",
              "          quickchartButtonEl.disabled = true;  // To prevent multiple clicks.\n",
              "          quickchartButtonEl.classList.add('colab-df-spinner');\n",
              "          try {\n",
              "            const charts = await google.colab.kernel.invokeFunction(\n",
              "                'suggestCharts', [key], {});\n",
              "          } catch (error) {\n",
              "            console.error('Error during call to suggestCharts:', error);\n",
              "          }\n",
              "          quickchartButtonEl.classList.remove('colab-df-spinner');\n",
              "          quickchartButtonEl.classList.add('colab-df-quickchart-complete');\n",
              "        }\n",
              "        (() => {\n",
              "          let quickchartButtonEl =\n",
              "            document.querySelector('#df-6fa23474-e877-4871-bdf2-b27fe01042e7 button');\n",
              "          quickchartButtonEl.style.display =\n",
              "            google.colab.kernel.accessAllowed ? 'block' : 'none';\n",
              "        })();\n",
              "      </script>\n",
              "    </div>\n",
              "\n",
              "    </div>\n",
              "  </div>\n"
            ],
            "application/vnd.google.colaboratory.intrinsic+json": {
              "type": "dataframe",
              "variable_name": "duplicates_sorted",
              "summary": "{\n  \"name\": \"duplicates_sorted\",\n  \"rows\": 20,\n  \"fields\": [\n    {\n      \"column\": \"review\",\n      \"properties\": {\n        \"dtype\": \"string\",\n        \"num_unique_values\": 10,\n        \"samples\": [\n          \"Works great!.\",\n          \"Don't buy this product.\",\n          \"Great phone.\"\n        ],\n        \"semantic_type\": \"\",\n        \"description\": \"\"\n      }\n    },\n    {\n      \"column\": \"sentiment\",\n      \"properties\": {\n        \"dtype\": \"number\",\n        \"std\": 0,\n        \"min\": 0,\n        \"max\": 1,\n        \"num_unique_values\": 2,\n        \"samples\": [\n          1,\n          0\n        ],\n        \"semantic_type\": \"\",\n        \"description\": \"\"\n      }\n    }\n  ]\n}"
            }
          },
          "metadata": {},
          "execution_count": 8
        }
      ]
    },
    {
      "cell_type": "markdown",
      "source": [
        "The code cell above pulls out the duplicates and sorts them by ascending alphabetical order so that they are paired together by value rather than row ID. This step is valuable so we can determine if any of the duplicates appear to be legitimate or they appear to be actual duplicates.\n",
        "\n",
        "Based on the small number of duplicates and the presence of the same unusual punctuation combinations appearing in a few of the examples, we can remove all duplicates while keeping the first occurrence."
      ],
      "metadata": {
        "id": "BQhXla9uBFzP"
      }
    },
    {
      "cell_type": "code",
      "source": [
        "# Remove exact duplicates, keeping the first occurrence\n",
        "df_clean = df.drop_duplicates(keep='first')\n",
        "\n",
        "print(f\"Original dataset: {len(df)} rows\")\n",
        "print(f\"After removing duplicates: {len(df_clean)} rows\")\n",
        "print(f\"Duplicates removed: {len(df) - len(df_clean)}\")"
      ],
      "metadata": {
        "colab": {
          "base_uri": "https://localhost:8080/"
        },
        "id": "1-PA1xgd66IQ",
        "outputId": "aac08e6e-8a32-47a6-a0ef-8e420773cafe"
      },
      "execution_count": 9,
      "outputs": [
        {
          "output_type": "stream",
          "name": "stdout",
          "text": [
            "Original dataset: 1000 rows\n",
            "After removing duplicates: 990 rows\n",
            "Duplicates removed: 10\n"
          ]
        }
      ]
    },
    {
      "cell_type": "markdown",
      "source": [
        "The code cell above removes the duplicate rows, keeping the first occurrence of the value and saving the results in a new copy of the DataFrame. It then checks the size of the cleaned DataFrame to confirm the removal of duplicates and compares the size to the original DataFrame."
      ],
      "metadata": {
        "id": "nmF0bRj4B6k1"
      }
    },
    {
      "cell_type": "code",
      "source": [
        "# Check unique values in sentiment column\n",
        "print(\"Unique sentiment values:\")\n",
        "print(df_clean['sentiment'].unique())\n",
        "print(f\"Number of unique sentiment values: {df_clean['sentiment'].nunique()}\")"
      ],
      "metadata": {
        "colab": {
          "base_uri": "https://localhost:8080/"
        },
        "id": "r4uE3EAyjzw7",
        "outputId": "70b0511c-0cf4-4a03-dec0-8ff2028c2f14"
      },
      "execution_count": 10,
      "outputs": [
        {
          "output_type": "stream",
          "name": "stdout",
          "text": [
            "Unique sentiment values:\n",
            "[0 1]\n",
            "Number of unique sentiment values: 2\n"
          ]
        }
      ]
    },
    {
      "cell_type": "markdown",
      "source": [
        "The code cell above checks the DataFrame's `'sentiment'` column for unique values to ensure that there are only the expected binary values of `0` for negative sentiment and `1` for positive sentiment. There are no unexpected values."
      ],
      "metadata": {
        "id": "bgFNnC6_CPO9"
      }
    },
    {
      "cell_type": "code",
      "source": [
        "# Check for class balance\n",
        "print(\"Sentiment distribution:\")\n",
        "print(df_clean['sentiment'].value_counts())\n",
        "print(\"\\nSentiment distribution (percentages):\")\n",
        "print(df_clean['sentiment'].value_counts(normalize=True) * 100)"
      ],
      "metadata": {
        "colab": {
          "base_uri": "https://localhost:8080/"
        },
        "id": "tjKykTEWj5z3",
        "outputId": "c922ac18-1b9b-4489-b3c3-27f339bd56e5"
      },
      "execution_count": 11,
      "outputs": [
        {
          "output_type": "stream",
          "name": "stdout",
          "text": [
            "Sentiment distribution:\n",
            "sentiment\n",
            "0    497\n",
            "1    493\n",
            "Name: count, dtype: int64\n",
            "\n",
            "Sentiment distribution (percentages):\n",
            "sentiment\n",
            "0    50.20202\n",
            "1    49.79798\n",
            "Name: proportion, dtype: float64\n"
          ]
        }
      ]
    },
    {
      "cell_type": "markdown",
      "source": [
        "The code cell above checks how balanced the sentiment is across negative and positive reviews, both in actual numbers and in proportion to the full remaining dataset.\n",
        "\n",
        "After removing the duplicates, there are 497 negative reviews and 493 positive reviews. Based on the small difference, we can consider this dataset to be balanced.\n",
        "\n",
        "This information is important to keep in mind for when we split our datasets into train/validation/test datasets later in step **B5. Steps to Prepare the Data**, as we'll want to keep the proportions while shuffling the data. This ensures that the model *can't* learn from patterns that occur based on what order the data was added to the dataset but that it *can* learn, validate, and test fairly across representative proportions."
      ],
      "metadata": {
        "id": "I5sli09oDBES"
      }
    },
    {
      "cell_type": "code",
      "source": [
        "# Visualize class balance\n",
        "plt.figure(figsize=(8, 5))\n",
        "sentiment_counts = df_clean['sentiment'].value_counts()\n",
        "bars = plt.bar(sentiment_counts.index, sentiment_counts.values, color=['#A6192E', '#5CB8B2'])\n",
        "\n",
        "# Add value labels on top of each bar\n",
        "for bar in bars:\n",
        "    height = bar.get_height()\n",
        "    plt.text(bar.get_x() + bar.get_width()/2., height,\n",
        "             f'{int(height)}',\n",
        "             ha='center', va='bottom', fontsize=12, fontweight='bold')\n",
        "\n",
        "plt.title('Sentiment Distribution', fontsize=14, fontweight='bold')\n",
        "plt.xlabel('Sentiment (0=Negative, 1=Positive)', fontsize=12)\n",
        "plt.ylabel('Count', fontsize=12)\n",
        "plt.xticks([0, 1])\n",
        "plt.tight_layout()\n",
        "plt.show()"
      ],
      "metadata": {
        "colab": {
          "base_uri": "https://localhost:8080/",
          "height": 507
        },
        "id": "ZBzQus11n5hu",
        "outputId": "6529ad39-4612-46f8-dfc1-8c038b69370c"
      },
      "execution_count": 12,
      "outputs": [
        {
          "output_type": "display_data",
          "data": {
            "text/plain": [
              "<Figure size 800x500 with 1 Axes>"
            ],
            "image/png": "[encoded data removed]"
          },
          "metadata": {}
        }
      ]
    },
    {
      "cell_type": "markdown",
      "source": [
        "The code cell above visualizes the class balance of negative and positive sentiment observations for the full cleaned dataset. The exact values are added above each bar because they are nearly indecipherable at a visual glance."
      ],
      "metadata": {
        "id": "NdlMRP7PEEXr"
      }
    },
    {
      "cell_type": "markdown",
      "source": [
        "#### Presence of unusual characters"
      ],
      "metadata": {
        "id": "fkUygOJ_m7nv"
      }
    },
    {
      "cell_type": "markdown",
      "source": [
        "**Analyze Unusual Characters Before Cleaning**\n",
        "\n",
        "Working definition of unusual characters: Any emojis, non-English characters, non-Unicode characters, punctuation, or control characters"
      ],
      "metadata": {
        "id": "TMHs2rV0ErYy"
      }
    },
    {
      "cell_type": "code",
      "source": [
        "# Load additional libraries\n",
        "import re\n",
        "import string\n",
        "from collections import Counter"
      ],
      "metadata": {
        "id": "Honqpt5mFBr2"
      },
      "execution_count": 13,
      "outputs": []
    },
    {
      "cell_type": "code",
      "source": [
        "# Convert all text to lowercase for consistent analysis\n",
        "df_clean.loc[:, 'review_lower'] = df_clean['review'].str.lower()\n",
        "df_clean.head()"
      ],
      "metadata": {
        "colab": {
          "base_uri": "https://localhost:8080/",
          "height": 241
        },
        "id": "TzJCaXet7AhK",
        "outputId": "2e053aeb-60d0-4338-9b26-be0a8e33d5d3"
      },
      "execution_count": 23,
      "outputs": [
        {
          "output_type": "execute_result",
          "data": {
            "text/plain": [
              "                                                                               review  \\\n",
              "0  So there is no way for me to plug it in here in the US unless I go by a converter.   \n",
              "1                                                         Good case, Excellent value.   \n",
              "2                                                              Great for the jawbone.   \n",
              "3     Tied to charger for conversations lasting more than 45 minutes.MAJOR PROBLEMS!!   \n",
              "4                                                                   The mic is great.   \n",
              "\n",
              "   sentiment  \\\n",
              "0          0   \n",
              "1          1   \n",
              "2          1   \n",
              "3          0   \n",
              "4          1   \n",
              "\n",
              "                                                                         review_lower  \\\n",
              "0  so there is no way for me to plug it in here in the us unless i go by a converter.   \n",
              "1                                                         good case, excellent value.   \n",
              "2                                                              great for the jawbone.   \n",
              "3     tied to charger for conversations lasting more than 45 minutes.major problems!!   \n",
              "4                                                                   the mic is great.   \n",
              "\n",
              "                                                                        review_clean  \n",
              "0  so there is no way for me to plug it in here in the us unless i go by a converter  \n",
              "1                                                          good case excellent value  \n",
              "2                                                              great for the jawbone  \n",
              "3         tied to charger for conversations lasting more than minutes major problems  \n",
              "4                                                                   the mic is great  "
            ],
            "text/html": [
              "\n",
              "  <div id=\"df-fcef5849-4c5f-4daa-9529-744535ea74bf\" class=\"colab-df-container\">\n",
              "    <div>\n",
              "<style scoped>\n",
              "    .dataframe tbody tr th:only-of-type {\n",
              "        vertical-align: middle;\n",
              "    }\n",
              "\n",
              "    .dataframe tbody tr th {\n",
              "        vertical-align: top;\n",
              "    }\n",
              "\n",
              "    .dataframe thead th {\n",
              "        text-align: right;\n",
              "    }\n",
              "</style>\n",
              "<table border=\"1\" class=\"dataframe\">\n",
              "  <thead>\n",
              "    <tr style=\"text-align: right;\">\n",
              "      <th></th>\n",
              "      <th>review</th>\n",
              "      <th>sentiment</th>\n",
              "      <th>review_lower</th>\n",
              "      <th>review_clean</th>\n",
              "    </tr>\n",
              "  </thead>\n",
              "  <tbody>\n",
              "    <tr>\n",
              "      <th>0</th>\n",
              "      <td>So there is no way for me to plug it in here in the US unless I go by a converter.</td>\n",
              "      <td>0</td>\n",
              "      <td>so there is no way for me to plug it in here in the us unless i go by a converter.</td>\n",
              "      <td>so there is no way for me to plug it in here in the us unless i go by a converter</td>\n",
              "    </tr>\n",
              "    <tr>\n",
              "      <th>1</th>\n",
              "      <td>Good case, Excellent value.</td>\n",
              "      <td>1</td>\n",
              "      <td>good case, excellent value.</td>\n",
              "      <td>good case excellent value</td>\n",
              "    </tr>\n",
              "    <tr>\n",
              "      <th>2</th>\n",
              "      <td>Great for the jawbone.</td>\n",
              "      <td>1</td>\n",
              "      <td>great for the jawbone.</td>\n",
              "      <td>great for the jawbone</td>\n",
              "    </tr>\n",
              "    <tr>\n",
              "      <th>3</th>\n",
              "      <td>Tied to charger for conversations lasting more than 45 minutes.MAJOR PROBLEMS!!</td>\n",
              "      <td>0</td>\n",
              "      <td>tied to charger for conversations lasting more than 45 minutes.major problems!!</td>\n",
              "      <td>tied to charger for conversations lasting more than minutes major problems</td>\n",
              "    </tr>\n",
              "    <tr>\n",
              "      <th>4</th>\n",
              "      <td>The mic is great.</td>\n",
              "      <td>1</td>\n",
              "      <td>the mic is great.</td>\n",
              "      <td>the mic is great</td>\n",
              "    </tr>\n",
              "  </tbody>\n",
              "</table>\n",
              "</div>\n",
              "    <div class=\"colab-df-buttons\">\n",
              "\n",
              "  <div class=\"colab-df-container\">\n",
              "    <button class=\"colab-df-convert\" onclick=\"convertToInteractive('df-fcef5849-4c5f-4daa-9529-744535ea74bf')\"\n",
              "            title=\"Convert this dataframe to an interactive table.\"\n",
              "            style=\"display:none;\">\n",
              "\n",
              "  <svg xmlns=\"http://www.w3.org/2000/svg\" height=\"24px\" viewBox=\"0 -960 960 960\">\n",
              "    <path d=\"M120-120v-720h720v720H120Zm60-500h600v-160H180v160Zm220 220h160v-160H400v160Zm0 220h160v-160H400v160ZM180-400h160v-160H180v160Zm440 0h160v-160H620v160ZM180-180h160v-160H180v160Zm440 0h160v-160H620v160Z\"/>\n",
              "  </svg>\n",
              "    </button>\n",
              "\n",
              "  <style>\n",
              "    .colab-df-container {\n",
              "      display:flex;\n",
              "      gap: 12px;\n",
              "    }\n",
              "\n",
              "    .colab-df-convert {\n",
              "      background-color: #E8F0FE;\n",
              "      border: none;\n",
              "      border-radius: 50%;\n",
              "      cursor: pointer;\n",
              "      display: none;\n",
              "      fill: #1967D2;\n",
              "      height: 32px;\n",
              "      padding: 0 0 0 0;\n",
              "      width: 32px;\n",
              "    }\n",
              "\n",
              "    .colab-df-convert:hover {\n",
              "      background-color: #E2EBFA;\n",
              "      box-shadow: 0px 1px 2px rgba(60, 64, 67, 0.3), 0px 1px 3px 1px rgba(60, 64, 67, 0.15);\n",
              "      fill: #174EA6;\n",
              "    }\n",
              "\n",
              "    .colab-df-buttons div {\n",
              "      margin-bottom: 4px;\n",
              "    }\n",
              "\n",
              "    [theme=dark] .colab-df-convert {\n",
              "      background-color: #3B4455;\n",
              "      fill: #D2E3FC;\n",
              "    }\n",
              "\n",
              "    [theme=dark] .colab-df-convert:hover {\n",
              "      background-color: #434B5C;\n",
              "      box-shadow: 0px 1px 3px 1px rgba(0, 0, 0, 0.15);\n",
              "      filter: drop-shadow(0px 1px 2px rgba(0, 0, 0, 0.3));\n",
              "      fill: #FFFFFF;\n",
              "    }\n",
              "  </style>\n",
              "\n",
              "    <script>\n",
              "      const buttonEl =\n",
              "        document.querySelector('#df-fcef5849-4c5f-4daa-9529-744535ea74bf button.colab-df-convert');\n",
              "      buttonEl.style.display =\n",
              "        google.colab.kernel.accessAllowed ? 'block' : 'none';\n",
              "\n",
              "      async function convertToInteractive(key) {\n",
              "        const element = document.querySelector('#df-fcef5849-4c5f-4daa-9529-744535ea74bf');\n",
              "        const dataTable =\n",
              "          await google.colab.kernel.invokeFunction('convertToInteractive',\n",
              "                                                    [key], {});\n",
              "        if (!dataTable) return;\n",
              "\n",
              "        const docLinkHtml = 'Like what you see? Visit the ' +\n",
              "          '<a target=\"_blank\" href=https://colab.research.google.com/notebooks/data_table.ipynb>data table notebook</a>'\n",
              "          + ' to learn more about interactive tables.';\n",
              "        element.innerHTML = '';\n",
              "        dataTable['output_type'] = 'display_data';\n",
              "        await google.colab.output.renderOutput(dataTable, element);\n",
              "        const docLink = document.createElement('div');\n",
              "        docLink.innerHTML = docLinkHtml;\n",
              "        element.appendChild(docLink);\n",
              "      }\n",
              "    </script>\n",
              "  </div>\n",
              "\n",
              "\n",
              "    <div id=\"df-fc0dc60f-0e70-43b3-8fae-b13763d73b12\">\n",
              "      <button class=\"colab-df-quickchart\" onclick=\"quickchart('df-fc0dc60f-0e70-43b3-8fae-b13763d73b12')\"\n",
              "                title=\"Suggest charts\"\n",
              "                style=\"display:none;\">\n",
              "\n",
              "<svg xmlns=\"http://www.w3.org/2000/svg\" height=\"24px\"viewBox=\"0 0 24 24\"\n",
              "     width=\"24px\">\n",
              "    <g>\n",
              "        <path d=\"M19 3H5c-1.1 0-2 .9-2 2v14c0 1.1.9 2 2 2h14c1.1 0 2-.9 2-2V5c0-1.1-.9-2-2-2zM9 17H7v-7h2v7zm4 0h-2V7h2v10zm4 0h-2v-4h2v4z\"/>\n",
              "    </g>\n",
              "</svg>\n",
              "      </button>\n",
              "\n",
              "<style>\n",
              "  .colab-df-quickchart {\n",
              "      --bg-color: #E8F0FE;\n",
              "      --fill-color: #1967D2;\n",
              "      --hover-bg-color: #E2EBFA;\n",
              "      --hover-fill-color: #174EA6;\n",
              "      --disabled-fill-color: #AAA;\n",
              "      --disabled-bg-color: #DDD;\n",
              "  }\n",
              "\n",
              "  [theme=dark] .colab-df-quickchart {\n",
              "      --bg-color: #3B4455;\n",
              "      --fill-color: #D2E3FC;\n",
              "      --hover-bg-color: #434B5C;\n",
              "      --hover-fill-color: #FFFFFF;\n",
              "      --disabled-bg-color: #3B4455;\n",
              "      --disabled-fill-color: #666;\n",
              "  }\n",
              "\n",
              "  .colab-df-quickchart {\n",
              "    background-color: var(--bg-color);\n",
              "    border: none;\n",
              "    border-radius: 50%;\n",
              "    cursor: pointer;\n",
              "    display: none;\n",
              "    fill: var(--fill-color);\n",
              "    height: 32px;\n",
              "    padding: 0;\n",
              "    width: 32px;\n",
              "  }\n",
              "\n",
              "  .colab-df-quickchart:hover {\n",
              "    background-color: var(--hover-bg-color);\n",
              "    box-shadow: 0 1px 2px rgba(60, 64, 67, 0.3), 0 1px 3px 1px rgba(60, 64, 67, 0.15);\n",
              "    fill: var(--button-hover-fill-color);\n",
              "  }\n",
              "\n",
              "  .colab-df-quickchart-complete:disabled,\n",
              "  .colab-df-quickchart-complete:disabled:hover {\n",
              "    background-color: var(--disabled-bg-color);\n",
              "    fill: var(--disabled-fill-color);\n",
              "    box-shadow: none;\n",
              "  }\n",
              "\n",
              "  .colab-df-spinner {\n",
              "    border: 2px solid var(--fill-color);\n",
              "    border-color: transparent;\n",
              "    border-bottom-color: var(--fill-color);\n",
              "    animation:\n",
              "      spin 1s steps(1) infinite;\n",
              "  }\n",
              "\n",
              "  @keyframes spin {\n",
              "    0% {\n",
              "      border-color: transparent;\n",
              "      border-bottom-color: var(--fill-color);\n",
              "      border-left-color: var(--fill-color);\n",
              "    }\n",
              "    20% {\n",
              "      border-color: transparent;\n",
              "      border-left-color: var(--fill-color);\n",
              "      border-top-color: var(--fill-color);\n",
              "    }\n",
              "    30% {\n",
              "      border-color: transparent;\n",
              "      border-left-color: var(--fill-color);\n",
              "      border-top-color: var(--fill-color);\n",
              "      border-right-color: var(--fill-color);\n",
              "    }\n",
              "    40% {\n",
              "      border-color: transparent;\n",
              "      border-right-color: var(--fill-color);\n",
              "      border-top-color: var(--fill-color);\n",
              "    }\n",
              "    60% {\n",
              "      border-color: transparent;\n",
              "      border-right-color: var(--fill-color);\n",
              "    }\n",
              "    80% {\n",
              "      border-color: transparent;\n",
              "      border-right-color: var(--fill-color);\n",
              "      border-bottom-color: var(--fill-color);\n",
              "    }\n",
              "    90% {\n",
              "      border-color: transparent;\n",
              "      border-bottom-color: var(--fill-color);\n",
              "    }\n",
              "  }\n",
              "</style>\n",
              "\n",
              "      <script>\n",
              "        async function quickchart(key) {\n",
              "          const quickchartButtonEl =\n",
              "            document.querySelector('#' + key + ' button');\n",
              "          quickchartButtonEl.disabled = true;  // To prevent multiple clicks.\n",
              "          quickchartButtonEl.classList.add('colab-df-spinner');\n",
              "          try {\n",
              "            const charts = await google.colab.kernel.invokeFunction(\n",
              "                'suggestCharts', [key], {});\n",
              "          } catch (error) {\n",
              "            console.error('Error during call to suggestCharts:', error);\n",
              "          }\n",
              "          quickchartButtonEl.classList.remove('colab-df-spinner');\n",
              "          quickchartButtonEl.classList.add('colab-df-quickchart-complete');\n",
              "        }\n",
              "        (() => {\n",
              "          let quickchartButtonEl =\n",
              "            document.querySelector('#df-fc0dc60f-0e70-43b3-8fae-b13763d73b12 button');\n",
              "          quickchartButtonEl.style.display =\n",
              "            google.colab.kernel.accessAllowed ? 'block' : 'none';\n",
              "        })();\n",
              "      </script>\n",
              "    </div>\n",
              "\n",
              "    </div>\n",
              "  </div>\n"
            ],
            "application/vnd.google.colaboratory.intrinsic+json": {
              "type": "dataframe",
              "variable_name": "df_clean",
              "summary": "{\n  \"name\": \"df_clean\",\n  \"rows\": 990,\n  \"fields\": [\n    {\n      \"column\": \"review\",\n      \"properties\": {\n        \"dtype\": \"string\",\n        \"num_unique_values\": 990,\n        \"samples\": [\n          \"The range is very decent, I've been able to roam around my house with the phone in the living room with no reception/sound quality issues.\",\n          \"The reception is excellent!\",\n          \"I would have given no star if I was able.\"\n        ],\n        \"semantic_type\": \"\",\n        \"description\": \"\"\n      }\n    },\n    {\n      \"column\": \"sentiment\",\n      \"properties\": {\n        \"dtype\": \"number\",\n        \"std\": 0,\n        \"min\": 0,\n        \"max\": 1,\n        \"num_unique_values\": 2,\n        \"samples\": [\n          1,\n          0\n        ],\n        \"semantic_type\": \"\",\n        \"description\": \"\"\n      }\n    },\n    {\n      \"column\": \"review_lower\",\n      \"properties\": {\n        \"dtype\": \"string\",\n        \"num_unique_values\": 987,\n        \"samples\": [\n          \"the instruction manual is lacking.\",\n          \"voice recognition is tremendous!\"\n        ],\n        \"semantic_type\": \"\",\n        \"description\": \"\"\n      }\n    },\n    {\n      \"column\": \"review_clean\",\n      \"properties\": {\n        \"dtype\": \"string\",\n        \"num_unique_values\": 983,\n        \"samples\": [\n          \"they keep getting better and better this is my third one and i ve had numerous palms too\",\n          \"battery has no life\"\n        ],\n        \"semantic_type\": \"\",\n        \"description\": \"\"\n      }\n    }\n  ]\n}"
            }
          },
          "metadata": {},
          "execution_count": 23
        }
      ]
    },
    {
      "cell_type": "markdown",
      "source": [
        "The code cell above creates a new column in the DataFrame, `review_lower` that converts all text to lowercase. This avoids duplicating words or letters (e.g. \"Good\" is different from \"good\" and \"A\" is different from \"a\")."
      ],
      "metadata": {
        "id": "12lu_QLcEmE_"
      }
    },
    {
      "cell_type": "code",
      "source": [
        "# Combine all text into one string to analyze all characters at once\n",
        "all_text = ' '.join(df_clean['review_lower'].astype(str))\n",
        "\n",
        "# Get all unique characters and their frequencies\n",
        "char_frequency = Counter(all_text)\n",
        "\n",
        "# Categorize characters\n",
        "# (Python Documentation - string module)\n",
        "letters = set(string.ascii_lowercase)  # a-z\n",
        "digits = set(string.digits)  # 0-9\n",
        "punctuation = set(string.punctuation)  # !\"#$%&'()*+, etc.\n",
        "whitespace = set(string.whitespace)  # space, tab, newline, etc.\n",
        "\n",
        "# Categorize each character\n",
        "categorized_chars = {\n",
        "    'letters': {},\n",
        "    'digits': {},\n",
        "    'punctuation': {},\n",
        "    'whitespace': {},\n",
        "    'unusual': {}  # Anything else (emojis, non-English, etc.)\n",
        "}\n",
        "\n",
        "for char, count in char_frequency.items():\n",
        "    if char in letters:\n",
        "        categorized_chars['letters'][char] = count\n",
        "    elif char in digits:\n",
        "        categorized_chars['digits'][char] = count\n",
        "    elif char in punctuation:\n",
        "        categorized_chars['punctuation'][char] = count\n",
        "    elif char in whitespace:\n",
        "        categorized_chars['whitespace'][char] = count\n",
        "    else:\n",
        "        categorized_chars['unusual'][char] = count\n",
        "\n",
        "# Display findings\n",
        "print(\"=\" * 60)\n",
        "print(\"--- Character Analysis ---\")\n",
        "print(\"=\" * 60)\n",
        "\n",
        "for category, chars in categorized_chars.items():\n",
        "    if chars:  # Only show categories that have characters\n",
        "        print(f\"\\n--- {category.title()} ---:\")\n",
        "        print(f\"  Total unique: {len(chars)}\")\n",
        "        print(f\"  Total occurrences: {sum(chars.values())}\")\n",
        "        if category in ['punctuation', 'unusual']:\n",
        "            # Show individual characters for punctuation and unusual\n",
        "            print(f\"  Characters found: {sorted(chars.keys())}\")\n",
        "            print(f\"  Frequencies: {dict(sorted(chars.items(), key=lambda x: x[1], reverse=True)[:])}\")"
      ],
      "metadata": {
        "colab": {
          "base_uri": "https://localhost:8080/"
        },
        "id": "dKnWF4D34QMQ",
        "outputId": "2ec70e9f-e251-4e26-da61-dd34e99b9623"
      },
      "execution_count": 24,
      "outputs": [
        {
          "output_type": "stream",
          "name": "stdout",
          "text": [
            "============================================================\n",
            "--- Character Analysis ---\n",
            "============================================================\n",
            "\n",
            "--- Letters ---:\n",
            "  Total unique: 26\n",
            "  Total occurrences: 43646\n",
            "\n",
            "--- Digits ---:\n",
            "  Total unique: 10\n",
            "  Total occurrences: 219\n",
            "\n",
            "--- Punctuation ---:\n",
            "  Total unique: 20\n",
            "  Total occurrences: 1908\n",
            "  Characters found: ['!', '\"', '#', '$', '%', '&', \"'\", '(', ')', '*', '+', ',', '-', '.', '/', ':', ';', '?', '[', ']']\n",
            "  Frequencies: {'.': 1070, ',': 292, \"'\": 179, '!': 164, '-': 74, ')': 29, '(': 26, '\"': 19, '$': 9, ';': 9, '/': 8, '?': 7, '&': 7, ':': 4, '*': 4, '%': 2, '#': 2, '+': 1, '[': 1, ']': 1}\n",
            "\n",
            "--- Whitespace ---:\n",
            "  Total unique: 1\n",
            "  Total occurrences: 10201\n"
          ]
        }
      ]
    },
    {
      "cell_type": "markdown",
      "source": [
        "The code cell above works to determine all unique characters in the `review` data. It starts by joining all the lowercase review text into one massive string to parse through. It then passes the string through Python's `Counter()` function from the `collections` module, which treats every element as an iterable, creating a dictionary object where the key is the element and the value is the count of times the value appears. This is more computationally efficient than writing a for-loop and passing each value.\n",
        "\n",
        "The next section defines what characters we are looking for. We define all possible values for letters, digits, punctuation, and whitespace using using Python's built-in `string` module. By passing each into a set, we get unique values.\n",
        "\n",
        "`categorized_chars` acts as a dictionary of dictionaries, allowing us to separate out the contents of the result of our Counter, `char_frequencies` by character type. Then we use a for-loop and conditional logic to assign the counts to each category of characters.\n",
        "\n",
        "Finally, we use a for-loop and conditional logic to identify individual character lists and their frequencies, displaying potential noise in the dataset."
      ],
      "metadata": {
        "id": "OD6I6MzR5P0_"
      }
    },
    {
      "cell_type": "code",
      "source": [
        "# Replace one or more punctuation marks with a single space\n",
        "# (Python Documentation - re module documentation)\n",
        "punctuation_pattern = '[' + re.escape(string.punctuation) + ']+'\n",
        "df_clean.loc[:,'review_lower'] = df_clean['review_lower'].str.replace(punctuation_pattern, ' ', regex=True)\n",
        "\n",
        "print(\"Sample reviews after removing punctuation:\")\n",
        "df_clean.head(20)"
      ],
      "metadata": {
        "colab": {
          "base_uri": "https://localhost:8080/",
          "height": 832
        },
        "id": "oB6ZEbjP_Leb",
        "outputId": "9e76c739-8003-4ce5-d5b6-d24bf242253b"
      },
      "execution_count": 25,
      "outputs": [
        {
          "output_type": "stream",
          "name": "stdout",
          "text": [
            "Sample reviews after removing punctuation:\n"
          ]
        },
        {
          "output_type": "execute_result",
          "data": {
            "text/plain": [
              "                                                                                                 review  \\\n",
              "0                    So there is no way for me to plug it in here in the US unless I go by a converter.   \n",
              "1                                                                           Good case, Excellent value.   \n",
              "2                                                                                Great for the jawbone.   \n",
              "3                       Tied to charger for conversations lasting more than 45 minutes.MAJOR PROBLEMS!!   \n",
              "4                                                                                     The mic is great.   \n",
              "5                            I have to jiggle the plug to get it to line up right to get decent volume.   \n",
              "6   If you have several dozen or several hundred contacts, then imagine the fun of sending each of t...   \n",
              "7                                                           If you are Razr owner...you must have this!   \n",
              "8                                                                   Needless to say, I wasted my money.   \n",
              "9                                                                      What a waste of money and time!.   \n",
              "10                                                                      And the sound quality is great.   \n",
              "11                  He was very impressed when going from the original battery to the extended battery.   \n",
              "12  If the two were seperated by a mere 5+ ft I started to notice excessive static and garbled sound...   \n",
              "13                                                                             Very good quality though   \n",
              "14                            The design is very odd, as the ear \"clip\" is not very comfortable at all.   \n",
              "15                                             Highly recommend for any one who has a blue tooth phone.   \n",
              "16                                                                  I advise EVERYONE DO NOT BE FOOLED!   \n",
              "17                                                                                     So Far So Good!.   \n",
              "18                                                                                        Works great!.   \n",
              "19              It clicks into place in a way that makes you wonder how long that mechanism would last.   \n",
              "\n",
              "    sentiment  \\\n",
              "0           0   \n",
              "1           1   \n",
              "2           1   \n",
              "3           0   \n",
              "4           1   \n",
              "5           0   \n",
              "6           0   \n",
              "7           1   \n",
              "8           0   \n",
              "9           0   \n",
              "10          1   \n",
              "11          1   \n",
              "12          0   \n",
              "13          1   \n",
              "14          0   \n",
              "15          1   \n",
              "16          0   \n",
              "17          1   \n",
              "18          1   \n",
              "19          0   \n",
              "\n",
              "                                                                                           review_lower  \\\n",
              "0                    so there is no way for me to plug it in here in the us unless i go by a converter    \n",
              "1                                                                           good case  excellent value    \n",
              "2                                                                                great for the jawbone    \n",
              "3                        tied to charger for conversations lasting more than 45 minutes major problems    \n",
              "4                                                                                     the mic is great    \n",
              "5                            i have to jiggle the plug to get it to line up right to get decent volume    \n",
              "6   if you have several dozen or several hundred contacts  then imagine the fun of sending each of t...   \n",
              "7                                                             if you are razr owner you must have this    \n",
              "8                                                                   needless to say  i wasted my money    \n",
              "9                                                                       what a waste of money and time    \n",
              "10                                                                      and the sound quality is great    \n",
              "11                  he was very impressed when going from the original battery to the extended battery    \n",
              "12  if the two were seperated by a mere 5  ft i started to notice excessive static and garbled sound...   \n",
              "13                                                                             very good quality though   \n",
              "14                            the design is very odd  as the ear  clip  is not very comfortable at all    \n",
              "15                                             highly recommend for any one who has a blue tooth phone    \n",
              "16                                                                  i advise everyone do not be fooled    \n",
              "17                                                                                      so far so good    \n",
              "18                                                                                         works great    \n",
              "19              it clicks into place in a way that makes you wonder how long that mechanism would last    \n",
              "\n",
              "                                                                                           review_clean  \n",
              "0                     so there is no way for me to plug it in here in the us unless i go by a converter  \n",
              "1                                                                             good case excellent value  \n",
              "2                                                                                 great for the jawbone  \n",
              "3                            tied to charger for conversations lasting more than minutes major problems  \n",
              "4                                                                                      the mic is great  \n",
              "5                             i have to jiggle the plug to get it to line up right to get decent volume  \n",
              "6   if you have several dozen or several hundred contacts then imagine the fun of sending each of th...  \n",
              "7                                                              if you are razr owner you must have this  \n",
              "8                                                                     needless to say i wasted my money  \n",
              "9                                                                        what a waste of money and time  \n",
              "10                                                                       and the sound quality is great  \n",
              "11                   he was very impressed when going from the original battery to the extended battery  \n",
              "12  if the two were seperated by a mere ft i started to notice excessive static and garbled sound fr...  \n",
              "13                                                                             very good quality though  \n",
              "14                                the design is very odd as the ear clip is not very comfortable at all  \n",
              "15                                              highly recommend for any one who has a blue tooth phone  \n",
              "16                                                                   i advise everyone do not be fooled  \n",
              "17                                                                                       so far so good  \n",
              "18                                                                                          works great  \n",
              "19               it clicks into place in a way that makes you wonder how long that mechanism would last  "
            ],
            "text/html": [
              "\n",
              "  <div id=\"df-19f3e147-47e8-4abe-adc0-b3f47e2587d6\" class=\"colab-df-container\">\n",
              "    <div>\n",
              "<style scoped>\n",
              "    .dataframe tbody tr th:only-of-type {\n",
              "        vertical-align: middle;\n",
              "    }\n",
              "\n",
              "    .dataframe tbody tr th {\n",
              "        vertical-align: top;\n",
              "    }\n",
              "\n",
              "    .dataframe thead th {\n",
              "        text-align: right;\n",
              "    }\n",
              "</style>\n",
              "<table border=\"1\" class=\"dataframe\">\n",
              "  <thead>\n",
              "    <tr style=\"text-align: right;\">\n",
              "      <th></th>\n",
              "      <th>review</th>\n",
              "      <th>sentiment</th>\n",
              "      <th>review_lower</th>\n",
              "      <th>review_clean</th>\n",
              "    </tr>\n",
              "  </thead>\n",
              "  <tbody>\n",
              "    <tr>\n",
              "      <th>0</th>\n",
              "      <td>So there is no way for me to plug it in here in the US unless I go by a converter.</td>\n",
              "      <td>0</td>\n",
              "      <td>so there is no way for me to plug it in here in the us unless i go by a converter</td>\n",
              "      <td>so there is no way for me to plug it in here in the us unless i go by a converter</td>\n",
              "    </tr>\n",
              "    <tr>\n",
              "      <th>1</th>\n",
              "      <td>Good case, Excellent value.</td>\n",
              "      <td>1</td>\n",
              "      <td>good case  excellent value</td>\n",
              "      <td>good case excellent value</td>\n",
              "    </tr>\n",
              "    <tr>\n",
              "      <th>2</th>\n",
              "      <td>Great for the jawbone.</td>\n",
              "      <td>1</td>\n",
              "      <td>great for the jawbone</td>\n",
              "      <td>great for the jawbone</td>\n",
              "    </tr>\n",
              "    <tr>\n",
              "      <th>3</th>\n",
              "      <td>Tied to charger for conversations lasting more than 45 minutes.MAJOR PROBLEMS!!</td>\n",
              "      <td>0</td>\n",
              "      <td>tied to charger for conversations lasting more than 45 minutes major problems</td>\n",
              "      <td>tied to charger for conversations lasting more than minutes major problems</td>\n",
              "    </tr>\n",
              "    <tr>\n",
              "      <th>4</th>\n",
              "      <td>The mic is great.</td>\n",
              "      <td>1</td>\n",
              "      <td>the mic is great</td>\n",
              "      <td>the mic is great</td>\n",
              "    </tr>\n",
              "    <tr>\n",
              "      <th>5</th>\n",
              "      <td>I have to jiggle the plug to get it to line up right to get decent volume.</td>\n",
              "      <td>0</td>\n",
              "      <td>i have to jiggle the plug to get it to line up right to get decent volume</td>\n",
              "      <td>i have to jiggle the plug to get it to line up right to get decent volume</td>\n",
              "    </tr>\n",
              "    <tr>\n",
              "      <th>6</th>\n",
              "      <td>If you have several dozen or several hundred contacts, then imagine the fun of sending each of t...</td>\n",
              "      <td>0</td>\n",
              "      <td>if you have several dozen or several hundred contacts  then imagine the fun of sending each of t...</td>\n",
              "      <td>if you have several dozen or several hundred contacts then imagine the fun of sending each of th...</td>\n",
              "    </tr>\n",
              "    <tr>\n",
              "      <th>7</th>\n",
              "      <td>If you are Razr owner...you must have this!</td>\n",
              "      <td>1</td>\n",
              "      <td>if you are razr owner you must have this</td>\n",
              "      <td>if you are razr owner you must have this</td>\n",
              "    </tr>\n",
              "    <tr>\n",
              "      <th>8</th>\n",
              "      <td>Needless to say, I wasted my money.</td>\n",
              "      <td>0</td>\n",
              "      <td>needless to say  i wasted my money</td>\n",
              "      <td>needless to say i wasted my money</td>\n",
              "    </tr>\n",
              "    <tr>\n",
              "      <th>9</th>\n",
              "      <td>What a waste of money and time!.</td>\n",
              "      <td>0</td>\n",
              "      <td>what a waste of money and time</td>\n",
              "      <td>what a waste of money and time</td>\n",
              "    </tr>\n",
              "    <tr>\n",
              "      <th>10</th>\n",
              "      <td>And the sound quality is great.</td>\n",
              "      <td>1</td>\n",
              "      <td>and the sound quality is great</td>\n",
              "      <td>and the sound quality is great</td>\n",
              "    </tr>\n",
              "    <tr>\n",
              "      <th>11</th>\n",
              "      <td>He was very impressed when going from the original battery to the extended battery.</td>\n",
              "      <td>1</td>\n",
              "      <td>he was very impressed when going from the original battery to the extended battery</td>\n",
              "      <td>he was very impressed when going from the original battery to the extended battery</td>\n",
              "    </tr>\n",
              "    <tr>\n",
              "      <th>12</th>\n",
              "      <td>If the two were seperated by a mere 5+ ft I started to notice excessive static and garbled sound...</td>\n",
              "      <td>0</td>\n",
              "      <td>if the two were seperated by a mere 5  ft i started to notice excessive static and garbled sound...</td>\n",
              "      <td>if the two were seperated by a mere ft i started to notice excessive static and garbled sound fr...</td>\n",
              "    </tr>\n",
              "    <tr>\n",
              "      <th>13</th>\n",
              "      <td>Very good quality though</td>\n",
              "      <td>1</td>\n",
              "      <td>very good quality though</td>\n",
              "      <td>very good quality though</td>\n",
              "    </tr>\n",
              "    <tr>\n",
              "      <th>14</th>\n",
              "      <td>The design is very odd, as the ear \"clip\" is not very comfortable at all.</td>\n",
              "      <td>0</td>\n",
              "      <td>the design is very odd  as the ear  clip  is not very comfortable at all</td>\n",
              "      <td>the design is very odd as the ear clip is not very comfortable at all</td>\n",
              "    </tr>\n",
              "    <tr>\n",
              "      <th>15</th>\n",
              "      <td>Highly recommend for any one who has a blue tooth phone.</td>\n",
              "      <td>1</td>\n",
              "      <td>highly recommend for any one who has a blue tooth phone</td>\n",
              "      <td>highly recommend for any one who has a blue tooth phone</td>\n",
              "    </tr>\n",
              "    <tr>\n",
              "      <th>16</th>\n",
              "      <td>I advise EVERYONE DO NOT BE FOOLED!</td>\n",
              "      <td>0</td>\n",
              "      <td>i advise everyone do not be fooled</td>\n",
              "      <td>i advise everyone do not be fooled</td>\n",
              "    </tr>\n",
              "    <tr>\n",
              "      <th>17</th>\n",
              "      <td>So Far So Good!.</td>\n",
              "      <td>1</td>\n",
              "      <td>so far so good</td>\n",
              "      <td>so far so good</td>\n",
              "    </tr>\n",
              "    <tr>\n",
              "      <th>18</th>\n",
              "      <td>Works great!.</td>\n",
              "      <td>1</td>\n",
              "      <td>works great</td>\n",
              "      <td>works great</td>\n",
              "    </tr>\n",
              "    <tr>\n",
              "      <th>19</th>\n",
              "      <td>It clicks into place in a way that makes you wonder how long that mechanism would last.</td>\n",
              "      <td>0</td>\n",
              "      <td>it clicks into place in a way that makes you wonder how long that mechanism would last</td>\n",
              "      <td>it clicks into place in a way that makes you wonder how long that mechanism would last</td>\n",
              "    </tr>\n",
              "  </tbody>\n",
              "</table>\n",
              "</div>\n",
              "    <div class=\"colab-df-buttons\">\n",
              "\n",
              "  <div class=\"colab-df-container\">\n",
              "    <button class=\"colab-df-convert\" onclick=\"convertToInteractive('df-19f3e147-47e8-4abe-adc0-b3f47e2587d6')\"\n",
              "            title=\"Convert this dataframe to an interactive table.\"\n",
              "            style=\"display:none;\">\n",
              "\n",
              "  <svg xmlns=\"http://www.w3.org/2000/svg\" height=\"24px\" viewBox=\"0 -960 960 960\">\n",
              "    <path d=\"M120-120v-720h720v720H120Zm60-500h600v-160H180v160Zm220 220h160v-160H400v160Zm0 220h160v-160H400v160ZM180-400h160v-160H180v160Zm440 0h160v-160H620v160ZM180-180h160v-160H180v160Zm440 0h160v-160H620v160Z\"/>\n",
              "  </svg>\n",
              "    </button>\n",
              "\n",
              "  <style>\n",
              "    .colab-df-container {\n",
              "      display:flex;\n",
              "      gap: 12px;\n",
              "    }\n",
              "\n",
              "    .colab-df-convert {\n",
              "      background-color: #E8F0FE;\n",
              "      border: none;\n",
              "      border-radius: 50%;\n",
              "      cursor: pointer;\n",
              "      display: none;\n",
              "      fill: #1967D2;\n",
              "      height: 32px;\n",
              "      padding: 0 0 0 0;\n",
              "      width: 32px;\n",
              "    }\n",
              "\n",
              "    .colab-df-convert:hover {\n",
              "      background-color: #E2EBFA;\n",
              "      box-shadow: 0px 1px 2px rgba(60, 64, 67, 0.3), 0px 1px 3px 1px rgba(60, 64, 67, 0.15);\n",
              "      fill: #174EA6;\n",
              "    }\n",
              "\n",
              "    .colab-df-buttons div {\n",
              "      margin-bottom: 4px;\n",
              "    }\n",
              "\n",
              "    [theme=dark] .colab-df-convert {\n",
              "      background-color: #3B4455;\n",
              "      fill: #D2E3FC;\n",
              "    }\n",
              "\n",
              "    [theme=dark] .colab-df-convert:hover {\n",
              "      background-color: #434B5C;\n",
              "      box-shadow: 0px 1px 3px 1px rgba(0, 0, 0, 0.15);\n",
              "      filter: drop-shadow(0px 1px 2px rgba(0, 0, 0, 0.3));\n",
              "      fill: #FFFFFF;\n",
              "    }\n",
              "  </style>\n",
              "\n",
              "    <script>\n",
              "      const buttonEl =\n",
              "        document.querySelector('#df-19f3e147-47e8-4abe-adc0-b3f47e2587d6 button.colab-df-convert');\n",
              "      buttonEl.style.display =\n",
              "        google.colab.kernel.accessAllowed ? 'block' : 'none';\n",
              "\n",
              "      async function convertToInteractive(key) {\n",
              "        const element = document.querySelector('#df-19f3e147-47e8-4abe-adc0-b3f47e2587d6');\n",
              "        const dataTable =\n",
              "          await google.colab.kernel.invokeFunction('convertToInteractive',\n",
              "                                                    [key], {});\n",
              "        if (!dataTable) return;\n",
              "\n",
              "        const docLinkHtml = 'Like what you see? Visit the ' +\n",
              "          '<a target=\"_blank\" href=https://colab.research.google.com/notebooks/data_table.ipynb>data table notebook</a>'\n",
              "          + ' to learn more about interactive tables.';\n",
              "        element.innerHTML = '';\n",
              "        dataTable['output_type'] = 'display_data';\n",
              "        await google.colab.output.renderOutput(dataTable, element);\n",
              "        const docLink = document.createElement('div');\n",
              "        docLink.innerHTML = docLinkHtml;\n",
              "        element.appendChild(docLink);\n",
              "      }\n",
              "    </script>\n",
              "  </div>\n",
              "\n",
              "\n",
              "    <div id=\"df-1ab13461-72c2-4d3c-ae32-00c33961d7a0\">\n",
              "      <button class=\"colab-df-quickchart\" onclick=\"quickchart('df-1ab13461-72c2-4d3c-ae32-00c33961d7a0')\"\n",
              "                title=\"Suggest charts\"\n",
              "                style=\"display:none;\">\n",
              "\n",
              "<svg xmlns=\"http://www.w3.org/2000/svg\" height=\"24px\"viewBox=\"0 0 24 24\"\n",
              "     width=\"24px\">\n",
              "    <g>\n",
              "        <path d=\"M19 3H5c-1.1 0-2 .9-2 2v14c0 1.1.9 2 2 2h14c1.1 0 2-.9 2-2V5c0-1.1-.9-2-2-2zM9 17H7v-7h2v7zm4 0h-2V7h2v10zm4 0h-2v-4h2v4z\"/>\n",
              "    </g>\n",
              "</svg>\n",
              "      </button>\n",
              "\n",
              "<style>\n",
              "  .colab-df-quickchart {\n",
              "      --bg-color: #E8F0FE;\n",
              "      --fill-color: #1967D2;\n",
              "      --hover-bg-color: #E2EBFA;\n",
              "      --hover-fill-color: #174EA6;\n",
              "      --disabled-fill-color: #AAA;\n",
              "      --disabled-bg-color: #DDD;\n",
              "  }\n",
              "\n",
              "  [theme=dark] .colab-df-quickchart {\n",
              "      --bg-color: #3B4455;\n",
              "      --fill-color: #D2E3FC;\n",
              "      --hover-bg-color: #434B5C;\n",
              "      --hover-fill-color: #FFFFFF;\n",
              "      --disabled-bg-color: #3B4455;\n",
              "      --disabled-fill-color: #666;\n",
              "  }\n",
              "\n",
              "  .colab-df-quickchart {\n",
              "    background-color: var(--bg-color);\n",
              "    border: none;\n",
              "    border-radius: 50%;\n",
              "    cursor: pointer;\n",
              "    display: none;\n",
              "    fill: var(--fill-color);\n",
              "    height: 32px;\n",
              "    padding: 0;\n",
              "    width: 32px;\n",
              "  }\n",
              "\n",
              "  .colab-df-quickchart:hover {\n",
              "    background-color: var(--hover-bg-color);\n",
              "    box-shadow: 0 1px 2px rgba(60, 64, 67, 0.3), 0 1px 3px 1px rgba(60, 64, 67, 0.15);\n",
              "    fill: var(--button-hover-fill-color);\n",
              "  }\n",
              "\n",
              "  .colab-df-quickchart-complete:disabled,\n",
              "  .colab-df-quickchart-complete:disabled:hover {\n",
              "    background-color: var(--disabled-bg-color);\n",
              "    fill: var(--disabled-fill-color);\n",
              "    box-shadow: none;\n",
              "  }\n",
              "\n",
              "  .colab-df-spinner {\n",
              "    border: 2px solid var(--fill-color);\n",
              "    border-color: transparent;\n",
              "    border-bottom-color: var(--fill-color);\n",
              "    animation:\n",
              "      spin 1s steps(1) infinite;\n",
              "  }\n",
              "\n",
              "  @keyframes spin {\n",
              "    0% {\n",
              "      border-color: transparent;\n",
              "      border-bottom-color: var(--fill-color);\n",
              "      border-left-color: var(--fill-color);\n",
              "    }\n",
              "    20% {\n",
              "      border-color: transparent;\n",
              "      border-left-color: var(--fill-color);\n",
              "      border-top-color: var(--fill-color);\n",
              "    }\n",
              "    30% {\n",
              "      border-color: transparent;\n",
              "      border-left-color: var(--fill-color);\n",
              "      border-top-color: var(--fill-color);\n",
              "      border-right-color: var(--fill-color);\n",
              "    }\n",
              "    40% {\n",
              "      border-color: transparent;\n",
              "      border-right-color: var(--fill-color);\n",
              "      border-top-color: var(--fill-color);\n",
              "    }\n",
              "    60% {\n",
              "      border-color: transparent;\n",
              "      border-right-color: var(--fill-color);\n",
              "    }\n",
              "    80% {\n",
              "      border-color: transparent;\n",
              "      border-right-color: var(--fill-color);\n",
              "      border-bottom-color: var(--fill-color);\n",
              "    }\n",
              "    90% {\n",
              "      border-color: transparent;\n",
              "      border-bottom-color: var(--fill-color);\n",
              "    }\n",
              "  }\n",
              "</style>\n",
              "\n",
              "      <script>\n",
              "        async function quickchart(key) {\n",
              "          const quickchartButtonEl =\n",
              "            document.querySelector('#' + key + ' button');\n",
              "          quickchartButtonEl.disabled = true;  // To prevent multiple clicks.\n",
              "          quickchartButtonEl.classList.add('colab-df-spinner');\n",
              "          try {\n",
              "            const charts = await google.colab.kernel.invokeFunction(\n",
              "                'suggestCharts', [key], {});\n",
              "          } catch (error) {\n",
              "            console.error('Error during call to suggestCharts:', error);\n",
              "          }\n",
              "          quickchartButtonEl.classList.remove('colab-df-spinner');\n",
              "          quickchartButtonEl.classList.add('colab-df-quickchart-complete');\n",
              "        }\n",
              "        (() => {\n",
              "          let quickchartButtonEl =\n",
              "            document.querySelector('#df-1ab13461-72c2-4d3c-ae32-00c33961d7a0 button');\n",
              "          quickchartButtonEl.style.display =\n",
              "            google.colab.kernel.accessAllowed ? 'block' : 'none';\n",
              "        })();\n",
              "      </script>\n",
              "    </div>\n",
              "\n",
              "    </div>\n",
              "  </div>\n"
            ],
            "application/vnd.google.colaboratory.intrinsic+json": {
              "type": "dataframe",
              "variable_name": "df_clean",
              "summary": "{\n  \"name\": \"df_clean\",\n  \"rows\": 990,\n  \"fields\": [\n    {\n      \"column\": \"review\",\n      \"properties\": {\n        \"dtype\": \"string\",\n        \"num_unique_values\": 990,\n        \"samples\": [\n          \"The range is very decent, I've been able to roam around my house with the phone in the living room with no reception/sound quality issues.\",\n          \"The reception is excellent!\",\n          \"I would have given no star if I was able.\"\n        ],\n        \"semantic_type\": \"\",\n        \"description\": \"\"\n      }\n    },\n    {\n      \"column\": \"sentiment\",\n      \"properties\": {\n        \"dtype\": \"number\",\n        \"std\": 0,\n        \"min\": 0,\n        \"max\": 1,\n        \"num_unique_values\": 2,\n        \"samples\": [\n          1,\n          0\n        ],\n        \"semantic_type\": \"\",\n        \"description\": \"\"\n      }\n    },\n    {\n      \"column\": \"review_lower\",\n      \"properties\": {\n        \"dtype\": \"string\",\n        \"num_unique_values\": 983,\n        \"samples\": [\n          \"they keep getting better and better  this is my third one and i ve had numerous palms too \",\n          \"battery has no life \"\n        ],\n        \"semantic_type\": \"\",\n        \"description\": \"\"\n      }\n    },\n    {\n      \"column\": \"review_clean\",\n      \"properties\": {\n        \"dtype\": \"string\",\n        \"num_unique_values\": 983,\n        \"samples\": [\n          \"they keep getting better and better this is my third one and i ve had numerous palms too\",\n          \"battery has no life\"\n        ],\n        \"semantic_type\": \"\",\n        \"description\": \"\"\n      }\n    }\n  ]\n}"
            }
          },
          "metadata": {},
          "execution_count": 25
        }
      ]
    },
    {
      "cell_type": "markdown",
      "source": [
        "After a visual inspection of the code, there were often instances of punctuation that were going to be difficult to clean without a flexible approach. This included instances like the presence of elipses (`...`), unusual combinations of punctuation (`!.`), and multiple punctuation marks (`!!`).\n",
        "\n",
        "The code cell above uses regular expressions to find any instances of one or more punctuation marks and replace them with one character of whitespace. The reason for this (as opposed to replacing it with a blank string (`''`)), was to ensure that any missing spaces were accounted for and didn't result in the improper concatenation of words from different sentences, such as row 7 above. If we replaced the `'...'` with an empty string, the result would have been `\"if you are razrowner you must have this\"`, but instead we get `\"if you are razr owner you must have this\"`."
      ],
      "metadata": {
        "id": "l3YRS_k376Mf"
      }
    },
    {
      "cell_type": "code",
      "source": [
        "# Remove digits from the text\n",
        "df_clean.loc[:, 'review_clean'] = df_clean['review_lower'].str.replace(r'\\d+', ' ', regex=True)\n",
        "\n",
        "# Remove extra whitespace (multiple spaces become one space, and trim leading/trailing spaces)\n",
        "df_clean.loc[:, 'review_clean'] = df_clean['review_clean'].str.split().str.join(' ')\n",
        "\n",
        "print(\"=\" * 60)\n",
        "print(\"--- Before and After Cleaning Examples ---\")\n",
        "print(\"=\" * 60)\n",
        "print(\"\\nOriginal vs Cleaned (first 5 reviews):\")\n",
        "for i in range(5):\n",
        "    print(f\"\\n[{i}] Original ---: {df_clean['review'].iloc[i]}\")\n",
        "    print(f\"    Cleaned ---:  {df_clean['review_clean'].iloc[i]}\")"
      ],
      "metadata": {
        "colab": {
          "base_uri": "https://localhost:8080/"
        },
        "id": "Likvj3jDCjTP",
        "outputId": "e46253d9-5ff4-487e-dee0-1bd04a5f453e"
      },
      "execution_count": 26,
      "outputs": [
        {
          "output_type": "stream",
          "name": "stdout",
          "text": [
            "============================================================\n",
            "--- Before and After Cleaning Examples ---\n",
            "============================================================\n",
            "\n",
            "Original vs Cleaned (first 5 reviews):\n",
            "\n",
            "[0] Original ---: So there is no way for me to plug it in here in the US unless I go by a converter.\n",
            "    Cleaned ---:  so there is no way for me to plug it in here in the us unless i go by a converter\n",
            "\n",
            "[1] Original ---: Good case, Excellent value.\n",
            "    Cleaned ---:  good case excellent value\n",
            "\n",
            "[2] Original ---: Great for the jawbone.\n",
            "    Cleaned ---:  great for the jawbone\n",
            "\n",
            "[3] Original ---: Tied to charger for conversations lasting more than 45 minutes.MAJOR PROBLEMS!!\n",
            "    Cleaned ---:  tied to charger for conversations lasting more than minutes major problems\n",
            "\n",
            "[4] Original ---: The mic is great.\n",
            "    Cleaned ---:  the mic is great\n"
          ]
        }
      ]
    },
    {
      "cell_type": "markdown",
      "source": [
        "The code cell above goes further with the cleaning processing, using regular expressions to remove digits and extraneous whitespaces. This means that we trim any leading or trailing whitespace and remove instances of multiple whitespaces between characters to fix any errors caused by the previous code that replaced 1 or more instances of punctuation with whitespace."
      ],
      "metadata": {
        "id": "3pfPLCPl-NGo"
      }
    },
    {
      "cell_type": "code",
      "source": [
        "# Place the cleaned reviews in a new DataFrame\n",
        "df = df_clean[['review_clean', 'sentiment']]\n",
        "df.head()"
      ],
      "metadata": {
        "colab": {
          "base_uri": "https://localhost:8080/",
          "height": 206
        },
        "id": "9SvNs2aJDZ6i",
        "outputId": "5ff60ccf-560d-4129-d3f9-fbe0cf44ed1e"
      },
      "execution_count": 27,
      "outputs": [
        {
          "output_type": "execute_result",
          "data": {
            "text/plain": [
              "                                                                        review_clean  \\\n",
              "0  so there is no way for me to plug it in here in the us unless i go by a converter   \n",
              "1                                                          good case excellent value   \n",
              "2                                                              great for the jawbone   \n",
              "3         tied to charger for conversations lasting more than minutes major problems   \n",
              "4                                                                   the mic is great   \n",
              "\n",
              "   sentiment  \n",
              "0          0  \n",
              "1          1  \n",
              "2          1  \n",
              "3          0  \n",
              "4          1  "
            ],
            "text/html": [
              "\n",
              "  <div id=\"df-b85e6e3a-867e-4ba8-9289-68a000b57495\" class=\"colab-df-container\">\n",
              "    <div>\n",
              "<style scoped>\n",
              "    .dataframe tbody tr th:only-of-type {\n",
              "        vertical-align: middle;\n",
              "    }\n",
              "\n",
              "    .dataframe tbody tr th {\n",
              "        vertical-align: top;\n",
              "    }\n",
              "\n",
              "    .dataframe thead th {\n",
              "        text-align: right;\n",
              "    }\n",
              "</style>\n",
              "<table border=\"1\" class=\"dataframe\">\n",
              "  <thead>\n",
              "    <tr style=\"text-align: right;\">\n",
              "      <th></th>\n",
              "      <th>review_clean</th>\n",
              "      <th>sentiment</th>\n",
              "    </tr>\n",
              "  </thead>\n",
              "  <tbody>\n",
              "    <tr>\n",
              "      <th>0</th>\n",
              "      <td>so there is no way for me to plug it in here in the us unless i go by a converter</td>\n",
              "      <td>0</td>\n",
              "    </tr>\n",
              "    <tr>\n",
              "      <th>1</th>\n",
              "      <td>good case excellent value</td>\n",
              "      <td>1</td>\n",
              "    </tr>\n",
              "    <tr>\n",
              "      <th>2</th>\n",
              "      <td>great for the jawbone</td>\n",
              "      <td>1</td>\n",
              "    </tr>\n",
              "    <tr>\n",
              "      <th>3</th>\n",
              "      <td>tied to charger for conversations lasting more than minutes major problems</td>\n",
              "      <td>0</td>\n",
              "    </tr>\n",
              "    <tr>\n",
              "      <th>4</th>\n",
              "      <td>the mic is great</td>\n",
              "      <td>1</td>\n",
              "    </tr>\n",
              "  </tbody>\n",
              "</table>\n",
              "</div>\n",
              "    <div class=\"colab-df-buttons\">\n",
              "\n",
              "  <div class=\"colab-df-container\">\n",
              "    <button class=\"colab-df-convert\" onclick=\"convertToInteractive('df-b85e6e3a-867e-4ba8-9289-68a000b57495')\"\n",
              "            title=\"Convert this dataframe to an interactive table.\"\n",
              "            style=\"display:none;\">\n",
              "\n",
              "  <svg xmlns=\"http://www.w3.org/2000/svg\" height=\"24px\" viewBox=\"0 -960 960 960\">\n",
              "    <path d=\"M120-120v-720h720v720H120Zm60-500h600v-160H180v160Zm220 220h160v-160H400v160Zm0 220h160v-160H400v160ZM180-400h160v-160H180v160Zm440 0h160v-160H620v160ZM180-180h160v-160H180v160Zm440 0h160v-160H620v160Z\"/>\n",
              "  </svg>\n",
              "    </button>\n",
              "\n",
              "  <style>\n",
              "    .colab-df-container {\n",
              "      display:flex;\n",
              "      gap: 12px;\n",
              "    }\n",
              "\n",
              "    .colab-df-convert {\n",
              "      background-color: #E8F0FE;\n",
              "      border: none;\n",
              "      border-radius: 50%;\n",
              "      cursor: pointer;\n",
              "      display: none;\n",
              "      fill: #1967D2;\n",
              "      height: 32px;\n",
              "      padding: 0 0 0 0;\n",
              "      width: 32px;\n",
              "    }\n",
              "\n",
              "    .colab-df-convert:hover {\n",
              "      background-color: #E2EBFA;\n",
              "      box-shadow: 0px 1px 2px rgba(60, 64, 67, 0.3), 0px 1px 3px 1px rgba(60, 64, 67, 0.15);\n",
              "      fill: #174EA6;\n",
              "    }\n",
              "\n",
              "    .colab-df-buttons div {\n",
              "      margin-bottom: 4px;\n",
              "    }\n",
              "\n",
              "    [theme=dark] .colab-df-convert {\n",
              "      background-color: #3B4455;\n",
              "      fill: #D2E3FC;\n",
              "    }\n",
              "\n",
              "    [theme=dark] .colab-df-convert:hover {\n",
              "      background-color: #434B5C;\n",
              "      box-shadow: 0px 1px 3px 1px rgba(0, 0, 0, 0.15);\n",
              "      filter: drop-shadow(0px 1px 2px rgba(0, 0, 0, 0.3));\n",
              "      fill: #FFFFFF;\n",
              "    }\n",
              "  </style>\n",
              "\n",
              "    <script>\n",
              "      const buttonEl =\n",
              "        document.querySelector('#df-b85e6e3a-867e-4ba8-9289-68a000b57495 button.colab-df-convert');\n",
              "      buttonEl.style.display =\n",
              "        google.colab.kernel.accessAllowed ? 'block' : 'none';\n",
              "\n",
              "      async function convertToInteractive(key) {\n",
              "        const element = document.querySelector('#df-b85e6e3a-867e-4ba8-9289-68a000b57495');\n",
              "        const dataTable =\n",
              "          await google.colab.kernel.invokeFunction('convertToInteractive',\n",
              "                                                    [key], {});\n",
              "        if (!dataTable) return;\n",
              "\n",
              "        const docLinkHtml = 'Like what you see? Visit the ' +\n",
              "          '<a target=\"_blank\" href=https://colab.research.google.com/notebooks/data_table.ipynb>data table notebook</a>'\n",
              "          + ' to learn more about interactive tables.';\n",
              "        element.innerHTML = '';\n",
              "        dataTable['output_type'] = 'display_data';\n",
              "        await google.colab.output.renderOutput(dataTable, element);\n",
              "        const docLink = document.createElement('div');\n",
              "        docLink.innerHTML = docLinkHtml;\n",
              "        element.appendChild(docLink);\n",
              "      }\n",
              "    </script>\n",
              "  </div>\n",
              "\n",
              "\n",
              "    <div id=\"df-97046e64-1f86-4416-bd91-6dc7924f4235\">\n",
              "      <button class=\"colab-df-quickchart\" onclick=\"quickchart('df-97046e64-1f86-4416-bd91-6dc7924f4235')\"\n",
              "                title=\"Suggest charts\"\n",
              "                style=\"display:none;\">\n",
              "\n",
              "<svg xmlns=\"http://www.w3.org/2000/svg\" height=\"24px\"viewBox=\"0 0 24 24\"\n",
              "     width=\"24px\">\n",
              "    <g>\n",
              "        <path d=\"M19 3H5c-1.1 0-2 .9-2 2v14c0 1.1.9 2 2 2h14c1.1 0 2-.9 2-2V5c0-1.1-.9-2-2-2zM9 17H7v-7h2v7zm4 0h-2V7h2v10zm4 0h-2v-4h2v4z\"/>\n",
              "    </g>\n",
              "</svg>\n",
              "      </button>\n",
              "\n",
              "<style>\n",
              "  .colab-df-quickchart {\n",
              "      --bg-color: #E8F0FE;\n",
              "      --fill-color: #1967D2;\n",
              "      --hover-bg-color: #E2EBFA;\n",
              "      --hover-fill-color: #174EA6;\n",
              "      --disabled-fill-color: #AAA;\n",
              "      --disabled-bg-color: #DDD;\n",
              "  }\n",
              "\n",
              "  [theme=dark] .colab-df-quickchart {\n",
              "      --bg-color: #3B4455;\n",
              "      --fill-color: #D2E3FC;\n",
              "      --hover-bg-color: #434B5C;\n",
              "      --hover-fill-color: #FFFFFF;\n",
              "      --disabled-bg-color: #3B4455;\n",
              "      --disabled-fill-color: #666;\n",
              "  }\n",
              "\n",
              "  .colab-df-quickchart {\n",
              "    background-color: var(--bg-color);\n",
              "    border: none;\n",
              "    border-radius: 50%;\n",
              "    cursor: pointer;\n",
              "    display: none;\n",
              "    fill: var(--fill-color);\n",
              "    height: 32px;\n",
              "    padding: 0;\n",
              "    width: 32px;\n",
              "  }\n",
              "\n",
              "  .colab-df-quickchart:hover {\n",
              "    background-color: var(--hover-bg-color);\n",
              "    box-shadow: 0 1px 2px rgba(60, 64, 67, 0.3), 0 1px 3px 1px rgba(60, 64, 67, 0.15);\n",
              "    fill: var(--button-hover-fill-color);\n",
              "  }\n",
              "\n",
              "  .colab-df-quickchart-complete:disabled,\n",
              "  .colab-df-quickchart-complete:disabled:hover {\n",
              "    background-color: var(--disabled-bg-color);\n",
              "    fill: var(--disabled-fill-color);\n",
              "    box-shadow: none;\n",
              "  }\n",
              "\n",
              "  .colab-df-spinner {\n",
              "    border: 2px solid var(--fill-color);\n",
              "    border-color: transparent;\n",
              "    border-bottom-color: var(--fill-color);\n",
              "    animation:\n",
              "      spin 1s steps(1) infinite;\n",
              "  }\n",
              "\n",
              "  @keyframes spin {\n",
              "    0% {\n",
              "      border-color: transparent;\n",
              "      border-bottom-color: var(--fill-color);\n",
              "      border-left-color: var(--fill-color);\n",
              "    }\n",
              "    20% {\n",
              "      border-color: transparent;\n",
              "      border-left-color: var(--fill-color);\n",
              "      border-top-color: var(--fill-color);\n",
              "    }\n",
              "    30% {\n",
              "      border-color: transparent;\n",
              "      border-left-color: var(--fill-color);\n",
              "      border-top-color: var(--fill-color);\n",
              "      border-right-color: var(--fill-color);\n",
              "    }\n",
              "    40% {\n",
              "      border-color: transparent;\n",
              "      border-right-color: var(--fill-color);\n",
              "      border-top-color: var(--fill-color);\n",
              "    }\n",
              "    60% {\n",
              "      border-color: transparent;\n",
              "      border-right-color: var(--fill-color);\n",
              "    }\n",
              "    80% {\n",
              "      border-color: transparent;\n",
              "      border-right-color: var(--fill-color);\n",
              "      border-bottom-color: var(--fill-color);\n",
              "    }\n",
              "    90% {\n",
              "      border-color: transparent;\n",
              "      border-bottom-color: var(--fill-color);\n",
              "    }\n",
              "  }\n",
              "</style>\n",
              "\n",
              "      <script>\n",
              "        async function quickchart(key) {\n",
              "          const quickchartButtonEl =\n",
              "            document.querySelector('#' + key + ' button');\n",
              "          quickchartButtonEl.disabled = true;  // To prevent multiple clicks.\n",
              "          quickchartButtonEl.classList.add('colab-df-spinner');\n",
              "          try {\n",
              "            const charts = await google.colab.kernel.invokeFunction(\n",
              "                'suggestCharts', [key], {});\n",
              "          } catch (error) {\n",
              "            console.error('Error during call to suggestCharts:', error);\n",
              "          }\n",
              "          quickchartButtonEl.classList.remove('colab-df-spinner');\n",
              "          quickchartButtonEl.classList.add('colab-df-quickchart-complete');\n",
              "        }\n",
              "        (() => {\n",
              "          let quickchartButtonEl =\n",
              "            document.querySelector('#df-97046e64-1f86-4416-bd91-6dc7924f4235 button');\n",
              "          quickchartButtonEl.style.display =\n",
              "            google.colab.kernel.accessAllowed ? 'block' : 'none';\n",
              "        })();\n",
              "      </script>\n",
              "    </div>\n",
              "\n",
              "    </div>\n",
              "  </div>\n"
            ],
            "application/vnd.google.colaboratory.intrinsic+json": {
              "type": "dataframe",
              "variable_name": "df",
              "summary": "{\n  \"name\": \"df\",\n  \"rows\": 990,\n  \"fields\": [\n    {\n      \"column\": \"review_clean\",\n      \"properties\": {\n        \"dtype\": \"string\",\n        \"num_unique_values\": 983,\n        \"samples\": [\n          \"they keep getting better and better this is my third one and i ve had numerous palms too\",\n          \"battery has no life\",\n          \"not as good as i had hoped\"\n        ],\n        \"semantic_type\": \"\",\n        \"description\": \"\"\n      }\n    },\n    {\n      \"column\": \"sentiment\",\n      \"properties\": {\n        \"dtype\": \"number\",\n        \"std\": 0,\n        \"min\": 0,\n        \"max\": 1,\n        \"num_unique_values\": 2,\n        \"samples\": [\n          1,\n          0\n        ],\n        \"semantic_type\": \"\",\n        \"description\": \"\"\n      }\n    }\n  ]\n}"
            }
          },
          "metadata": {},
          "execution_count": 27
        }
      ]
    },
    {
      "cell_type": "markdown",
      "source": [
        "The code cell above takes the cleaned review data (`df['review_clean']`) and `sentiment` data and creates a new, cleaned DataFrame (`df`) with only the remaining, relevant, cleaned data. This way the raw data is preserved in another DataFrame but it doesn't act as noise for our continued analysis."
      ],
      "metadata": {
        "id": "xqvhDSO7-sNm"
      }
    },
    {
      "cell_type": "code",
      "source": [
        "# Export this DataFrame as a CSV\n",
        "df.to_csv('amazon_cells_labelled_clean.csv', index=False)"
      ],
      "metadata": {
        "id": "z0KNrY-pDnMw"
      },
      "execution_count": 28,
      "outputs": []
    },
    {
      "cell_type": "markdown",
      "source": [
        "The code cell above exports the cleaned `df` DataFrame to a CSV to act as a save point. We can then treat this data as a new import."
      ],
      "metadata": {
        "id": "-8TnJHdM_FBi"
      }
    },
    {
      "cell_type": "code",
      "source": [
        "# Import the data from CSV as a new DataFrame to act as a checkpoint\n",
        "df = pd.read_csv('amazon_cells_labelled_clean.csv')\n",
        "df.head()"
      ],
      "metadata": {
        "colab": {
          "base_uri": "https://localhost:8080/",
          "height": 206
        },
        "id": "cdAIFTfEDrqu",
        "outputId": "0ff98043-03a8-42db-f8b8-9be2330fa869"
      },
      "execution_count": 29,
      "outputs": [
        {
          "output_type": "execute_result",
          "data": {
            "text/plain": [
              "                                                                        review_clean  \\\n",
              "0  so there is no way for me to plug it in here in the us unless i go by a converter   \n",
              "1                                                          good case excellent value   \n",
              "2                                                              great for the jawbone   \n",
              "3         tied to charger for conversations lasting more than minutes major problems   \n",
              "4                                                                   the mic is great   \n",
              "\n",
              "   sentiment  \n",
              "0          0  \n",
              "1          1  \n",
              "2          1  \n",
              "3          0  \n",
              "4          1  "
            ],
            "text/html": [
              "\n",
              "  <div id=\"df-6357800d-64e0-4e75-b2d5-eba53de9d7f0\" class=\"colab-df-container\">\n",
              "    <div>\n",
              "<style scoped>\n",
              "    .dataframe tbody tr th:only-of-type {\n",
              "        vertical-align: middle;\n",
              "    }\n",
              "\n",
              "    .dataframe tbody tr th {\n",
              "        vertical-align: top;\n",
              "    }\n",
              "\n",
              "    .dataframe thead th {\n",
              "        text-align: right;\n",
              "    }\n",
              "</style>\n",
              "<table border=\"1\" class=\"dataframe\">\n",
              "  <thead>\n",
              "    <tr style=\"text-align: right;\">\n",
              "      <th></th>\n",
              "      <th>review_clean</th>\n",
              "      <th>sentiment</th>\n",
              "    </tr>\n",
              "  </thead>\n",
              "  <tbody>\n",
              "    <tr>\n",
              "      <th>0</th>\n",
              "      <td>so there is no way for me to plug it in here in the us unless i go by a converter</td>\n",
              "      <td>0</td>\n",
              "    </tr>\n",
              "    <tr>\n",
              "      <th>1</th>\n",
              "      <td>good case excellent value</td>\n",
              "      <td>1</td>\n",
              "    </tr>\n",
              "    <tr>\n",
              "      <th>2</th>\n",
              "      <td>great for the jawbone</td>\n",
              "      <td>1</td>\n",
              "    </tr>\n",
              "    <tr>\n",
              "      <th>3</th>\n",
              "      <td>tied to charger for conversations lasting more than minutes major problems</td>\n",
              "      <td>0</td>\n",
              "    </tr>\n",
              "    <tr>\n",
              "      <th>4</th>\n",
              "      <td>the mic is great</td>\n",
              "      <td>1</td>\n",
              "    </tr>\n",
              "  </tbody>\n",
              "</table>\n",
              "</div>\n",
              "    <div class=\"colab-df-buttons\">\n",
              "\n",
              "  <div class=\"colab-df-container\">\n",
              "    <button class=\"colab-df-convert\" onclick=\"convertToInteractive('df-6357800d-64e0-4e75-b2d5-eba53de9d7f0')\"\n",
              "            title=\"Convert this dataframe to an interactive table.\"\n",
              "            style=\"display:none;\">\n",
              "\n",
              "  <svg xmlns=\"http://www.w3.org/2000/svg\" height=\"24px\" viewBox=\"0 -960 960 960\">\n",
              "    <path d=\"M120-120v-720h720v720H120Zm60-500h600v-160H180v160Zm220 220h160v-160H400v160Zm0 220h160v-160H400v160ZM180-400h160v-160H180v160Zm440 0h160v-160H620v160ZM180-180h160v-160H180v160Zm440 0h160v-160H620v160Z\"/>\n",
              "  </svg>\n",
              "    </button>\n",
              "\n",
              "  <style>\n",
              "    .colab-df-container {\n",
              "      display:flex;\n",
              "      gap: 12px;\n",
              "    }\n",
              "\n",
              "    .colab-df-convert {\n",
              "      background-color: #E8F0FE;\n",
              "      border: none;\n",
              "      border-radius: 50%;\n",
              "      cursor: pointer;\n",
              "      display: none;\n",
              "      fill: #1967D2;\n",
              "      height: 32px;\n",
              "      padding: 0 0 0 0;\n",
              "      width: 32px;\n",
              "    }\n",
              "\n",
              "    .colab-df-convert:hover {\n",
              "      background-color: #E2EBFA;\n",
              "      box-shadow: 0px 1px 2px rgba(60, 64, 67, 0.3), 0px 1px 3px 1px rgba(60, 64, 67, 0.15);\n",
              "      fill: #174EA6;\n",
              "    }\n",
              "\n",
              "    .colab-df-buttons div {\n",
              "      margin-bottom: 4px;\n",
              "    }\n",
              "\n",
              "    [theme=dark] .colab-df-convert {\n",
              "      background-color: #3B4455;\n",
              "      fill: #D2E3FC;\n",
              "    }\n",
              "\n",
              "    [theme=dark] .colab-df-convert:hover {\n",
              "      background-color: #434B5C;\n",
              "      box-shadow: 0px 1px 3px 1px rgba(0, 0, 0, 0.15);\n",
              "      filter: drop-shadow(0px 1px 2px rgba(0, 0, 0, 0.3));\n",
              "      fill: #FFFFFF;\n",
              "    }\n",
              "  </style>\n",
              "\n",
              "    <script>\n",
              "      const buttonEl =\n",
              "        document.querySelector('#df-6357800d-64e0-4e75-b2d5-eba53de9d7f0 button.colab-df-convert');\n",
              "      buttonEl.style.display =\n",
              "        google.colab.kernel.accessAllowed ? 'block' : 'none';\n",
              "\n",
              "      async function convertToInteractive(key) {\n",
              "        const element = document.querySelector('#df-6357800d-64e0-4e75-b2d5-eba53de9d7f0');\n",
              "        const dataTable =\n",
              "          await google.colab.kernel.invokeFunction('convertToInteractive',\n",
              "                                                    [key], {});\n",
              "        if (!dataTable) return;\n",
              "\n",
              "        const docLinkHtml = 'Like what you see? Visit the ' +\n",
              "          '<a target=\"_blank\" href=https://colab.research.google.com/notebooks/data_table.ipynb>data table notebook</a>'\n",
              "          + ' to learn more about interactive tables.';\n",
              "        element.innerHTML = '';\n",
              "        dataTable['output_type'] = 'display_data';\n",
              "        await google.colab.output.renderOutput(dataTable, element);\n",
              "        const docLink = document.createElement('div');\n",
              "        docLink.innerHTML = docLinkHtml;\n",
              "        element.appendChild(docLink);\n",
              "      }\n",
              "    </script>\n",
              "  </div>\n",
              "\n",
              "\n",
              "    <div id=\"df-80dda2df-ba00-414b-ba1a-08d70e86ae7f\">\n",
              "      <button class=\"colab-df-quickchart\" onclick=\"quickchart('df-80dda2df-ba00-414b-ba1a-08d70e86ae7f')\"\n",
              "                title=\"Suggest charts\"\n",
              "                style=\"display:none;\">\n",
              "\n",
              "<svg xmlns=\"http://www.w3.org/2000/svg\" height=\"24px\"viewBox=\"0 0 24 24\"\n",
              "     width=\"24px\">\n",
              "    <g>\n",
              "        <path d=\"M19 3H5c-1.1 0-2 .9-2 2v14c0 1.1.9 2 2 2h14c1.1 0 2-.9 2-2V5c0-1.1-.9-2-2-2zM9 17H7v-7h2v7zm4 0h-2V7h2v10zm4 0h-2v-4h2v4z\"/>\n",
              "    </g>\n",
              "</svg>\n",
              "      </button>\n",
              "\n",
              "<style>\n",
              "  .colab-df-quickchart {\n",
              "      --bg-color: #E8F0FE;\n",
              "      --fill-color: #1967D2;\n",
              "      --hover-bg-color: #E2EBFA;\n",
              "      --hover-fill-color: #174EA6;\n",
              "      --disabled-fill-color: #AAA;\n",
              "      --disabled-bg-color: #DDD;\n",
              "  }\n",
              "\n",
              "  [theme=dark] .colab-df-quickchart {\n",
              "      --bg-color: #3B4455;\n",
              "      --fill-color: #D2E3FC;\n",
              "      --hover-bg-color: #434B5C;\n",
              "      --hover-fill-color: #FFFFFF;\n",
              "      --disabled-bg-color: #3B4455;\n",
              "      --disabled-fill-color: #666;\n",
              "  }\n",
              "\n",
              "  .colab-df-quickchart {\n",
              "    background-color: var(--bg-color);\n",
              "    border: none;\n",
              "    border-radius: 50%;\n",
              "    cursor: pointer;\n",
              "    display: none;\n",
              "    fill: var(--fill-color);\n",
              "    height: 32px;\n",
              "    padding: 0;\n",
              "    width: 32px;\n",
              "  }\n",
              "\n",
              "  .colab-df-quickchart:hover {\n",
              "    background-color: var(--hover-bg-color);\n",
              "    box-shadow: 0 1px 2px rgba(60, 64, 67, 0.3), 0 1px 3px 1px rgba(60, 64, 67, 0.15);\n",
              "    fill: var(--button-hover-fill-color);\n",
              "  }\n",
              "\n",
              "  .colab-df-quickchart-complete:disabled,\n",
              "  .colab-df-quickchart-complete:disabled:hover {\n",
              "    background-color: var(--disabled-bg-color);\n",
              "    fill: var(--disabled-fill-color);\n",
              "    box-shadow: none;\n",
              "  }\n",
              "\n",
              "  .colab-df-spinner {\n",
              "    border: 2px solid var(--fill-color);\n",
              "    border-color: transparent;\n",
              "    border-bottom-color: var(--fill-color);\n",
              "    animation:\n",
              "      spin 1s steps(1) infinite;\n",
              "  }\n",
              "\n",
              "  @keyframes spin {\n",
              "    0% {\n",
              "      border-color: transparent;\n",
              "      border-bottom-color: var(--fill-color);\n",
              "      border-left-color: var(--fill-color);\n",
              "    }\n",
              "    20% {\n",
              "      border-color: transparent;\n",
              "      border-left-color: var(--fill-color);\n",
              "      border-top-color: var(--fill-color);\n",
              "    }\n",
              "    30% {\n",
              "      border-color: transparent;\n",
              "      border-left-color: var(--fill-color);\n",
              "      border-top-color: var(--fill-color);\n",
              "      border-right-color: var(--fill-color);\n",
              "    }\n",
              "    40% {\n",
              "      border-color: transparent;\n",
              "      border-right-color: var(--fill-color);\n",
              "      border-top-color: var(--fill-color);\n",
              "    }\n",
              "    60% {\n",
              "      border-color: transparent;\n",
              "      border-right-color: var(--fill-color);\n",
              "    }\n",
              "    80% {\n",
              "      border-color: transparent;\n",
              "      border-right-color: var(--fill-color);\n",
              "      border-bottom-color: var(--fill-color);\n",
              "    }\n",
              "    90% {\n",
              "      border-color: transparent;\n",
              "      border-bottom-color: var(--fill-color);\n",
              "    }\n",
              "  }\n",
              "</style>\n",
              "\n",
              "      <script>\n",
              "        async function quickchart(key) {\n",
              "          const quickchartButtonEl =\n",
              "            document.querySelector('#' + key + ' button');\n",
              "          quickchartButtonEl.disabled = true;  // To prevent multiple clicks.\n",
              "          quickchartButtonEl.classList.add('colab-df-spinner');\n",
              "          try {\n",
              "            const charts = await google.colab.kernel.invokeFunction(\n",
              "                'suggestCharts', [key], {});\n",
              "          } catch (error) {\n",
              "            console.error('Error during call to suggestCharts:', error);\n",
              "          }\n",
              "          quickchartButtonEl.classList.remove('colab-df-spinner');\n",
              "          quickchartButtonEl.classList.add('colab-df-quickchart-complete');\n",
              "        }\n",
              "        (() => {\n",
              "          let quickchartButtonEl =\n",
              "            document.querySelector('#df-80dda2df-ba00-414b-ba1a-08d70e86ae7f button');\n",
              "          quickchartButtonEl.style.display =\n",
              "            google.colab.kernel.accessAllowed ? 'block' : 'none';\n",
              "        })();\n",
              "      </script>\n",
              "    </div>\n",
              "\n",
              "    </div>\n",
              "  </div>\n"
            ],
            "application/vnd.google.colaboratory.intrinsic+json": {
              "type": "dataframe",
              "variable_name": "df",
              "summary": "{\n  \"name\": \"df\",\n  \"rows\": 990,\n  \"fields\": [\n    {\n      \"column\": \"review_clean\",\n      \"properties\": {\n        \"dtype\": \"string\",\n        \"num_unique_values\": 983,\n        \"samples\": [\n          \"they keep getting better and better this is my third one and i ve had numerous palms too\",\n          \"battery has no life\",\n          \"not as good as i had hoped\"\n        ],\n        \"semantic_type\": \"\",\n        \"description\": \"\"\n      }\n    },\n    {\n      \"column\": \"sentiment\",\n      \"properties\": {\n        \"dtype\": \"number\",\n        \"std\": 0,\n        \"min\": 0,\n        \"max\": 1,\n        \"num_unique_values\": 2,\n        \"samples\": [\n          1,\n          0\n        ],\n        \"semantic_type\": \"\",\n        \"description\": \"\"\n      }\n    }\n  ]\n}"
            }
          },
          "metadata": {},
          "execution_count": 29
        }
      ]
    },
    {
      "cell_type": "markdown",
      "source": [
        "The code cell above imports the cleaned dataset to allow us to move forward with our analysis."
      ],
      "metadata": {
        "id": "3nKJZXSv_Ndj"
      }
    },
    {
      "cell_type": "markdown",
      "source": [
        "#### Vocabulary size"
      ],
      "metadata": {
        "id": "gYTa1ezfnBP7"
      }
    },
    {
      "cell_type": "code",
      "source": [
        "# Import NLTK for tokenization\n",
        "import nltk\n",
        "from nltk.tokenize import word_tokenize\n",
        "\n",
        "# Download required NLTK data (run once)\n",
        "nltk.download('punkt_tab')"
      ],
      "metadata": {
        "colab": {
          "base_uri": "https://localhost:8080/"
        },
        "id": "O4-DpZg7dwcY",
        "outputId": "6a35bd03-c7d9-44ca-98f2-c0f4636d3fb7"
      },
      "execution_count": 45,
      "outputs": [
        {
          "output_type": "stream",
          "name": "stderr",
          "text": [
            "[nltk_data] Downloading package punkt_tab to /root/nltk_data...\n",
            "[nltk_data]   Package punkt_tab is already up-to-date!\n"
          ]
        },
        {
          "output_type": "execute_result",
          "data": {
            "text/plain": [
              "True"
            ]
          },
          "metadata": {},
          "execution_count": 45
        }
      ]
    },
    {
      "cell_type": "code",
      "source": [
        "# Tokenize all reviews\n",
        "# Get all the review text\n",
        "all_reviews = df['review_clean'].tolist()\n",
        "\n",
        "# Tokenize each review and combine all tokens into one list\n",
        "all_tokens = []\n",
        "for review in all_reviews:\n",
        "    tokens = word_tokenize(review) # Break review into words\n",
        "    all_tokens.extend(tokens) # Add to all_tokens list"
      ],
      "metadata": {
        "id": "Pr4FaK1qfxmR"
      },
      "execution_count": 46,
      "outputs": []
    },
    {
      "cell_type": "code",
      "source": [
        "# Count total words (including duplicates)\n",
        "total_words = len(all_tokens)\n",
        "print(f\"\\nTotal number of words (including duplicates): {total_words:,}\")"
      ],
      "metadata": {
        "colab": {
          "base_uri": "https://localhost:8080/"
        },
        "id": "u5byhhCUgWm3",
        "outputId": "815b5557-f78b-4ba7-8dcd-5e87b45fc724"
      },
      "execution_count": 47,
      "outputs": [
        {
          "output_type": "stream",
          "name": "stdout",
          "text": [
            "\n",
            "Total number of words (including duplicates): 10,349\n"
          ]
        }
      ]
    },
    {
      "cell_type": "code",
      "source": [
        "# Count unique tokens (vocabulary size)\n",
        "unique_tokens = set(all_tokens)\n",
        "vocabulary_size = len(unique_tokens)\n",
        "print(f\"\\nTotal number of unique tokens (vocabulary size): {vocabulary_size:,}\")"
      ],
      "metadata": {
        "colab": {
          "base_uri": "https://localhost:8080/"
        },
        "id": "psTkjTZDglQX",
        "outputId": "af09b167-972c-4808-8581-bbc58a75b3b8"
      },
      "execution_count": 48,
      "outputs": [
        {
          "output_type": "stream",
          "name": "stdout",
          "text": [
            "\n",
            "Total number of unique tokens (vocabulary size): 1,812\n"
          ]
        }
      ]
    },
    {
      "cell_type": "markdown",
      "source": [
        "The code cells above run the tokenization process, which identified 10,349 total words in the dataset (including duplicates) and 1,812 unique tokens, which represents our vocabulary size."
      ],
      "metadata": {
        "id": "fobix_HNh2GI"
      }
    },
    {
      "cell_type": "code",
      "source": [
        "# Count word frequencies\n",
        "word_freq = Counter(all_tokens)\n",
        "\n",
        "# Get the top 20 most common words\n",
        "top_20_words = word_freq.most_common(20)\n",
        "\n",
        "# Display the top 20 most common words\n",
        "print(\"\\nTop 20 Most Common Words:\")\n",
        "for word, freq in top_20_words:\n",
        "    print(f\"{word}: {freq} times\")"
      ],
      "metadata": {
        "colab": {
          "base_uri": "https://localhost:8080/"
        },
        "id": "xMX24-X9g7mB",
        "outputId": "8bc08b2d-eb7a-40b7-f5ef-fa0c825d017f"
      },
      "execution_count": 49,
      "outputs": [
        {
          "output_type": "stream",
          "name": "stdout",
          "text": [
            "\n",
            "Top 20 Most Common Words:\n",
            "the: 518 times\n",
            "i: 383 times\n",
            "it: 311 times\n",
            "and: 311 times\n",
            "is: 241 times\n",
            "a: 219 times\n",
            "this: 205 times\n",
            "to: 196 times\n",
            "phone: 164 times\n",
            "my: 145 times\n",
            "not: 121 times\n",
            "of: 120 times\n",
            "for: 119 times\n",
            "with: 112 times\n",
            "very: 104 times\n",
            "great: 93 times\n",
            "was: 90 times\n",
            "on: 90 times\n",
            "in: 88 times\n",
            "that: 82 times\n"
          ]
        }
      ]
    },
    {
      "cell_type": "markdown",
      "source": [
        "The code cell above returns the most common 20 words found in the dataset and their frequencies. The most frequent words include common terms like \"the,\" \"i\", \"it\", \"and\", \"is\", and \"a\", which are typical in English text."
      ],
      "metadata": {
        "id": "uT4dKWIDiKEa"
      }
    },
    {
      "cell_type": "code",
      "source": [
        "# Create visualization of top 20 words\n",
        "# Extract words and their counts for plotting\n",
        "words = [word for word, count in top_20_words]\n",
        "counts = [count for word, count in top_20_words]\n",
        "\n",
        "# Create the plot\n",
        "plt.figure(figsize=(12, 6))\n",
        "plt.bar(words, counts, color='#CEB888', edgecolor='black', alpha=0.7)\n",
        "plt.xlabel('Words', fontsize=12, fontweight='bold')\n",
        "plt.ylabel('Frequency', fontsize=12, fontweight='bold')\n",
        "plt.title('Top 20 Most Frequent Words in Amazon Reviews', fontsize=14, fontweight='bold')\n",
        "plt.xticks(rotation=45, ha='right')\n",
        "plt.tight_layout()\n",
        "plt.grid(axis='y', alpha=0.3)\n",
        "plt.show()"
      ],
      "metadata": {
        "colab": {
          "base_uri": "https://localhost:8080/",
          "height": 607
        },
        "id": "v4lciCaShSak",
        "outputId": "81e9a9a5-a3c7-4d30-ac70-d31d0eb3546f"
      },
      "execution_count": 66,
      "outputs": [
        {
          "output_type": "display_data",
          "data": {
            "text/plain": [
              "<Figure size 1200x600 with 1 Axes>"
            ],
            "image/png": "[encoded data removed]"
          },
          "metadata": {}
        }
      ]
    },
    {
      "cell_type": "markdown",
      "source": [
        "The code cell above creates a frequency bar chart showing how often the 20 most common words used in the dataset are present."
      ],
      "metadata": {
        "id": "zTAisBTAieZW"
      }
    },
    {
      "cell_type": "code",
      "source": [
        "# Analyze word frequency distribution\n",
        "# Count how many words appear only once, twice, etc.\n",
        "freq_counts = Counter(word_freq.values())\n",
        "\n",
        "words_appearing_once = freq_counts[1]\n",
        "words_appearing_twice = freq_counts[2]\n",
        "words_appearing_5_or_less = sum(count for freq, count in freq_counts.items() if freq <= 5)\n",
        "\n",
        "print(f\"Words appearing only once: {words_appearing_once}\")\n",
        "print(f\"Words appearing only twice: {words_appearing_twice}\")\n",
        "print(f\"Words appearing 5 times or less: {words_appearing_5_or_less}\")\n",
        "print(f\"Percentage of vocabulary appearing <= 5 times: {(words_appearing_5_or_less/vocabulary_size)*100:.1f}%\")"
      ],
      "metadata": {
        "colab": {
          "base_uri": "https://localhost:8080/"
        },
        "id": "iyZSh1HzheHj",
        "outputId": "d8ea3725-e9ff-49e7-dead-b502945d1e16"
      },
      "execution_count": 52,
      "outputs": [
        {
          "output_type": "stream",
          "name": "stdout",
          "text": [
            "Words appearing only once: 1014\n",
            "Words appearing only twice: 259\n",
            "Words appearing 5 times or less: 1542\n",
            "Percentage of vocabulary appearing <= 5 times: 85.1%\n"
          ]
        }
      ]
    },
    {
      "cell_type": "markdown",
      "source": [
        "**Thresholding Decision:**\n",
        "\n",
        "For this analysis, I have chosen **not to apply word frequency thresholding** at this stage. Here's why:\n",
        "\n",
        "1. **Small Dataset Size**: The Amazon reviews dataset contains only 1,000 reviews. Removing rare words could eliminate useful information that helps the model learn sentiment patterns.\n",
        "\n",
        "2. **Meaningful Rare Words**: In sentiment analysis, rare words can be very informative. For example, words like \"defective,\" \"excellent,\" or \"disappointed\" might not appear frequently but carry strong sentiment signals.\n",
        "\n",
        "3. **Neural Network Robustness**: Modern neural networks, especially LSTMs with embedding layers, are designed to handle large vocabularies. The embedding layer will learn appropriate representations for all words, including rare ones.\n",
        "\n",
        "Based on our analysis, approximately **85.1%** of our vocabulary appears 5 times or less. However, given our dataset size and the nature of sentiment analysis, retaining these words provides more potential benefit than removing them."
      ],
      "metadata": {
        "id": "vAr_OPh4irTJ"
      }
    },
    {
      "cell_type": "markdown",
      "source": [
        "#### Word embedding length"
      ],
      "metadata": {
        "id": "jmGPFPnOr_wS"
      }
    },
    {
      "cell_type": "code",
      "source": [
        "# Quick check of the vocabulary size from previous sections\n",
        "print(f\"Vocabulary Size: {vocabulary_size:,} unique words\")\n",
        "print(f\"Dataset Size: {len(df)} reviews\")\n",
        "print(f\"Task Complexity: Binary classification (positive/negative sentiment)\")"
      ],
      "metadata": {
        "colab": {
          "base_uri": "https://localhost:8080/"
        },
        "id": "pYVJplOMkh1j",
        "outputId": "953beb75-87c0-4493-c84c-66486fce9110"
      },
      "execution_count": 53,
      "outputs": [
        {
          "output_type": "stream",
          "name": "stdout",
          "text": [
            "Vocabulary Size: 1,812 unique words\n",
            "Dataset Size: 990 reviews\n",
            "Task Complexity: Binary classification (positive/negative sentiment)\n"
          ]
        }
      ]
    },
    {
      "cell_type": "markdown",
      "source": [
        "**Proposed Embedding Dimension:** 50\n",
        "\n",
        "**Justification:**\n",
        "\n",
        "I propose an embedding length of **30 dimensions** for this sentiment analysis task. This choice is based on three key factors:\n",
        "\n",
        "1. **Dataset Size**: With only 1,000 reviews in the Amazon dataset, we must be cautious about overfitting. Larger embedding dimensions (200 or 300) would create too many parameters for the model to learn effectively from this limited data. An embedding dimension of 30 provides sufficient representational capacity while keeping the parameter count manageable.\n",
        "\n",
        "2. **Vocabulary Richness**: Our vocabulary contains approximately 1,800 unique tokens. A 30-dimensional embedding space provides adequate capacity to capture meaningful semantic relationships between words without being unnecessarily large. Each word will be represented as a 30-dimensional vector, which is sufficient for distinguishing between sentiment-bearing words in our moderately-sized vocabulary.\n",
        "\n",
        "3. **Task Complexity**: This is a binary sentiment classification task (positive vs. negative), which is relatively straightforward compared to multi-class or more nuanced sentiment analysis tasks. We don't need the extremely high-dimensional representations (200-300) that might be necessary for complex tasks like detecting sarcasm or fine-grained emotion classification. An embedding dimension of 30 strikes the right balance between expressiveness and simplicity.\n",
        "\n",
        "Additionally, 50 dimensions is a widely-used standard in the NLP literature for small-to-medium datasets and has been shown to work effectively for sentiment analysis tasks but the statistics run in the below section indicate 50 may still be too large for this dataset (Ahmad, 2023, p. 304)."
      ],
      "metadata": {
        "id": "Z_8Nl4wLk515"
      }
    },
    {
      "cell_type": "markdown",
      "source": [
        "#### Statistical justification for maximum sequence length"
      ],
      "metadata": {
        "id": "FXQJwE_WDov8"
      }
    },
    {
      "cell_type": "code",
      "source": [
        "# Analyze the sequence lengths to determine max_sequence_length\n",
        "# Calculate the length of each review in tokens\n",
        "sequence_lengths = []\n",
        "for review in df['review_clean']:\n",
        "    tokens = word_tokenize(review)\n",
        "    sequence_lengths.append(len(tokens))\n",
        "\n",
        "# Convert to NumPy array for easier analysis\n",
        "sequence_lengths = np.array(sequence_lengths)\n",
        "\n",
        "# Calculate statistics\n",
        "mean_length = np.mean(sequence_lengths)\n",
        "median_length = np.median(sequence_lengths)\n",
        "std_length = np.std(sequence_lengths)\n",
        "max_length = np.max(sequence_lengths)\n",
        "min_length = np.min(sequence_lengths)\n",
        "\n",
        "# Calculate percentiles\n",
        "percentile_75 = np.percentile(sequence_lengths, 75)\n",
        "percentile_90 = np.percentile(sequence_lengths, 90)\n",
        "percentile_95 = np.percentile(sequence_lengths, 95)\n",
        "percentile_99 = np.percentile(sequence_lengths, 99)\n",
        "\n",
        "# Display the results\n",
        "print(\"=\" * 60)\n",
        "print(\"--- Results ---\")\n",
        "print(\"=\" * 60)\n",
        "print(f\"Mean sequence length: {mean_length:.2f} tokens\")\n",
        "print(f\"Median sequence length: {median_length:.2f} tokens\")\n",
        "print(f\"Standard deviation of sequence lengths: {std_length:.2f} tokens\")\n",
        "print(f\"Maximum sequence length: {max_length} tokens\")\n",
        "print(f\"Minimum sequence length: {min_length} tokens\")\n",
        "print(f\"75th percentile sequence length: {percentile_75:.2f} tokens\")\n",
        "print(f\"90th percentile sequence length: {percentile_90:.2f} tokens\")\n",
        "print(f\"95th percentile sequence length: {percentile_95:.2f} tokens\")\n",
        "print(f\"99th percentile sequence length: {percentile_99:.2f} tokens\")\n",
        "\n",
        "# Calculate coverage for different max lengths\n",
        "print(\"\\n\" + \"=\" * 60)\n",
        "print(f\"--- Coverage Analysis: ---\")\n",
        "print(\"=\" * 60)\n",
        "for max_len in [20, 30, 40, 50, 60, 70, 80, 100]:\n",
        "    coverage = (sequence_lengths <= max_len).sum() / len(sequence_lengths) * 100\n",
        "    print(f\"Max length {max_len:3d}: {coverage:5.2f}% of reviews covered\")"
      ],
      "metadata": {
        "colab": {
          "base_uri": "https://localhost:8080/"
        },
        "id": "TBB2aTn5xExi",
        "outputId": "1ec0f8bd-30b2-4f14-b3f1-a58560e6e60f"
      },
      "execution_count": 59,
      "outputs": [
        {
          "output_type": "stream",
          "name": "stdout",
          "text": [
            "============================================================\n",
            "--- Results ---\n",
            "============================================================\n",
            "Mean sequence length: 10.45 tokens\n",
            "Median sequence length: 9.00 tokens\n",
            "Standard deviation of sequence lengths: 6.79 tokens\n",
            "Maximum sequence length: 31 tokens\n",
            "Minimum sequence length: 1 tokens\n",
            "75th percentile sequence length: 15.00 tokens\n",
            "90th percentile sequence length: 21.00 tokens\n",
            "95th percentile sequence length: 24.00 tokens\n",
            "99th percentile sequence length: 27.00 tokens\n",
            "\n",
            "============================================================\n",
            "--- Coverage Analysis: ---\n",
            "============================================================\n",
            "Max length  20: 89.29% of reviews covered\n",
            "Max length  30: 99.90% of reviews covered\n",
            "Max length  40: 100.00% of reviews covered\n",
            "Max length  50: 100.00% of reviews covered\n",
            "Max length  60: 100.00% of reviews covered\n",
            "Max length  70: 100.00% of reviews covered\n",
            "Max length  80: 100.00% of reviews covered\n",
            "Max length 100: 100.00% of reviews covered\n"
          ]
        }
      ]
    },
    {
      "cell_type": "code",
      "source": [
        "# Create visualizations\n",
        "# Create figure with two subplots side by side\n",
        "fig, axes = plt.subplots(1, 2, figsize=(16, 6))\n",
        "\n",
        "# Histogram\n",
        "axes[0].hist(sequence_lengths, bins=30, color='#CEB888', edgecolor='black', alpha=0.7)\n",
        "axes[0].axvline(mean_length, color='red', linestyle='--', linewidth=2, label=f'Mean: {mean_length:.1f}')\n",
        "axes[0].axvline(median_length, color='orange', linestyle='--', linewidth=2, label=f'Median: {median_length:.1f}')\n",
        "axes[0].axvline(percentile_95, color='green', linestyle='--', linewidth=2, label=f'95th percentile: {percentile_95:.0f}')\n",
        "axes[0].set_xlabel('Sequence Length (tokens)', fontsize=12, fontweight='bold')\n",
        "axes[0].set_ylabel('Frequency', fontsize=12, fontweight='bold')\n",
        "axes[0].set_title('Distribution of Review Lengths', fontsize=14, fontweight='bold')\n",
        "axes[0].legend()\n",
        "axes[0].grid(axis='y', alpha=0.3)\n",
        "\n",
        "# Boxplot\n",
        "axes[1].boxplot(sequence_lengths, vert=True, patch_artist=True,\n",
        "                boxprops=dict(facecolor='#5CB8B2', color='black'),\n",
        "                medianprops=dict(color='#A6192E', linewidth=2),\n",
        "                whiskerprops=dict(color='black'),\n",
        "                capprops=dict(color='black'))\n",
        "axes[1].set_ylabel('Sequence Length (tokens)', fontsize=12, fontweight='bold')\n",
        "axes[1].set_title('Boxplot of Review Lengths', fontsize=14, fontweight='bold')\n",
        "axes[1].grid(axis='y', alpha=0.3)\n",
        "\n",
        "# Add horizontal reference lines to boxplot\n",
        "axes[1].axhline(percentile_95, color='green', linestyle='--', linewidth=1.5,\n",
        "                label=f'95th percentile: {percentile_95:.0f}', alpha=0.7)\n",
        "axes[1].legend()\n",
        "\n",
        "plt.tight_layout()\n",
        "plt.show()"
      ],
      "metadata": {
        "colab": {
          "base_uri": "https://localhost:8080/",
          "height": 528
        },
        "id": "c9_5ehvxyAJP",
        "outputId": "e8af8e08-7298-40e8-c216-bf19aad784d0"
      },
      "execution_count": 68,
      "outputs": [
        {
          "output_type": "display_data",
          "data": {
            "text/plain": [
              "<Figure size 1600x600 with 2 Axes>"
            ],
            "image/png": "[encoded data removed]"
          },
          "metadata": {}
        }
      ]
    },
    {
      "cell_type": "code",
      "source": [
        "ll"
      ],
      "metadata": {
        "id": "EGveRDqLz6Bf"
      },
      "execution_count": null,
      "outputs": []
    },
    {
      "cell_type": "markdown",
      "source": [
        "**Analysis of Sequence Lengths:**\n",
        "\n",
        "The distribution of review lengths in the Amazon dataset shows the following characteristics:\n",
        "- **Mean length**: 10.45 tokens\n",
        "- **Median length**: 9 tokens\n",
        "- **95th percentile**: 24 tokens\n",
        "- **Maximum length**: 31 tokens\n",
        "\n",
        "The histogram reveals that most reviews are relatively short and concise, which is typical of Amazon product reviews. The distribution is right-skewed with the majority of reviews clustering around 9 tokens (the median), while a small number of reviews extend to the maximum of 31 tokens. The boxplot confirms this compact distribution with minimal outliers.\n",
        "\n",
        "**Chosen Maximum Sequence Length: 30 tokens**\n",
        "\n",
        "**Justification:**\n",
        "\n",
        "I have selected a maximum sequence length of **30 tokens** based on the following considerations:\n",
        "\n",
        "1. **Near-Complete Coverage**: This length captures approximately **99.9%** of all reviews in the dataset. Only the single longest review (31 tokens) would be truncated by one token, representing a negligible information loss of less than 0.01% of the total dataset.\n",
        "\n",
        "2. **Efficiency**: With a mean length of only 10.45 tokens and a median of 9 tokens, most reviews are quite concise. A maximum length of 30 tokens provides near-complete coverage while remaining highly efficient for the LSTM architecture. The alternative of setting the maximum to 31 or higher would require additional computational resources for minimal gain.\n",
        "\n",
        "3. **Standard Practice**: A maximum sequence length of 30 tokens is a round, commonly-used value in NLP that aligns with best practices for sentiment analysis of short-form text like product reviews, social media posts, and customer feedback.\n",
        "\n",
        "4. **Padding Considerations**: Reviews shorter than 30 tokens will be padded with zeros. Given that the median length is 9 tokens, the typical review will require approximately 21 padding tokens. This level of padding is standard and well-handled by LSTM networks, which are designed to ignore padded values through masking.\n",
        "\n",
        "5. **Practical Trade-off**: In machine learning, it is common practice to optimize for the vast majority of the data rather than edge cases. Truncating one token from one review is an acceptable trade-off for improved computational efficiency and a cleaner model architecture."
      ],
      "metadata": {
        "id": "wmhVgfT4zFqm"
      }
    },
    {
      "cell_type": "markdown",
      "source": [
        "### B2. Tokenization"
      ],
      "metadata": {
        "id": "8Zu1S8rkXNFB"
      }
    },
    {
      "cell_type": "markdown",
      "source": [
        "> Describe the goals of the tokenization process, including any code generated and any packages that are used to normalize text during the process."
      ],
      "metadata": {
        "id": "yoaRyAZNYoLd"
      }
    },
    {
      "cell_type": "markdown",
      "source": [
        "### B3. Padding Process"
      ],
      "metadata": {
        "id": "b9R1_ojOXPOM"
      }
    },
    {
      "cell_type": "markdown",
      "source": [
        "> Explain the padding process used to standardize the length of sequences. Include the following in your explanation:\n",
        "\n",
        "  * whether the padding occurs before or after the text sequence\n",
        "  * a screenshot of a single padded sequence"
      ],
      "metadata": {
        "id": "RgNh94hWYpvI"
      }
    },
    {
      "cell_type": "markdown",
      "source": [
        "### B4. Categories of Sentiment"
      ],
      "metadata": {
        "id": "wFi0_nqiXQ8f"
      }
    },
    {
      "cell_type": "markdown",
      "source": [
        "> Identify how many categories of sentiment will be used and provide an activation function for the final dense layer of the network."
      ],
      "metadata": {
        "id": "L31XhnvPYvBP"
      }
    },
    {
      "cell_type": "markdown",
      "source": [
        "### B5. Steps to Prepare the Data"
      ],
      "metadata": {
        "id": "28ZIKiAXXS4W"
      }
    },
    {
      "cell_type": "markdown",
      "source": [
        "> Explain the steps used to prepare the data for analysis, including the size of the training, validation, and test set split based on the industry average."
      ],
      "metadata": {
        "id": "TFOdKOeLYwwW"
      }
    },
    {
      "cell_type": "markdown",
      "source": [
        "### B6. Prepared Dataset"
      ],
      "metadata": {
        "id": "SmfnTDfjXVWW"
      }
    },
    {
      "cell_type": "markdown",
      "source": [
        "> Provide a copy of the prepared dataset."
      ],
      "metadata": {
        "id": "wF5vypKCYyZX"
      }
    },
    {
      "cell_type": "markdown",
      "source": [
        "## C. Network Architecture"
      ],
      "metadata": {
        "id": "82WV4F4jXYO7"
      }
    },
    {
      "cell_type": "markdown",
      "source": [
        "> Describe the type of neural network model used by doing the following:"
      ],
      "metadata": {
        "id": "MvSCOej3Y33a"
      }
    },
    {
      "cell_type": "markdown",
      "source": [
        "### C1. Model Summary"
      ],
      "metadata": {
        "id": "4auiTuqPXZCx"
      }
    },
    {
      "cell_type": "markdown",
      "source": [
        "> Provide the output of the model summary of the function from TensorFlow or PyTorch."
      ],
      "metadata": {
        "id": "PlS2ulu_Y5cc"
      }
    },
    {
      "cell_type": "markdown",
      "source": [
        "### C2. Network Architecture"
      ],
      "metadata": {
        "id": "GEEmujQVXaQW"
      }
    },
    {
      "cell_type": "markdown",
      "source": [
        "> Discuss the number of layers, the type of layers, and the total number of parameters."
      ],
      "metadata": {
        "id": "3wXVZoIsY6_Z"
      }
    },
    {
      "cell_type": "markdown",
      "source": [
        "### C3. Hyperparameters"
      ],
      "metadata": {
        "id": "pGqvqMw9XcKd"
      }
    },
    {
      "cell_type": "markdown",
      "source": [
        "> Justify the choice of hyperparameters, including each of the following elements:\n",
        "\n",
        "  * activation functions\n",
        "  * number of nodes per layer\n",
        "  * loss function\n",
        "  * optimizer\n",
        "  * stopping criteria"
      ],
      "metadata": {
        "id": "zkvfN8ekY8fZ"
      }
    },
    {
      "cell_type": "markdown",
      "source": [
        "## D. Neural Network Model Evaluation"
      ],
      "metadata": {
        "id": "Q0EQRo3KXeJp"
      }
    },
    {
      "cell_type": "markdown",
      "source": [
        "> Evaluate the model's training process and its relevant outcomes by doing the following:"
      ],
      "metadata": {
        "id": "qYDNjoOwZFuM"
      }
    },
    {
      "cell_type": "markdown",
      "source": [
        "### D1. Stopping Criteria"
      ],
      "metadata": {
        "id": "GvncPTQ1Xf2m"
      }
    },
    {
      "cell_type": "markdown",
      "source": [
        "> Discuss the impact of using stopping criteria to include defining the number of epochs, including a screenshot showing the final training epoch."
      ],
      "metadata": {
        "id": "CA4060YpZHIi"
      }
    },
    {
      "cell_type": "markdown",
      "source": [
        "### D2. Fitness"
      ],
      "metadata": {
        "id": "Gtcil_UvXhiE"
      }
    },
    {
      "cell_type": "markdown",
      "source": [
        "> Assess the fitness of the model and any actions taken to address overfitting or underfitting."
      ],
      "metadata": {
        "id": "T0llPTCPZIgm"
      }
    },
    {
      "cell_type": "markdown",
      "source": [
        "### D3. Training Process"
      ],
      "metadata": {
        "id": "GFfPUSzyXi-v"
      }
    },
    {
      "cell_type": "markdown",
      "source": [
        "> Provide clearly labeled visualizations of the model's training process and show the loss and accuracy metric."
      ],
      "metadata": {
        "id": "eCGOiV3NZJws"
      }
    },
    {
      "cell_type": "markdown",
      "source": [],
      "metadata": {
        "id": "W4xW8IL_E93z"
      }
    },
    {
      "cell_type": "markdown",
      "source": [
        "### D4. Predictive Accuracy"
      ],
      "metadata": {
        "id": "8tjs7IIhXlEX"
      }
    },
    {
      "cell_type": "markdown",
      "source": [
        "> Discuss the predictive accuracy of the trained model using the chosen evaluation metric from part D3."
      ],
      "metadata": {
        "id": "RBWgs7RnZLqq"
      }
    },
    {
      "cell_type": "markdown",
      "source": [
        "### D5. Ethical Standards Compliance"
      ],
      "metadata": {
        "id": "VQpGd1E-Xmus"
      }
    },
    {
      "cell_type": "markdown",
      "source": [
        "> Explain how the analysis complies with artificial intelligence (AI) global ethical standards and mitigates bias."
      ],
      "metadata": {
        "id": "qOObi3qeZM_8"
      }
    },
    {
      "cell_type": "markdown",
      "source": [
        "## E. Code"
      ],
      "metadata": {
        "id": "SODusEBeXpq3"
      }
    },
    {
      "cell_type": "markdown",
      "source": [
        "> Provide the code you used to save the trained model within the neural network."
      ],
      "metadata": {
        "id": "NsIupuSXZOW-"
      }
    },
    {
      "cell_type": "markdown",
      "source": [
        "## F. Functionality"
      ],
      "metadata": {
        "id": "Tp1BhWM3Xrwq"
      }
    },
    {
      "cell_type": "markdown",
      "source": [
        "> Discuss the functionality of your model, including the impact of your choice of network architecture."
      ],
      "metadata": {
        "id": "hcv8uZc0ZQCF"
      }
    },
    {
      "cell_type": "markdown",
      "source": [
        "## G. Recommendations"
      ],
      "metadata": {
        "id": "YTc92xwVXtR2"
      }
    },
    {
      "cell_type": "markdown",
      "source": [
        "> Recommend a course of action based on your results as they relate to the research question."
      ],
      "metadata": {
        "id": "oushAu1oZRco"
      }
    },
    {
      "cell_type": "markdown",
      "source": [
        "## H. Reporting"
      ],
      "metadata": {
        "id": "w1NyxmdpXvKP"
      }
    },
    {
      "cell_type": "markdown",
      "source": [
        "> Submit a copy of your code and output in a PDF or HTML format."
      ],
      "metadata": {
        "id": "uBk3dAORZTDk"
      }
    },
    {
      "cell_type": "code",
      "source": [
        "# Convert notebook to HTML\n",
        "!jupyter nbconvert --to html d604_task_2.ipynb"
      ],
      "metadata": {
        "id": "PqtYBIGnW_Wi",
        "colab": {
          "base_uri": "https://localhost:8080/"
        },
        "outputId": "9eef6d9a-1779-4394-9758-fbba889d0b9c"
      },
      "execution_count": 22,
      "outputs": [
        {
          "output_type": "stream",
          "name": "stdout",
          "text": [
            "[NbConvertApp] Converting notebook d604_task_2.ipynb to html\n",
            "[NbConvertApp] WARNING | Alternative text is missing on 1 image(s).\n",
            "[NbConvertApp] Writing 448899 bytes to d604_task_2.html\n"
          ]
        }
      ]
    },
    {
      "cell_type": "markdown",
      "source": [
        "## I. Sources for Third-Party Code"
      ],
      "metadata": {
        "id": "EAH5x1UvX0Ag"
      }
    },
    {
      "cell_type": "markdown",
      "source": [
        "> Submit a list of all the specific web sources you used to acquire segments of third-party code to support the application."
      ],
      "metadata": {
        "id": "4s_Gv5wQZUVt"
      }
    },
    {
      "cell_type": "markdown",
      "source": [
        "* [Python RegEx 're' module](https://docs.python.org/3/library/re.html)\n",
        "* [Python String module](https://docs.python.org/3/library/string.html)"
      ],
      "metadata": {
        "id": "ZQJWeVv-O7ux"
      }
    },
    {
      "cell_type": "markdown",
      "source": [
        "## J. Sources"
      ],
      "metadata": {
        "id": "x37fOYtSX2On"
      }
    },
    {
      "cell_type": "markdown",
      "source": [
        "> Acknowledge sources, using in-text citations and references, for content that is quoted, paraphrased, or summarized."
      ],
      "metadata": {
        "id": "1yVmJSpbX6_K"
      }
    },
    {
      "cell_type": "markdown",
      "source": [
        "* Ahmad, I., Phd (2023). 50 Algorithms Every Programmer Should Know (2nd ed.). Packt Publishing.\n",
        "* Audevart, A., Banachewicz, K., & Massaron, L. (2021). Machine Learning Using TensorFlow Cookbook. Packt Publishing."
      ],
      "metadata": {
        "id": "iJn9TIMdE1r-"
      }
    },
    {
      "cell_type": "code",
      "source": [],
      "metadata": {
        "id": "oSaDgniszNmB"
      },
      "execution_count": 22,
      "outputs": []
    }
  ]
}