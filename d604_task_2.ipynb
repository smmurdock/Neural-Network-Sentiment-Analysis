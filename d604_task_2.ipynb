{
  "nbformat": 4,
  "nbformat_minor": 0,
  "metadata": {
    "colab": {
      "provenance": [],
      "toc_visible": true
    },
    "kernelspec": {
      "name": "python3",
      "display_name": "Python 3"
    },
    "language_info": {
      "name": "python"
    }
  },
  "cells": [
    {
      "cell_type": "markdown",
      "source": [
        "# D604 Task 2 - Sentiment Analysis Using Neural Networks"
      ],
      "metadata": {
        "id": "wvGxAFBIW13x"
      }
    },
    {
      "cell_type": "code",
      "execution_count": 1,
      "metadata": {
        "colab": {
          "base_uri": "https://localhost:8080/"
        },
        "id": "YBu6PaAOVL1h",
        "outputId": "0141ea7a-398e-421d-966f-8b1ddaf0ffa6"
      },
      "outputs": [
        {
          "output_type": "stream",
          "name": "stdout",
          "text": [
            "/content/drive/MyDrive/1 Projects/_WGU | MS-DataAnalytics-DataScience/WGU | D604 - ADVANCED ANALYTICS/Task 2 - Sentiment Analysis Using Neural Networks\n"
          ]
        }
      ],
      "source": [
        "cd /content/drive/MyDrive/1 Projects/_WGU | MS-DataAnalytics-DataScience/WGU | D604 - ADVANCED ANALYTICS/Task 2 - Sentiment Analysis Using Neural Networks"
      ]
    },
    {
      "cell_type": "markdown",
      "source": [
        "## A. Research Purpose"
      ],
      "metadata": {
        "id": "XYnqYu1IW8ZQ"
      }
    },
    {
      "cell_type": "markdown",
      "source": [
        "> Describe the purpose of this data analysis by doing the following:"
      ],
      "metadata": {
        "id": "n8ek1mScXAuI"
      }
    },
    {
      "cell_type": "markdown",
      "source": [
        "### A1. Research Question"
      ],
      "metadata": {
        "id": "1slqPNrqXCHU"
      }
    },
    {
      "cell_type": "markdown",
      "source": [
        "### A2. Objectives or Goals"
      ],
      "metadata": {
        "id": "suidsROMXFZj"
      }
    },
    {
      "cell_type": "markdown",
      "source": [
        "### A3. Prescribed Network"
      ],
      "metadata": {
        "id": "Wdznno85XHt6"
      }
    },
    {
      "cell_type": "markdown",
      "source": [
        "## B. Data Preparation"
      ],
      "metadata": {
        "id": "69M-msJNXJng"
      }
    },
    {
      "cell_type": "markdown",
      "source": [
        "### B1. Data Exploration"
      ],
      "metadata": {
        "id": "cdydIL9vXLRH"
      }
    },
    {
      "cell_type": "markdown",
      "source": [
        "### B2. Tokenization"
      ],
      "metadata": {
        "id": "8Zu1S8rkXNFB"
      }
    },
    {
      "cell_type": "markdown",
      "source": [
        "### B3. Padding Process"
      ],
      "metadata": {
        "id": "b9R1_ojOXPOM"
      }
    },
    {
      "cell_type": "markdown",
      "source": [
        "### B4. Categories of Sentiment"
      ],
      "metadata": {
        "id": "wFi0_nqiXQ8f"
      }
    },
    {
      "cell_type": "markdown",
      "source": [
        "### B5. Steps to Prepare the Data"
      ],
      "metadata": {
        "id": "28ZIKiAXXS4W"
      }
    },
    {
      "cell_type": "markdown",
      "source": [
        "### B6. Prepared Dataset"
      ],
      "metadata": {
        "id": "SmfnTDfjXVWW"
      }
    },
    {
      "cell_type": "markdown",
      "source": [
        "## C. Network Architecture"
      ],
      "metadata": {
        "id": "82WV4F4jXYO7"
      }
    },
    {
      "cell_type": "markdown",
      "source": [
        "### C1. Model Summary"
      ],
      "metadata": {
        "id": "4auiTuqPXZCx"
      }
    },
    {
      "cell_type": "markdown",
      "source": [
        "### C2. Network Architecture"
      ],
      "metadata": {
        "id": "GEEmujQVXaQW"
      }
    },
    {
      "cell_type": "markdown",
      "source": [
        "### C3. Hyperparameters"
      ],
      "metadata": {
        "id": "pGqvqMw9XcKd"
      }
    },
    {
      "cell_type": "markdown",
      "source": [
        "## D. Neural Network Model Evaluation"
      ],
      "metadata": {
        "id": "Q0EQRo3KXeJp"
      }
    },
    {
      "cell_type": "markdown",
      "source": [
        "### D1. Stopping Criteria"
      ],
      "metadata": {
        "id": "GvncPTQ1Xf2m"
      }
    },
    {
      "cell_type": "markdown",
      "source": [
        "### D2. Fitness"
      ],
      "metadata": {
        "id": "Gtcil_UvXhiE"
      }
    },
    {
      "cell_type": "markdown",
      "source": [
        "### D3. Training Process"
      ],
      "metadata": {
        "id": "GFfPUSzyXi-v"
      }
    },
    {
      "cell_type": "markdown",
      "source": [
        "### D4. Predictive Accuracy"
      ],
      "metadata": {
        "id": "8tjs7IIhXlEX"
      }
    },
    {
      "cell_type": "markdown",
      "source": [
        "### D5. Ethical Standards Compliance"
      ],
      "metadata": {
        "id": "VQpGd1E-Xmus"
      }
    },
    {
      "cell_type": "markdown",
      "source": [
        "## E. Code"
      ],
      "metadata": {
        "id": "SODusEBeXpq3"
      }
    },
    {
      "cell_type": "markdown",
      "source": [
        "## F. Functionality"
      ],
      "metadata": {
        "id": "Tp1BhWM3Xrwq"
      }
    },
    {
      "cell_type": "markdown",
      "source": [
        "## G. Recommendations"
      ],
      "metadata": {
        "id": "YTc92xwVXtR2"
      }
    },
    {
      "cell_type": "markdown",
      "source": [
        "## H. Reporting"
      ],
      "metadata": {
        "id": "w1NyxmdpXvKP"
      }
    },
    {
      "cell_type": "code",
      "source": [
        "# Convert notebook to HTML\n"
      ],
      "metadata": {
        "id": "PqtYBIGnW_Wi"
      },
      "execution_count": null,
      "outputs": []
    },
    {
      "cell_type": "markdown",
      "source": [
        "## I. Sources for Third-Party Code"
      ],
      "metadata": {
        "id": "EAH5x1UvX0Ag"
      }
    },
    {
      "cell_type": "markdown",
      "source": [
        "## J. Sources"
      ],
      "metadata": {
        "id": "x37fOYtSX2On"
      }
    },
    {
      "cell_type": "markdown",
      "source": [],
      "metadata": {
        "id": "1yVmJSpbX6_K"
      }
    }
  ]
}