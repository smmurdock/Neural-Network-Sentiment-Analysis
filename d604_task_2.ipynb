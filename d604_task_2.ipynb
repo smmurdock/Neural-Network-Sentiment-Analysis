{
  "nbformat": 4,
  "nbformat_minor": 0,
  "metadata": {
    "colab": {
      "provenance": [],
      "collapsed_sections": [
        "XYnqYu1IW8ZQ",
        "1slqPNrqXCHU",
        "suidsROMXFZj",
        "Wdznno85XHt6",
        "fkUygOJ_m7nv"
      ],
      "toc_visible": true,
      "include_colab_link": true
    },
    "kernelspec": {
      "name": "python3",
      "display_name": "Python 3"
    },
    "language_info": {
      "name": "python"
    }
  },
  "cells": [
    {
      "cell_type": "markdown",
      "metadata": {
        "id": "view-in-github",
        "colab_type": "text"
      },
      "source": [
        "<a href=\"https://colab.research.google.com/github/smmurdock/Neural-Network-Sentiment-Analysis/blob/main/d604_task_2.ipynb\" target=\"_parent\"><img src=\"https://colab.research.google.com/assets/colab-badge.svg\" alt=\"Open In Colab\"/></a>"
      ]
    },
    {
      "cell_type": "markdown",
      "source": [
        "# D604 Task 2 - Sentiment Analysis Using Neural Networks"
      ],
      "metadata": {
        "id": "wvGxAFBIW13x"
      }
    },
    {
      "cell_type": "code",
      "source": [
        "from google.colab import drive\n",
        "drive.mount('/content/drive')"
      ],
      "metadata": {
        "id": "LKeJOjgMLp6Z",
        "outputId": "4e943e62-a3e8-4184-8743-db048380722d",
        "colab": {
          "base_uri": "https://localhost:8080/"
        }
      },
      "execution_count": 1,
      "outputs": [
        {
          "output_type": "stream",
          "name": "stdout",
          "text": [
            "Drive already mounted at /content/drive; to attempt to forcibly remount, call drive.mount(\"/content/drive\", force_remount=True).\n"
          ]
        }
      ]
    },
    {
      "cell_type": "code",
      "execution_count": 2,
      "metadata": {
        "colab": {
          "base_uri": "https://localhost:8080/"
        },
        "id": "YBu6PaAOVL1h",
        "outputId": "fd1fc8be-f699-4a3d-e914-91a17c68b67e"
      },
      "outputs": [
        {
          "output_type": "stream",
          "name": "stdout",
          "text": [
            "/content/drive/MyDrive/1 Projects/_WGU | MS-DataAnalytics-DataScience/WGU | D604 - ADVANCED ANALYTICS/Task 2 - Sentiment Analysis Using Neural Networks\n"
          ]
        }
      ],
      "source": [
        "cd /content/drive/MyDrive/1 Projects/_WGU | MS-DataAnalytics-DataScience/WGU | D604 - ADVANCED ANALYTICS/Task 2 - Sentiment Analysis Using Neural Networks"
      ]
    },
    {
      "cell_type": "markdown",
      "source": [
        "## A. Research Purpose"
      ],
      "metadata": {
        "id": "XYnqYu1IW8ZQ"
      }
    },
    {
      "cell_type": "markdown",
      "source": [
        "> Describe the purpose of this data analysis by doing the following:"
      ],
      "metadata": {
        "id": "n8ek1mScXAuI"
      }
    },
    {
      "cell_type": "markdown",
      "source": [
        "### A1. Research Question"
      ],
      "metadata": {
        "id": "1slqPNrqXCHU"
      }
    },
    {
      "cell_type": "markdown",
      "source": [
        "> Summarize one research question that you will answer using a neural network model and NLP techniques. Be sure the research question is relevant to a real-world organizational situation and sentiment analysis captured in your chosen dataset or datasets.\n",
        "\n",
        "\n",
        "  Note: If you choose to use more than one dataset, you must concatenate them into one dataset for parts II and III."
      ],
      "metadata": {
        "id": "KkehER61YRzV"
      }
    },
    {
      "cell_type": "markdown",
      "source": [
        "**Research Question:** Can a neural network be trained to accurately classify sentiment in customer product reviews from Amazon as either positive or negative?\n",
        "\n",
        "This question is directly relevant to a real-world organizational situation. For a company like Amazon or any third-party seller on its platform, manually sifting through thousands of customer reviews to gauge public opinion is impractical based on the sheer volume of Amazon's product catalog. A system that can accurately classify sentiment allows an organization to quickly monitor customer feedback at scale. This enables them to identify popular product features, detect widespread product defects, determine if a product is likely to be returned, and track shifts in customer satisfaction over time, leading to faster product improvements and better customer service."
      ],
      "metadata": {
        "id": "DYV5t1bIiYSs"
      }
    },
    {
      "cell_type": "markdown",
      "source": [
        "### A2. Objectives or Goals"
      ],
      "metadata": {
        "id": "suidsROMXFZj"
      }
    },
    {
      "cell_type": "markdown",
      "source": [
        "> Define the objectives or goals of the data analysis. Be sure each objective or goal is reasonable within the scope of the research question and is represented in the available data."
      ],
      "metadata": {
        "id": "oI94y0muYVGi"
      }
    },
    {
      "cell_type": "markdown",
      "source": [
        "The primary goals of this data analysis are to design, build, and evaluate a neural network for sentiment classification. The specific objectives are as follows:\n",
        "\n",
        "* **Data Preprocessing:** To clean and prepare the raw text data from the Amazon reviews dataset for modeling.\n",
        "\n",
        "* **Model Development:** To build and train a suitable neural network. This analysis will use an LSTM-based architecture, which is effective for learning from sequential data like text. The goal is to train the model to recognize patterns and contextual cues in word usage that indicate positive or negative sentiment.\n",
        "\n",
        "* **Model Evaluation:** To assess the performance of the trained model on an unseen test dataset. The objective is to quantify its predictive accuracy using key classification metrics. This evaluation will directly answer how effectively the model can classify new, unseen review data."
      ],
      "metadata": {
        "id": "lGIsFmmzfopp"
      }
    },
    {
      "cell_type": "markdown",
      "source": [
        "### A3. Prescribed Network"
      ],
      "metadata": {
        "id": "Wdznno85XHt6"
      }
    },
    {
      "cell_type": "markdown",
      "source": [
        "> Identify an industry-relevant type of neural network capable of performing a text classification task that can be trained to produce useful predictions on text sequences on the selected dataset."
      ],
      "metadata": {
        "id": "6G2EyKjQYWkJ"
      }
    },
    {
      "cell_type": "markdown",
      "source": [
        "An appropriate and industry-relevant neural network for this text sentiment classification tasks is the **Long Short-Term Memory (LSTM)** neural network.\n",
        "\n",
        "LSTMs are a type of **Recurrent Neural Network (RNN)** specifically designed to handle and learn from sequential data like text, where the order of text matters. Unlike standard RNNs, LSTMs have internal memory cells that can maintain information over long sequences <mark>(Audevart et al., 2021, p. 272)</mark>. This capability is crucial for natural language processing because the meaning of a word often depends on its context <mark>(Ahmad, 2023, p. 333)</mark>. An LSTM can capture these dependencies, allowing it to understand nuances in language that are critical for accurately determining sentiment. This makes LSTMs a powerful and widely used tool for sentiment analysis in real-world applications."
      ],
      "metadata": {
        "id": "E_zLGej_g9JZ"
      }
    },
    {
      "cell_type": "markdown",
      "source": [
        "## B. Data Preparation"
      ],
      "metadata": {
        "id": "69M-msJNXJng"
      }
    },
    {
      "cell_type": "markdown",
      "source": [
        "> Summarize the data cleaning process by doing the following:"
      ],
      "metadata": {
        "id": "JB6PS55jYYJV"
      }
    },
    {
      "cell_type": "markdown",
      "source": [
        "### B1. Data Exploration"
      ],
      "metadata": {
        "id": "cdydIL9vXLRH"
      }
    },
    {
      "cell_type": "markdown",
      "source": [
        "> Perform exploratory data analysis on the chosen dataset, and include an explanation of each of the following elements:\n",
        "\n",
        "  * presence of unusual characters (e.g., emojis, non-English characters)\n",
        "  * vocabulary size\n",
        "  * word embedding length\n",
        "  * statistical justification for the chosen maximum sequence length"
      ],
      "metadata": {
        "id": "UnAYjwVIYbC1"
      }
    },
    {
      "cell_type": "code",
      "source": [
        "# Load libraries\n",
        "import pandas as pd\n",
        "import numpy as np\n",
        "import matplotlib.pyplot as plt\n",
        "import seaborn as sns\n",
        "import tensorflow as tf\n",
        "import random\n",
        "import warnings\n",
        "import nltk\n",
        "import nltk\n",
        "from nltk.tokenize import word_tokenize\n",
        "\n",
        "from pandas.errors import SettingWithCopyWarning\n",
        "\n",
        "warnings.simplefilter(action=\"ignore\", category=SettingWithCopyWarning)\n",
        "\n",
        "# Set random seeds\n",
        "random.seed(42)\n",
        "np.random.seed(42)\n",
        "tf.random.set_seed(42)\n",
        "\n",
        "# Format for readability\n",
        "pd.set_option('display.max_colwidth', 100)\n",
        "sns.set_style('whitegrid')\n",
        "\n",
        "# Load the data\n",
        "df = pd.read_csv('amazon_cells_labelled.txt',\n",
        "                 sep='\\t',\n",
        "                 header=None,\n",
        "                 names=['review', 'sentiment'])\n",
        "\n",
        "# View the first few rows\n",
        "print(\"First 5 rows:\")\n",
        "df.head()"
      ],
      "metadata": {
        "id": "7Mh4B7Oci_91",
        "colab": {
          "base_uri": "https://localhost:8080/",
          "height": 224
        },
        "outputId": "c9b42359-e350-4ea0-84f8-d8af13a89e9e"
      },
      "execution_count": 3,
      "outputs": [
        {
          "output_type": "stream",
          "name": "stdout",
          "text": [
            "First 5 rows:\n"
          ]
        },
        {
          "output_type": "execute_result",
          "data": {
            "text/plain": [
              "                                                                               review  \\\n",
              "0  So there is no way for me to plug it in here in the US unless I go by a converter.   \n",
              "1                                                         Good case, Excellent value.   \n",
              "2                                                              Great for the jawbone.   \n",
              "3     Tied to charger for conversations lasting more than 45 minutes.MAJOR PROBLEMS!!   \n",
              "4                                                                   The mic is great.   \n",
              "\n",
              "   sentiment  \n",
              "0          0  \n",
              "1          1  \n",
              "2          1  \n",
              "3          0  \n",
              "4          1  "
            ],
            "text/html": [
              "\n",
              "  <div id=\"df-f0b5bde5-45c1-4c01-9f33-c2bb11fb8b0d\" class=\"colab-df-container\">\n",
              "    <div>\n",
              "<style scoped>\n",
              "    .dataframe tbody tr th:only-of-type {\n",
              "        vertical-align: middle;\n",
              "    }\n",
              "\n",
              "    .dataframe tbody tr th {\n",
              "        vertical-align: top;\n",
              "    }\n",
              "\n",
              "    .dataframe thead th {\n",
              "        text-align: right;\n",
              "    }\n",
              "</style>\n",
              "<table border=\"1\" class=\"dataframe\">\n",
              "  <thead>\n",
              "    <tr style=\"text-align: right;\">\n",
              "      <th></th>\n",
              "      <th>review</th>\n",
              "      <th>sentiment</th>\n",
              "    </tr>\n",
              "  </thead>\n",
              "  <tbody>\n",
              "    <tr>\n",
              "      <th>0</th>\n",
              "      <td>So there is no way for me to plug it in here in the US unless I go by a converter.</td>\n",
              "      <td>0</td>\n",
              "    </tr>\n",
              "    <tr>\n",
              "      <th>1</th>\n",
              "      <td>Good case, Excellent value.</td>\n",
              "      <td>1</td>\n",
              "    </tr>\n",
              "    <tr>\n",
              "      <th>2</th>\n",
              "      <td>Great for the jawbone.</td>\n",
              "      <td>1</td>\n",
              "    </tr>\n",
              "    <tr>\n",
              "      <th>3</th>\n",
              "      <td>Tied to charger for conversations lasting more than 45 minutes.MAJOR PROBLEMS!!</td>\n",
              "      <td>0</td>\n",
              "    </tr>\n",
              "    <tr>\n",
              "      <th>4</th>\n",
              "      <td>The mic is great.</td>\n",
              "      <td>1</td>\n",
              "    </tr>\n",
              "  </tbody>\n",
              "</table>\n",
              "</div>\n",
              "    <div class=\"colab-df-buttons\">\n",
              "\n",
              "  <div class=\"colab-df-container\">\n",
              "    <button class=\"colab-df-convert\" onclick=\"convertToInteractive('df-f0b5bde5-45c1-4c01-9f33-c2bb11fb8b0d')\"\n",
              "            title=\"Convert this dataframe to an interactive table.\"\n",
              "            style=\"display:none;\">\n",
              "\n",
              "  <svg xmlns=\"http://www.w3.org/2000/svg\" height=\"24px\" viewBox=\"0 -960 960 960\">\n",
              "    <path d=\"M120-120v-720h720v720H120Zm60-500h600v-160H180v160Zm220 220h160v-160H400v160Zm0 220h160v-160H400v160ZM180-400h160v-160H180v160Zm440 0h160v-160H620v160ZM180-180h160v-160H180v160Zm440 0h160v-160H620v160Z\"/>\n",
              "  </svg>\n",
              "    </button>\n",
              "\n",
              "  <style>\n",
              "    .colab-df-container {\n",
              "      display:flex;\n",
              "      gap: 12px;\n",
              "    }\n",
              "\n",
              "    .colab-df-convert {\n",
              "      background-color: #E8F0FE;\n",
              "      border: none;\n",
              "      border-radius: 50%;\n",
              "      cursor: pointer;\n",
              "      display: none;\n",
              "      fill: #1967D2;\n",
              "      height: 32px;\n",
              "      padding: 0 0 0 0;\n",
              "      width: 32px;\n",
              "    }\n",
              "\n",
              "    .colab-df-convert:hover {\n",
              "      background-color: #E2EBFA;\n",
              "      box-shadow: 0px 1px 2px rgba(60, 64, 67, 0.3), 0px 1px 3px 1px rgba(60, 64, 67, 0.15);\n",
              "      fill: #174EA6;\n",
              "    }\n",
              "\n",
              "    .colab-df-buttons div {\n",
              "      margin-bottom: 4px;\n",
              "    }\n",
              "\n",
              "    [theme=dark] .colab-df-convert {\n",
              "      background-color: #3B4455;\n",
              "      fill: #D2E3FC;\n",
              "    }\n",
              "\n",
              "    [theme=dark] .colab-df-convert:hover {\n",
              "      background-color: #434B5C;\n",
              "      box-shadow: 0px 1px 3px 1px rgba(0, 0, 0, 0.15);\n",
              "      filter: drop-shadow(0px 1px 2px rgba(0, 0, 0, 0.3));\n",
              "      fill: #FFFFFF;\n",
              "    }\n",
              "  </style>\n",
              "\n",
              "    <script>\n",
              "      const buttonEl =\n",
              "        document.querySelector('#df-f0b5bde5-45c1-4c01-9f33-c2bb11fb8b0d button.colab-df-convert');\n",
              "      buttonEl.style.display =\n",
              "        google.colab.kernel.accessAllowed ? 'block' : 'none';\n",
              "\n",
              "      async function convertToInteractive(key) {\n",
              "        const element = document.querySelector('#df-f0b5bde5-45c1-4c01-9f33-c2bb11fb8b0d');\n",
              "        const dataTable =\n",
              "          await google.colab.kernel.invokeFunction('convertToInteractive',\n",
              "                                                    [key], {});\n",
              "        if (!dataTable) return;\n",
              "\n",
              "        const docLinkHtml = 'Like what you see? Visit the ' +\n",
              "          '<a target=\"_blank\" href=https://colab.research.google.com/notebooks/data_table.ipynb>data table notebook</a>'\n",
              "          + ' to learn more about interactive tables.';\n",
              "        element.innerHTML = '';\n",
              "        dataTable['output_type'] = 'display_data';\n",
              "        await google.colab.output.renderOutput(dataTable, element);\n",
              "        const docLink = document.createElement('div');\n",
              "        docLink.innerHTML = docLinkHtml;\n",
              "        element.appendChild(docLink);\n",
              "      }\n",
              "    </script>\n",
              "  </div>\n",
              "\n",
              "\n",
              "    <div id=\"df-f6065232-5768-4c62-b2a0-12e5b96d6fe8\">\n",
              "      <button class=\"colab-df-quickchart\" onclick=\"quickchart('df-f6065232-5768-4c62-b2a0-12e5b96d6fe8')\"\n",
              "                title=\"Suggest charts\"\n",
              "                style=\"display:none;\">\n",
              "\n",
              "<svg xmlns=\"http://www.w3.org/2000/svg\" height=\"24px\"viewBox=\"0 0 24 24\"\n",
              "     width=\"24px\">\n",
              "    <g>\n",
              "        <path d=\"M19 3H5c-1.1 0-2 .9-2 2v14c0 1.1.9 2 2 2h14c1.1 0 2-.9 2-2V5c0-1.1-.9-2-2-2zM9 17H7v-7h2v7zm4 0h-2V7h2v10zm4 0h-2v-4h2v4z\"/>\n",
              "    </g>\n",
              "</svg>\n",
              "      </button>\n",
              "\n",
              "<style>\n",
              "  .colab-df-quickchart {\n",
              "      --bg-color: #E8F0FE;\n",
              "      --fill-color: #1967D2;\n",
              "      --hover-bg-color: #E2EBFA;\n",
              "      --hover-fill-color: #174EA6;\n",
              "      --disabled-fill-color: #AAA;\n",
              "      --disabled-bg-color: #DDD;\n",
              "  }\n",
              "\n",
              "  [theme=dark] .colab-df-quickchart {\n",
              "      --bg-color: #3B4455;\n",
              "      --fill-color: #D2E3FC;\n",
              "      --hover-bg-color: #434B5C;\n",
              "      --hover-fill-color: #FFFFFF;\n",
              "      --disabled-bg-color: #3B4455;\n",
              "      --disabled-fill-color: #666;\n",
              "  }\n",
              "\n",
              "  .colab-df-quickchart {\n",
              "    background-color: var(--bg-color);\n",
              "    border: none;\n",
              "    border-radius: 50%;\n",
              "    cursor: pointer;\n",
              "    display: none;\n",
              "    fill: var(--fill-color);\n",
              "    height: 32px;\n",
              "    padding: 0;\n",
              "    width: 32px;\n",
              "  }\n",
              "\n",
              "  .colab-df-quickchart:hover {\n",
              "    background-color: var(--hover-bg-color);\n",
              "    box-shadow: 0 1px 2px rgba(60, 64, 67, 0.3), 0 1px 3px 1px rgba(60, 64, 67, 0.15);\n",
              "    fill: var(--button-hover-fill-color);\n",
              "  }\n",
              "\n",
              "  .colab-df-quickchart-complete:disabled,\n",
              "  .colab-df-quickchart-complete:disabled:hover {\n",
              "    background-color: var(--disabled-bg-color);\n",
              "    fill: var(--disabled-fill-color);\n",
              "    box-shadow: none;\n",
              "  }\n",
              "\n",
              "  .colab-df-spinner {\n",
              "    border: 2px solid var(--fill-color);\n",
              "    border-color: transparent;\n",
              "    border-bottom-color: var(--fill-color);\n",
              "    animation:\n",
              "      spin 1s steps(1) infinite;\n",
              "  }\n",
              "\n",
              "  @keyframes spin {\n",
              "    0% {\n",
              "      border-color: transparent;\n",
              "      border-bottom-color: var(--fill-color);\n",
              "      border-left-color: var(--fill-color);\n",
              "    }\n",
              "    20% {\n",
              "      border-color: transparent;\n",
              "      border-left-color: var(--fill-color);\n",
              "      border-top-color: var(--fill-color);\n",
              "    }\n",
              "    30% {\n",
              "      border-color: transparent;\n",
              "      border-left-color: var(--fill-color);\n",
              "      border-top-color: var(--fill-color);\n",
              "      border-right-color: var(--fill-color);\n",
              "    }\n",
              "    40% {\n",
              "      border-color: transparent;\n",
              "      border-right-color: var(--fill-color);\n",
              "      border-top-color: var(--fill-color);\n",
              "    }\n",
              "    60% {\n",
              "      border-color: transparent;\n",
              "      border-right-color: var(--fill-color);\n",
              "    }\n",
              "    80% {\n",
              "      border-color: transparent;\n",
              "      border-right-color: var(--fill-color);\n",
              "      border-bottom-color: var(--fill-color);\n",
              "    }\n",
              "    90% {\n",
              "      border-color: transparent;\n",
              "      border-bottom-color: var(--fill-color);\n",
              "    }\n",
              "  }\n",
              "</style>\n",
              "\n",
              "      <script>\n",
              "        async function quickchart(key) {\n",
              "          const quickchartButtonEl =\n",
              "            document.querySelector('#' + key + ' button');\n",
              "          quickchartButtonEl.disabled = true;  // To prevent multiple clicks.\n",
              "          quickchartButtonEl.classList.add('colab-df-spinner');\n",
              "          try {\n",
              "            const charts = await google.colab.kernel.invokeFunction(\n",
              "                'suggestCharts', [key], {});\n",
              "          } catch (error) {\n",
              "            console.error('Error during call to suggestCharts:', error);\n",
              "          }\n",
              "          quickchartButtonEl.classList.remove('colab-df-spinner');\n",
              "          quickchartButtonEl.classList.add('colab-df-quickchart-complete');\n",
              "        }\n",
              "        (() => {\n",
              "          let quickchartButtonEl =\n",
              "            document.querySelector('#df-f6065232-5768-4c62-b2a0-12e5b96d6fe8 button');\n",
              "          quickchartButtonEl.style.display =\n",
              "            google.colab.kernel.accessAllowed ? 'block' : 'none';\n",
              "        })();\n",
              "      </script>\n",
              "    </div>\n",
              "\n",
              "    </div>\n",
              "  </div>\n"
            ],
            "application/vnd.google.colaboratory.intrinsic+json": {
              "type": "dataframe",
              "variable_name": "df",
              "summary": "{\n  \"name\": \"df\",\n  \"rows\": 1000,\n  \"fields\": [\n    {\n      \"column\": \"review\",\n      \"properties\": {\n        \"dtype\": \"string\",\n        \"num_unique_values\": 990,\n        \"samples\": [\n          \"The range is very decent, I've been able to roam around my house with the phone in the living room with no reception/sound quality issues.\",\n          \"The reception is excellent!\",\n          \"I would have given no star if I was able.\"\n        ],\n        \"semantic_type\": \"\",\n        \"description\": \"\"\n      }\n    },\n    {\n      \"column\": \"sentiment\",\n      \"properties\": {\n        \"dtype\": \"number\",\n        \"std\": 0,\n        \"min\": 0,\n        \"max\": 1,\n        \"num_unique_values\": 2,\n        \"samples\": [\n          1,\n          0\n        ],\n        \"semantic_type\": \"\",\n        \"description\": \"\"\n      }\n    }\n  ]\n}"
            }
          },
          "metadata": {},
          "execution_count": 3
        }
      ]
    },
    {
      "cell_type": "markdown",
      "source": [
        "The code cell above loads in the basic libraries needed to get started.\n",
        "\n",
        "The code loads in the text file as a tab-deliminted file with no headers indentifying what the observations mean. Because of this, I looked at the data ahead of time in its raw format and determined appropriate names to act as column headers.\n",
        "\n",
        "Then, the code reads the first five rows and gives a glimpse of how the data is formatted and what issues may present themselves. We can already seem some issues like use of punctuation, differences in casing, and missing spaces in between sentences."
      ],
      "metadata": {
        "id": "6i1igtEK_e0W"
      }
    },
    {
      "cell_type": "code",
      "source": [
        "# Basic dataset information\n",
        "print(f\"Dataset shape: {df.shape}\")\n",
        "print(\"=\" * 60)\n",
        "print(f\"Total reviews: {df.shape[0]}\")\n",
        "print(f\"Missing values: {df.isnull().sum().sum()}\")\n",
        "print(f\"Duplicates: {df.duplicated().sum()} ({df.duplicated().sum() / len(df) * 100:.1f}%)\")"
      ],
      "metadata": {
        "colab": {
          "base_uri": "https://localhost:8080/"
        },
        "id": "-ybJodLQ46RD",
        "outputId": "ed452804-5e41-4c0a-d835-acd2a6fe7653"
      },
      "execution_count": 4,
      "outputs": [
        {
          "output_type": "stream",
          "name": "stdout",
          "text": [
            "Dataset shape: (1000, 2)\n",
            "============================================================\n",
            "Total reviews: 1000\n",
            "Missing values: 0\n",
            "Duplicates: 10 (1.0%)\n"
          ]
        }
      ]
    },
    {
      "cell_type": "markdown",
      "source": [
        "The dataset contains 1,000 Amazon product reviews with no missing values. There are 10 duplicate reviews (1% of the dataset), which we'll remove to ensure data quality."
      ],
      "metadata": {
        "id": "Bf8_DTIfAJpz"
      }
    },
    {
      "cell_type": "code",
      "source": [
        "# Remove duplicates\n",
        "df_clean = df.drop_duplicates(keep='first')\n",
        "print(f\"Shape after removing duplicates: {len(df_clean)} reviews\")"
      ],
      "metadata": {
        "colab": {
          "base_uri": "https://localhost:8080/"
        },
        "id": "oYnsTxtnjsT2",
        "outputId": "874b665d-e8ae-4e89-cef7-379b9b4a554a"
      },
      "execution_count": 5,
      "outputs": [
        {
          "output_type": "stream",
          "name": "stdout",
          "text": [
            "Shape after removing duplicates: 990 reviews\n"
          ]
        }
      ]
    },
    {
      "cell_type": "markdown",
      "source": [
        "The code above removes the duplicate reviews, keeping the first instance of any duplicates, and then shows a count of how many reviews remain."
      ],
      "metadata": {
        "id": "Ieef-2xDQP5g"
      }
    },
    {
      "cell_type": "code",
      "source": [
        "# Check unique values in sentiment column\n",
        "print(\"Unique sentiment values:\")\n",
        "print(df_clean['sentiment'].unique())\n",
        "print(f\"Number of unique sentiment values: {df_clean['sentiment'].nunique()}\")"
      ],
      "metadata": {
        "colab": {
          "base_uri": "https://localhost:8080/"
        },
        "id": "r4uE3EAyjzw7",
        "outputId": "4916a804-ddce-42d2-a089-0c5cb9366a5d"
      },
      "execution_count": 6,
      "outputs": [
        {
          "output_type": "stream",
          "name": "stdout",
          "text": [
            "Unique sentiment values:\n",
            "[0 1]\n",
            "Number of unique sentiment values: 2\n"
          ]
        }
      ]
    },
    {
      "cell_type": "markdown",
      "source": [
        "The code cell above checks the DataFrame's `'sentiment'` column for unique values to ensure that there are only the expected binary values of `0` for negative sentiment and `1` for positive sentiment. There are no unexpected values."
      ],
      "metadata": {
        "id": "bgFNnC6_CPO9"
      }
    },
    {
      "cell_type": "code",
      "source": [
        "# Check class balance\n",
        "print(\"Sentiment distribution:\")\n",
        "print(df_clean['sentiment'].value_counts())\n",
        "print(f\"\\nPercentages:\")\n",
        "print(df_clean['sentiment'].value_counts(normalize=True) * 100)"
      ],
      "metadata": {
        "colab": {
          "base_uri": "https://localhost:8080/"
        },
        "id": "tjKykTEWj5z3",
        "outputId": "1f34f999-4e6c-45a0-b4a6-8e1da26201ce"
      },
      "execution_count": 7,
      "outputs": [
        {
          "output_type": "stream",
          "name": "stdout",
          "text": [
            "Sentiment distribution:\n",
            "sentiment\n",
            "0    497\n",
            "1    493\n",
            "Name: count, dtype: int64\n",
            "\n",
            "Percentages:\n",
            "sentiment\n",
            "0    50.20202\n",
            "1    49.79798\n",
            "Name: proportion, dtype: float64\n"
          ]
        }
      ]
    },
    {
      "cell_type": "markdown",
      "source": [
        "The code cell above checks how balanced the sentiment is across negative and positive reviews, both in actual numbers and in proportion to the full remaining dataset.\n",
        "\n",
        "After removing the duplicates, there are 497 negative reviews and 493 positive reviews. Based on the small difference, we can consider this dataset to be balanced.\n",
        "\n",
        "This information is important to keep in mind for when we split our datasets into train/validation/test datasets later in step **B5. Steps to Prepare the Data**, as we'll want to keep the proportions while shuffling the data. This ensures that the model *can't* learn from patterns that occur based on what order the data was added to the dataset but that it *can* learn, validate, and test fairly across representative proportions."
      ],
      "metadata": {
        "id": "I5sli09oDBES"
      }
    },
    {
      "cell_type": "code",
      "source": [
        "# Visualize class balance\n",
        "plt.figure(figsize=(8, 5))\n",
        "sentiment_counts = df_clean['sentiment'].value_counts()\n",
        "bars = plt.bar(sentiment_counts.index, sentiment_counts.values, color=['#A6192E', '#5CB8B2'])\n",
        "\n",
        "for bar in bars:\n",
        "    height = bar.get_height()\n",
        "    plt.text(bar.get_x() + bar.get_width()/2., height,\n",
        "             f'{int(height)}',\n",
        "             ha='center', va='bottom')\n",
        "\n",
        "plt.title('Sentiment Distribution', fontsize=14, fontweight='bold')\n",
        "plt.xlabel('Sentiment (0=Negative, 1=Positive)', fontsize=12)\n",
        "plt.ylabel('Count', fontsize=12)\n",
        "plt.xticks([0, 1])\n",
        "plt.tight_layout()\n",
        "plt.show()"
      ],
      "metadata": {
        "colab": {
          "base_uri": "https://localhost:8080/",
          "height": 507
        },
        "id": "bOEX7VrvQh1W",
        "outputId": "02cae777-e92f-4e86-f46f-6c318b60fe22"
      },
      "execution_count": 8,
      "outputs": [
        {
          "output_type": "display_data",
          "data": {
            "text/plain": [
              "<Figure size 800x500 with 1 Axes>"
            ],
            "image/png": "[encoded data removed]"
          },
          "metadata": {}
        }
      ]
    },
    {
      "cell_type": "markdown",
      "source": [
        "The code cell above visualizes the class balance of negative and positive sentiment observations for the full cleaned dataset. The exact values are added above each bar because they are nearly indecipherable at a visual glance."
      ],
      "metadata": {
        "id": "NdlMRP7PEEXr"
      }
    },
    {
      "cell_type": "markdown",
      "source": [
        "#### Presence of unusual characters"
      ],
      "metadata": {
        "id": "fkUygOJ_m7nv"
      }
    },
    {
      "cell_type": "markdown",
      "source": [
        "**Analyze Unusual Characters Before Cleaning**\n",
        "\n",
        "Working definition of unusual characters: Any emojis, non-English characters, non-Unicode characters, punctuation, or control characters"
      ],
      "metadata": {
        "id": "TMHs2rV0ErYy"
      }
    },
    {
      "cell_type": "code",
      "source": [
        "import re\n",
        "import string\n",
        "from collections import Counter\n",
        "\n",
        "# Convert to lowercase\n",
        "df_clean['review_lower'] = df_clean['review'].str.lower()\n",
        "\n",
        "# Check for unusual characters\n",
        "all_text = ' '.join(df_clean['review_lower'])\n",
        "char_frequency = Counter(all_text)\n",
        "\n",
        "# Categorize characters\n",
        "letters = set(string.ascii_lowercase)\n",
        "digits = set(string.digits)\n",
        "punctuation = set(string.punctuation)\n",
        "whitespace = set(string.whitespace)\n",
        "\n",
        "unusual_chars = {char: count for char, count in char_frequency.items()\n",
        "                 if char not in letters and char not in digits\n",
        "                 and char not in punctuation and char not in whitespace}\n",
        "\n",
        "print(\"Unusual characters found:\", unusual_chars if unusual_chars else \"None\")\n",
        "print(f\"\\nTotal punctuation marks: {sum(count for char, count in char_frequency.items() if char in punctuation)}\")"
      ],
      "metadata": {
        "colab": {
          "base_uri": "https://localhost:8080/"
        },
        "id": "AVK7R4jkQ1s0",
        "outputId": "37bb6d6c-6a06-4cb7-851c-8894afdb6fa8"
      },
      "execution_count": 9,
      "outputs": [
        {
          "output_type": "stream",
          "name": "stdout",
          "text": [
            "Unusual characters found: None\n",
            "\n",
            "Total punctuation marks: 1908\n"
          ]
        }
      ]
    },
    {
      "cell_type": "markdown",
      "source": [
        "The code cell above works to determine all unique characters in the `review` data. It starts by converting all text to lowercase to avoid considering text like \"a\" and \"A\" or \"good\" and \"Good\" as different characters/words.\n",
        "\n",
        "Next, it joins all text into one long string to pass into the `Counter()` method which returns a dictionary-like object with a frequency count representing how many times each character is present in the string.\n",
        "\n",
        "Then we use built-in `string` methods to define the characters we are looking for, and checks for any unusual characters in the dataset. There are no unusual characters found in this dataset. The dataset only contains standard English letters, digits, punctuation, and whitespace."
      ],
      "metadata": {
        "id": "OD6I6MzR5P0_"
      }
    },
    {
      "cell_type": "code",
      "source": [
        "# Clean text: remove punctuation and digits\n",
        "punctuation_pattern = '[' + re.escape(string.punctuation) + ']+'\n",
        "df_clean['review_clean'] = df_clean['review_lower'].str.replace(punctuation_pattern, ' ', regex=True)\n",
        "df_clean['review_clean'] = df_clean['review_clean'].str.replace(r'\\d+', '', regex=True)\n",
        "df_clean['review_clean'] = df_clean['review_clean'].str.split().str.join(' ')\n",
        "\n",
        "# Create final clean dataset\n",
        "df = df_clean[['review_clean', 'sentiment']].copy()\n",
        "df.rename(columns={'review_clean': 'review'}, inplace=True)\n",
        "\n",
        "print(\"Sample cleaned reviews:\")\n",
        "df.head()"
      ],
      "metadata": {
        "colab": {
          "base_uri": "https://localhost:8080/",
          "height": 0
        },
        "id": "jeCyXFdNS2Jg",
        "outputId": "60097e4a-7bf4-4408-84c7-79eec20338f8"
      },
      "execution_count": 10,
      "outputs": [
        {
          "output_type": "stream",
          "name": "stdout",
          "text": [
            "Sample cleaned reviews:\n"
          ]
        },
        {
          "output_type": "execute_result",
          "data": {
            "text/plain": [
              "                                                                              review  \\\n",
              "0  so there is no way for me to plug it in here in the us unless i go by a converter   \n",
              "1                                                          good case excellent value   \n",
              "2                                                              great for the jawbone   \n",
              "3         tied to charger for conversations lasting more than minutes major problems   \n",
              "4                                                                   the mic is great   \n",
              "\n",
              "   sentiment  \n",
              "0          0  \n",
              "1          1  \n",
              "2          1  \n",
              "3          0  \n",
              "4          1  "
            ],
            "text/html": [
              "\n",
              "  <div id=\"df-dc598163-0aea-4973-9199-b4673e8d1859\" class=\"colab-df-container\">\n",
              "    <div>\n",
              "<style scoped>\n",
              "    .dataframe tbody tr th:only-of-type {\n",
              "        vertical-align: middle;\n",
              "    }\n",
              "\n",
              "    .dataframe tbody tr th {\n",
              "        vertical-align: top;\n",
              "    }\n",
              "\n",
              "    .dataframe thead th {\n",
              "        text-align: right;\n",
              "    }\n",
              "</style>\n",
              "<table border=\"1\" class=\"dataframe\">\n",
              "  <thead>\n",
              "    <tr style=\"text-align: right;\">\n",
              "      <th></th>\n",
              "      <th>review</th>\n",
              "      <th>sentiment</th>\n",
              "    </tr>\n",
              "  </thead>\n",
              "  <tbody>\n",
              "    <tr>\n",
              "      <th>0</th>\n",
              "      <td>so there is no way for me to plug it in here in the us unless i go by a converter</td>\n",
              "      <td>0</td>\n",
              "    </tr>\n",
              "    <tr>\n",
              "      <th>1</th>\n",
              "      <td>good case excellent value</td>\n",
              "      <td>1</td>\n",
              "    </tr>\n",
              "    <tr>\n",
              "      <th>2</th>\n",
              "      <td>great for the jawbone</td>\n",
              "      <td>1</td>\n",
              "    </tr>\n",
              "    <tr>\n",
              "      <th>3</th>\n",
              "      <td>tied to charger for conversations lasting more than minutes major problems</td>\n",
              "      <td>0</td>\n",
              "    </tr>\n",
              "    <tr>\n",
              "      <th>4</th>\n",
              "      <td>the mic is great</td>\n",
              "      <td>1</td>\n",
              "    </tr>\n",
              "  </tbody>\n",
              "</table>\n",
              "</div>\n",
              "    <div class=\"colab-df-buttons\">\n",
              "\n",
              "  <div class=\"colab-df-container\">\n",
              "    <button class=\"colab-df-convert\" onclick=\"convertToInteractive('df-dc598163-0aea-4973-9199-b4673e8d1859')\"\n",
              "            title=\"Convert this dataframe to an interactive table.\"\n",
              "            style=\"display:none;\">\n",
              "\n",
              "  <svg xmlns=\"http://www.w3.org/2000/svg\" height=\"24px\" viewBox=\"0 -960 960 960\">\n",
              "    <path d=\"M120-120v-720h720v720H120Zm60-500h600v-160H180v160Zm220 220h160v-160H400v160Zm0 220h160v-160H400v160ZM180-400h160v-160H180v160Zm440 0h160v-160H620v160ZM180-180h160v-160H180v160Zm440 0h160v-160H620v160Z\"/>\n",
              "  </svg>\n",
              "    </button>\n",
              "\n",
              "  <style>\n",
              "    .colab-df-container {\n",
              "      display:flex;\n",
              "      gap: 12px;\n",
              "    }\n",
              "\n",
              "    .colab-df-convert {\n",
              "      background-color: #E8F0FE;\n",
              "      border: none;\n",
              "      border-radius: 50%;\n",
              "      cursor: pointer;\n",
              "      display: none;\n",
              "      fill: #1967D2;\n",
              "      height: 32px;\n",
              "      padding: 0 0 0 0;\n",
              "      width: 32px;\n",
              "    }\n",
              "\n",
              "    .colab-df-convert:hover {\n",
              "      background-color: #E2EBFA;\n",
              "      box-shadow: 0px 1px 2px rgba(60, 64, 67, 0.3), 0px 1px 3px 1px rgba(60, 64, 67, 0.15);\n",
              "      fill: #174EA6;\n",
              "    }\n",
              "\n",
              "    .colab-df-buttons div {\n",
              "      margin-bottom: 4px;\n",
              "    }\n",
              "\n",
              "    [theme=dark] .colab-df-convert {\n",
              "      background-color: #3B4455;\n",
              "      fill: #D2E3FC;\n",
              "    }\n",
              "\n",
              "    [theme=dark] .colab-df-convert:hover {\n",
              "      background-color: #434B5C;\n",
              "      box-shadow: 0px 1px 3px 1px rgba(0, 0, 0, 0.15);\n",
              "      filter: drop-shadow(0px 1px 2px rgba(0, 0, 0, 0.3));\n",
              "      fill: #FFFFFF;\n",
              "    }\n",
              "  </style>\n",
              "\n",
              "    <script>\n",
              "      const buttonEl =\n",
              "        document.querySelector('#df-dc598163-0aea-4973-9199-b4673e8d1859 button.colab-df-convert');\n",
              "      buttonEl.style.display =\n",
              "        google.colab.kernel.accessAllowed ? 'block' : 'none';\n",
              "\n",
              "      async function convertToInteractive(key) {\n",
              "        const element = document.querySelector('#df-dc598163-0aea-4973-9199-b4673e8d1859');\n",
              "        const dataTable =\n",
              "          await google.colab.kernel.invokeFunction('convertToInteractive',\n",
              "                                                    [key], {});\n",
              "        if (!dataTable) return;\n",
              "\n",
              "        const docLinkHtml = 'Like what you see? Visit the ' +\n",
              "          '<a target=\"_blank\" href=https://colab.research.google.com/notebooks/data_table.ipynb>data table notebook</a>'\n",
              "          + ' to learn more about interactive tables.';\n",
              "        element.innerHTML = '';\n",
              "        dataTable['output_type'] = 'display_data';\n",
              "        await google.colab.output.renderOutput(dataTable, element);\n",
              "        const docLink = document.createElement('div');\n",
              "        docLink.innerHTML = docLinkHtml;\n",
              "        element.appendChild(docLink);\n",
              "      }\n",
              "    </script>\n",
              "  </div>\n",
              "\n",
              "\n",
              "    <div id=\"df-3e4926f7-6cde-493b-b0b7-cb149bda246c\">\n",
              "      <button class=\"colab-df-quickchart\" onclick=\"quickchart('df-3e4926f7-6cde-493b-b0b7-cb149bda246c')\"\n",
              "                title=\"Suggest charts\"\n",
              "                style=\"display:none;\">\n",
              "\n",
              "<svg xmlns=\"http://www.w3.org/2000/svg\" height=\"24px\"viewBox=\"0 0 24 24\"\n",
              "     width=\"24px\">\n",
              "    <g>\n",
              "        <path d=\"M19 3H5c-1.1 0-2 .9-2 2v14c0 1.1.9 2 2 2h14c1.1 0 2-.9 2-2V5c0-1.1-.9-2-2-2zM9 17H7v-7h2v7zm4 0h-2V7h2v10zm4 0h-2v-4h2v4z\"/>\n",
              "    </g>\n",
              "</svg>\n",
              "      </button>\n",
              "\n",
              "<style>\n",
              "  .colab-df-quickchart {\n",
              "      --bg-color: #E8F0FE;\n",
              "      --fill-color: #1967D2;\n",
              "      --hover-bg-color: #E2EBFA;\n",
              "      --hover-fill-color: #174EA6;\n",
              "      --disabled-fill-color: #AAA;\n",
              "      --disabled-bg-color: #DDD;\n",
              "  }\n",
              "\n",
              "  [theme=dark] .colab-df-quickchart {\n",
              "      --bg-color: #3B4455;\n",
              "      --fill-color: #D2E3FC;\n",
              "      --hover-bg-color: #434B5C;\n",
              "      --hover-fill-color: #FFFFFF;\n",
              "      --disabled-bg-color: #3B4455;\n",
              "      --disabled-fill-color: #666;\n",
              "  }\n",
              "\n",
              "  .colab-df-quickchart {\n",
              "    background-color: var(--bg-color);\n",
              "    border: none;\n",
              "    border-radius: 50%;\n",
              "    cursor: pointer;\n",
              "    display: none;\n",
              "    fill: var(--fill-color);\n",
              "    height: 32px;\n",
              "    padding: 0;\n",
              "    width: 32px;\n",
              "  }\n",
              "\n",
              "  .colab-df-quickchart:hover {\n",
              "    background-color: var(--hover-bg-color);\n",
              "    box-shadow: 0 1px 2px rgba(60, 64, 67, 0.3), 0 1px 3px 1px rgba(60, 64, 67, 0.15);\n",
              "    fill: var(--button-hover-fill-color);\n",
              "  }\n",
              "\n",
              "  .colab-df-quickchart-complete:disabled,\n",
              "  .colab-df-quickchart-complete:disabled:hover {\n",
              "    background-color: var(--disabled-bg-color);\n",
              "    fill: var(--disabled-fill-color);\n",
              "    box-shadow: none;\n",
              "  }\n",
              "\n",
              "  .colab-df-spinner {\n",
              "    border: 2px solid var(--fill-color);\n",
              "    border-color: transparent;\n",
              "    border-bottom-color: var(--fill-color);\n",
              "    animation:\n",
              "      spin 1s steps(1) infinite;\n",
              "  }\n",
              "\n",
              "  @keyframes spin {\n",
              "    0% {\n",
              "      border-color: transparent;\n",
              "      border-bottom-color: var(--fill-color);\n",
              "      border-left-color: var(--fill-color);\n",
              "    }\n",
              "    20% {\n",
              "      border-color: transparent;\n",
              "      border-left-color: var(--fill-color);\n",
              "      border-top-color: var(--fill-color);\n",
              "    }\n",
              "    30% {\n",
              "      border-color: transparent;\n",
              "      border-left-color: var(--fill-color);\n",
              "      border-top-color: var(--fill-color);\n",
              "      border-right-color: var(--fill-color);\n",
              "    }\n",
              "    40% {\n",
              "      border-color: transparent;\n",
              "      border-right-color: var(--fill-color);\n",
              "      border-top-color: var(--fill-color);\n",
              "    }\n",
              "    60% {\n",
              "      border-color: transparent;\n",
              "      border-right-color: var(--fill-color);\n",
              "    }\n",
              "    80% {\n",
              "      border-color: transparent;\n",
              "      border-right-color: var(--fill-color);\n",
              "      border-bottom-color: var(--fill-color);\n",
              "    }\n",
              "    90% {\n",
              "      border-color: transparent;\n",
              "      border-bottom-color: var(--fill-color);\n",
              "    }\n",
              "  }\n",
              "</style>\n",
              "\n",
              "      <script>\n",
              "        async function quickchart(key) {\n",
              "          const quickchartButtonEl =\n",
              "            document.querySelector('#' + key + ' button');\n",
              "          quickchartButtonEl.disabled = true;  // To prevent multiple clicks.\n",
              "          quickchartButtonEl.classList.add('colab-df-spinner');\n",
              "          try {\n",
              "            const charts = await google.colab.kernel.invokeFunction(\n",
              "                'suggestCharts', [key], {});\n",
              "          } catch (error) {\n",
              "            console.error('Error during call to suggestCharts:', error);\n",
              "          }\n",
              "          quickchartButtonEl.classList.remove('colab-df-spinner');\n",
              "          quickchartButtonEl.classList.add('colab-df-quickchart-complete');\n",
              "        }\n",
              "        (() => {\n",
              "          let quickchartButtonEl =\n",
              "            document.querySelector('#df-3e4926f7-6cde-493b-b0b7-cb149bda246c button');\n",
              "          quickchartButtonEl.style.display =\n",
              "            google.colab.kernel.accessAllowed ? 'block' : 'none';\n",
              "        })();\n",
              "      </script>\n",
              "    </div>\n",
              "\n",
              "    </div>\n",
              "  </div>\n"
            ],
            "application/vnd.google.colaboratory.intrinsic+json": {
              "type": "dataframe",
              "variable_name": "df",
              "summary": "{\n  \"name\": \"df\",\n  \"rows\": 990,\n  \"fields\": [\n    {\n      \"column\": \"review\",\n      \"properties\": {\n        \"dtype\": \"string\",\n        \"num_unique_values\": 983,\n        \"samples\": [\n          \"they keep getting better and better this is my third one and i ve had numerous palms too\",\n          \"battery has no life\",\n          \"not as good as i had hoped\"\n        ],\n        \"semantic_type\": \"\",\n        \"description\": \"\"\n      }\n    },\n    {\n      \"column\": \"sentiment\",\n      \"properties\": {\n        \"dtype\": \"number\",\n        \"std\": 0,\n        \"min\": 0,\n        \"max\": 1,\n        \"num_unique_values\": 2,\n        \"samples\": [\n          1,\n          0\n        ],\n        \"semantic_type\": \"\",\n        \"description\": \"\"\n      }\n    }\n  ]\n}"
            }
          },
          "metadata": {},
          "execution_count": 10
        }
      ]
    },
    {
      "cell_type": "markdown",
      "source": [
        "This code cleans the text by removing punctuation and digits from the text, using a combination of string methods and regular expressions. This is a standard preprocessing step that helps normalize the text."
      ],
      "metadata": {
        "id": "TdUePvqUS5Yx"
      }
    },
    {
      "cell_type": "markdown",
      "source": [
        "#### Vocabulary size"
      ],
      "metadata": {
        "id": "gYTa1ezfnBP7"
      }
    },
    {
      "cell_type": "code",
      "source": [
        "# Calculate the vocab size of the cleaned reviews\n",
        "def calculate_vocab_size(reviews):\n",
        "    words = [word for review in reviews for word in review.split()]\n",
        "    return len(set(words)), len(words)\n",
        "\n",
        "# Apply calculate_vocab_size function to the cleaned reviews\n",
        "vocab_size, total_words = calculate_vocab_size(df['review'].tolist())\n",
        "print(f\"Total words (with duplicates): {total_words:,}\")\n",
        "print(f\"Vocabulary size (unique words): {vocab_size:,}\")"
      ],
      "metadata": {
        "colab": {
          "base_uri": "https://localhost:8080/"
        },
        "id": "Yx91N-9VTU6n",
        "outputId": "f11c9265-9b8b-42b2-d0ae-d3d75f39185d"
      },
      "execution_count": 11,
      "outputs": [
        {
          "output_type": "stream",
          "name": "stdout",
          "text": [
            "Total words (with duplicates): 10,333\n",
            "Vocabulary size (unique words): 1,816\n"
          ]
        }
      ]
    },
    {
      "cell_type": "markdown",
      "source": [
        "This function calculates vocabulary statistics by splitting each review into words using Python's built-in `split()` method, which separates text on whitespace. The list comprehension flattens all words from all reviews into a single list. The function then returns two values: the number of unique words (vocabulary size) by converting the list to a set, and the total word count including duplicates."
      ],
      "metadata": {
        "id": "6wHKXrm9ThAh"
      }
    },
    {
      "cell_type": "code",
      "source": [
        "# Create list of all words from reviews\n",
        "all_tokens = [word for review in df['review'].tolist() for word in review.split()]\n",
        "\n",
        "# Count word frequencies\n",
        "word_freq = Counter(all_tokens)\n",
        "top_20 = word_freq.most_common(20)\n",
        "\n",
        "print(\"\\nTop 20 Most Frequent Words:\")\n",
        "for word, freq in top_20:\n",
        "    print(f\"{word}: {freq}\")"
      ],
      "metadata": {
        "colab": {
          "base_uri": "https://localhost:8080/"
        },
        "id": "fA-TUIuMTb36",
        "outputId": "34ab464f-7a2a-4d3d-c9a7-9d13b37b2c21"
      },
      "execution_count": 12,
      "outputs": [
        {
          "output_type": "stream",
          "name": "stdout",
          "text": [
            "\n",
            "Top 20 Most Frequent Words:\n",
            "the: 518\n",
            "i: 379\n",
            "it: 311\n",
            "and: 311\n",
            "is: 241\n",
            "a: 217\n",
            "this: 205\n",
            "to: 196\n",
            "phone: 164\n",
            "my: 145\n",
            "of: 120\n",
            "for: 119\n",
            "not: 116\n",
            "with: 112\n",
            "very: 104\n",
            "great: 93\n",
            "was: 90\n",
            "on: 90\n",
            "in: 88\n",
            "that: 82\n"
          ]
        }
      ]
    },
    {
      "cell_type": "markdown",
      "source": [
        "The vocabulary contains 1,816 unique words. The most frequently occuring words include \"the,\" 'i,\" \"it,\" \"and,\" \"is,\" and \"a,\" which are all typical in the English language. I am choosing not to remove stop words because the vocabulary size is already quite small."
      ],
      "metadata": {
        "id": "CfCKCtZ5T88Y"
      }
    },
    {
      "cell_type": "code",
      "source": [
        "# Visualize top 20 words\n",
        "words = [word for word, count in top_20]\n",
        "counts = [count for word, count in top_20]\n",
        "\n",
        "plt.figure(figsize=(12, 6))\n",
        "plt.bar(words, counts, color='#CEB888', edgecolor='black', alpha=0.7)\n",
        "plt.xlabel('Words', fontsize=12, fontweight='bold')\n",
        "plt.ylabel('Frequency', fontsize=12, fontweight='bold')\n",
        "plt.title('Top 20 Most Frequent Words in Amazon Reviews', fontsize=14, fontweight='bold')\n",
        "plt.xticks(rotation=45, ha='right')\n",
        "plt.tight_layout()\n",
        "plt.grid(axis='y', alpha=0.3)\n",
        "plt.show()"
      ],
      "metadata": {
        "colab": {
          "base_uri": "https://localhost:8080/",
          "height": 540
        },
        "id": "Y6JMVrSxTd97",
        "outputId": "e8b9368f-2230-4e50-abf4-70aaeca45574"
      },
      "execution_count": 13,
      "outputs": [
        {
          "output_type": "display_data",
          "data": {
            "text/plain": [
              "<Figure size 1200x600 with 1 Axes>"
            ],
            "image/png": "[encoded data removed]"
          },
          "metadata": {}
        }
      ]
    },
    {
      "cell_type": "markdown",
      "source": [
        "This code visualizes the frequencies of the top 20 most common words used across the dataset."
      ],
      "metadata": {
        "id": "sTij6Bp0UQTb"
      }
    },
    {
      "cell_type": "markdown",
      "source": [
        "#### Word embedding length"
      ],
      "metadata": {
        "id": "jmGPFPnOr_wS"
      }
    },
    {
      "cell_type": "code",
      "source": [
        "# Quick check of the vocabulary size from previous sections\n",
        "print(f\"Vocabulary Size: {vocab_size:,} unique words\")\n",
        "print(f\"Dataset Size: {len(df)} reviews\")\n",
        "print(f\"Task Complexity: Binary classification (positive/negative sentiment)\")"
      ],
      "metadata": {
        "colab": {
          "base_uri": "https://localhost:8080/"
        },
        "id": "pYVJplOMkh1j",
        "outputId": "81f327ec-6168-40f6-9985-6b4aa25afa04"
      },
      "execution_count": 14,
      "outputs": [
        {
          "output_type": "stream",
          "name": "stdout",
          "text": [
            "Vocabulary Size: 1,816 unique words\n",
            "Dataset Size: 990 reviews\n",
            "Task Complexity: Binary classification (positive/negative sentiment)\n"
          ]
        }
      ]
    },
    {
      "cell_type": "markdown",
      "source": [
        "**Proposed Embedding Dimension:** 50\n",
        "\n",
        "**Justification:**\n",
        "\n",
        "I propose an embedding length of **50 dimensions** for this sentiment analysis task. This choice is based on three key factors:\n",
        "\n",
        "1. **Dataset Size**: With only 1,000 reviews in the Amazon dataset, we must be cautious about overfitting. Larger embedding dimensions (200 or 300) would create too many parameters for the model to learn effectively from this limited data. An embedding dimension of 50 provides sufficient representational capacity while keeping the parameter count manageable.\n",
        "\n",
        "2. **Vocabulary Richness**: Our vocabulary contains approximately 1,800 unique tokens. A 50-dimensional embedding space provides adequate capacity to capture meaningful semantic relationships between words without being unnecessarily large. Each word will be represented as a 50-dimensional vector, which is sufficient for distinguishing between sentiment-bearing words in our moderately-sized vocabulary.\n",
        "\n",
        "3. **Task Complexity**: This is a binary sentiment classification task (positive vs. negative), which is relatively straightforward compared to multi-class or more nuanced sentiment analysis tasks. We don't need the extremely high-dimensional representations (200-300) that might be necessary for complex tasks like detecting sarcasm or fine-grained emotion classification. An embedding dimension of 50 strikes the right balance between expressiveness and simplicity.\n",
        "\n",
        "Additionally, 50 dimensions is a widely-used standard in the NLP literature for small-to-medium datasets and has been shown to work effectively for sentiment analysis tasks but the statistics run in the below section indicate 50 may still be too large for this dataset <mark>(Ahmad, 2023, p. 304)</mark>."
      ],
      "metadata": {
        "id": "Z_8Nl4wLk515"
      }
    },
    {
      "cell_type": "markdown",
      "source": [
        "#### Statistical justification for maximum sequence length"
      ],
      "metadata": {
        "id": "FXQJwE_WDov8"
      }
    },
    {
      "cell_type": "code",
      "source": [
        "# Calculate sequence lengths\n",
        "sequence_lengths = []\n",
        "for review in df['review']:\n",
        "    tokens = review.split()\n",
        "    sequence_lengths.append(len(tokens))\n",
        "\n",
        "sequence_lengths = np.array(sequence_lengths)\n",
        "\n",
        "# Calculate statistics\n",
        "mean_length = np.mean(sequence_lengths)\n",
        "median_length = np.median(sequence_lengths)\n",
        "max_length = np.max(sequence_lengths)\n",
        "percentile_95 = np.percentile(sequence_lengths, 95)\n",
        "\n",
        "print(\"Sequence Length Statistics:\")\n",
        "print(f\"Mean: {mean_length:.2f} tokens\")\n",
        "print(f\"Median: {median_length:.0f} tokens\")\n",
        "print(f\"Maximum: {max_length} tokens\")\n",
        "print(f\"95th percentile: {percentile_95:.0f} tokens\")"
      ],
      "metadata": {
        "colab": {
          "base_uri": "https://localhost:8080/"
        },
        "id": "TBB2aTn5xExi",
        "outputId": "136206fd-cfd2-4694-bc26-6652fb2f7a39"
      },
      "execution_count": 15,
      "outputs": [
        {
          "output_type": "stream",
          "name": "stdout",
          "text": [
            "Sequence Length Statistics:\n",
            "Mean: 10.44 tokens\n",
            "Median: 9 tokens\n",
            "Maximum: 31 tokens\n",
            "95th percentile: 24 tokens\n"
          ]
        }
      ]
    },
    {
      "cell_type": "markdown",
      "source": [
        "This code checks for the mean, median, and maximum number of tokens per review, while also looking at the 95th percentile."
      ],
      "metadata": {
        "id": "eoYpVuzDUpc8"
      }
    },
    {
      "cell_type": "code",
      "source": [
        "# Visualize sequence length distribution\n",
        "fig, axes = plt.subplots(1, 2, figsize=(16, 6))\n",
        "\n",
        "# Plot Histogram\n",
        "axes[0].hist(sequence_lengths, bins=30, color='#CEB888', edgecolor='black', alpha=0.7)\n",
        "axes[0].axvline(mean_length, color='red', linestyle='--', linewidth=2, label=f'Mean: {mean_length:.1f}')\n",
        "axes[0].axvline(median_length, color='orange', linestyle='--', linewidth=2, label=f'Median: {median_length:.0f}')\n",
        "axes[0].axvline(percentile_95, color='green', linestyle='--', linewidth=2, label=f'95th percentile: {percentile_95:.0f}')\n",
        "axes[0].set_xlabel('Sequence Length (tokens)', fontsize=12, fontweight='bold')\n",
        "axes[0].set_ylabel('Frequency', fontsize=12, fontweight='bold')\n",
        "axes[0].set_title('Distribution of Review Lengths', fontsize=14, fontweight='bold')\n",
        "axes[0].legend()\n",
        "axes[0].grid(axis='y', alpha=0.3)\n",
        "\n",
        "# Plot Boxplot\n",
        "axes[1].boxplot(sequence_lengths, vert=True, patch_artist=True,\n",
        "                boxprops=dict(facecolor='#5CB8B2', color='black'),\n",
        "                medianprops=dict(color='#A6192E', linewidth=2),\n",
        "                whiskerprops=dict(color='black'),\n",
        "                capprops=dict(color='black'))\n",
        "axes[1].axhline(percentile_95, color='green', linestyle='--', linewidth=1.5,\n",
        "                label=f'95th percentile: {percentile_95:.0f}', alpha=0.7)\n",
        "axes[1].set_ylabel('Sequence Length (tokens)', fontsize=12, fontweight='bold')\n",
        "axes[1].set_title('Boxplot of Review Lengths', fontsize=14, fontweight='bold')\n",
        "axes[1].legend()\n",
        "axes[1].grid(axis='y', alpha=0.3)\n",
        "\n",
        "plt.tight_layout()\n",
        "plt.show()"
      ],
      "metadata": {
        "colab": {
          "base_uri": "https://localhost:8080/",
          "height": 408
        },
        "id": "c9_5ehvxyAJP",
        "outputId": "0ba3fdc0-38be-464d-dce6-f51e1c974c85"
      },
      "execution_count": 16,
      "outputs": [
        {
          "output_type": "display_data",
          "data": {
            "text/plain": [
              "<Figure size 1600x600 with 2 Axes>"
            ],
            "image/png": "[encoded data removed]"
          },
          "metadata": {}
        }
      ]
    },
    {
      "cell_type": "markdown",
      "source": [
        "**Analysis of Sequence Lengths:**\n",
        "\n",
        "The distribution of review lengths in the Amazon dataset shows the following characteristics:\n",
        "- **Mean length**: 10.45 tokens\n",
        "- **Median length**: 9 tokens\n",
        "- **95th percentile**: 24 tokens\n",
        "- **Maximum length**: 31 tokens\n",
        "\n",
        "The histogram reveals that most reviews are relatively short and concise, which is typical of Amazon product reviews. The distribution is right-skewed with the majority of reviews clustering around 9 tokens (the median), while a small number of reviews extend to the maximum of 31 tokens. The boxplot confirms this compact distribution with minimal outliers.\n",
        "\n",
        "**Chosen Maximum Sequence Length: 50 tokens**\n",
        "\n",
        "**Justification:**\n",
        "\n",
        "I have selected a maximum sequence length of **50 tokens** based on the following considerations:\n",
        "\n",
        "* **Complete Coverage:** This length captures 100% of all reviews in the dataset. No review would be truncated since the longest review is only 31 tokens.\n",
        "* **Efficiency:** With a mean length of only 10.45 tokens and a median of 9 tokens, most reviews are quite concise. A maximum length of 50 tokens provides complete coverage while remaining highly efficient for the LSTM architecture. Setting the maximum to 100 or higher would require additional computational resources for minimal gain.\n",
        "* **Standard Practice:** A maximum sequence length of 50 tokens is a common, well-established value in NLP that aligns with best practices for sentiment analysis of short-form text like product reviews, social media posts, and customer feedback.\n",
        "* **Padding Considerations:** Reviews shorter than 50 tokens will be padded with zeros. Given that the median length is 9 tokens, the typical review will require approximately 41 padding tokens. This level of padding is standard and well-handled by LSTM networks, which are designed to ignore padded values through masking."
      ],
      "metadata": {
        "id": "wmhVgfT4zFqm"
      }
    },
    {
      "cell_type": "markdown",
      "source": [
        "### B2. Tokenization"
      ],
      "metadata": {
        "id": "8Zu1S8rkXNFB"
      }
    },
    {
      "cell_type": "markdown",
      "source": [
        "> Describe the goals of the tokenization process, including any code generated and any packages that are used to normalize text during the process."
      ],
      "metadata": {
        "id": "yoaRyAZNYoLd"
      }
    },
    {
      "cell_type": "markdown",
      "source": [
        "**Goals of the Tokenization Process:**\n",
        "\n",
        "Tokenization is the foundational step in preparing text data for natural language processing and sentiment analysis. The primary goals are:\n",
        "\n",
        "1. **Break Text into Manageable Units**: Tokenization splits each review into individual words (tokens), converting continuous text like `\"this product is great\"` into a list of separate words: `[\"this\", \"product\", \"is\", \"great\"]`.\n",
        "\n",
        "2. **Setup for Quantitative Analysis**: By converting text into discrete tokens, we can perform quantitative analysis such as word frequency counts, vocabulary size calculations, and statistical distributions - all of which inform our model design decisions.\n",
        "\n",
        "3. **Standardize Text Processing**: Tokenization provides a consistent method for processing all reviews, ensuring that each piece of text is broken down using the same rules and logic.\n",
        "\n",
        "4. **Prepare for Vocabulary Building**: The tokens serve as the basis for constructing our vocabulary (word index), which will later be used to convert words to numeric representations for the neural network.\n",
        "\n",
        "5. **Apply Lemmatization:** The tokens are broken down into their base form, allowing different forms of a word to be treated as the same base word."
      ],
      "metadata": {
        "id": "NFS1kKWoX5jg"
      }
    },
    {
      "cell_type": "code",
      "source": [
        "from tensorflow.keras.preprocessing.text import text_to_word_sequence\n",
        "\n",
        "def clean_and_tokenize(text):\n",
        "    \"\"\"\n",
        "    Clean and tokenize text.\n",
        "    \"\"\"\n",
        "    # Convert to lowercase (already done, but ensuring consistency)\n",
        "    text = text.lower()\n",
        "\n",
        "    # Tokenize words using TensorFlow\n",
        "    tokens = text_to_word_sequence(text)\n",
        "\n",
        "    return tokens\n",
        "\n",
        "# Apply tokenization to dataset\n",
        "df[\"tokens\"] = df[\"review\"].apply(clean_and_tokenize)\n",
        "df[\"review_processed\"] = df[\"tokens\"].apply(lambda x: ' '.join(x))\n",
        "\n",
        "print(f\"Processed {len(df)} reviews\")\n",
        "print(\"\\nSample Output:\")\n",
        "df[[\"review\", \"tokens\", \"review_processed\"]].head(3)"
      ],
      "metadata": {
        "colab": {
          "base_uri": "https://localhost:8080/",
          "height": 214
        },
        "id": "Yf6kOV3NYkV0",
        "outputId": "db1fcaba-3925-45b7-a829-060a7b3b80ce"
      },
      "execution_count": 17,
      "outputs": [
        {
          "output_type": "stream",
          "name": "stdout",
          "text": [
            "Processed 990 reviews\n",
            "\n",
            "Sample Output:\n"
          ]
        },
        {
          "output_type": "execute_result",
          "data": {
            "text/plain": [
              "                                                                              review  \\\n",
              "0  so there is no way for me to plug it in here in the us unless i go by a converter   \n",
              "1                                                          good case excellent value   \n",
              "2                                                              great for the jawbone   \n",
              "\n",
              "                                                                                                tokens  \\\n",
              "0  [so, there, is, no, way, for, me, to, plug, it, in, here, in, the, us, unless, i, go, by, a, con...   \n",
              "1                                                                       [good, case, excellent, value]   \n",
              "2                                                                           [great, for, the, jawbone]   \n",
              "\n",
              "                                                                    review_processed  \n",
              "0  so there is no way for me to plug it in here in the us unless i go by a converter  \n",
              "1                                                          good case excellent value  \n",
              "2                                                              great for the jawbone  "
            ],
            "text/html": [
              "\n",
              "  <div id=\"df-1f8eb454-0d10-45bb-b8e9-1c08aa3a26ce\" class=\"colab-df-container\">\n",
              "    <div>\n",
              "<style scoped>\n",
              "    .dataframe tbody tr th:only-of-type {\n",
              "        vertical-align: middle;\n",
              "    }\n",
              "\n",
              "    .dataframe tbody tr th {\n",
              "        vertical-align: top;\n",
              "    }\n",
              "\n",
              "    .dataframe thead th {\n",
              "        text-align: right;\n",
              "    }\n",
              "</style>\n",
              "<table border=\"1\" class=\"dataframe\">\n",
              "  <thead>\n",
              "    <tr style=\"text-align: right;\">\n",
              "      <th></th>\n",
              "      <th>review</th>\n",
              "      <th>tokens</th>\n",
              "      <th>review_processed</th>\n",
              "    </tr>\n",
              "  </thead>\n",
              "  <tbody>\n",
              "    <tr>\n",
              "      <th>0</th>\n",
              "      <td>so there is no way for me to plug it in here in the us unless i go by a converter</td>\n",
              "      <td>[so, there, is, no, way, for, me, to, plug, it, in, here, in, the, us, unless, i, go, by, a, con...</td>\n",
              "      <td>so there is no way for me to plug it in here in the us unless i go by a converter</td>\n",
              "    </tr>\n",
              "    <tr>\n",
              "      <th>1</th>\n",
              "      <td>good case excellent value</td>\n",
              "      <td>[good, case, excellent, value]</td>\n",
              "      <td>good case excellent value</td>\n",
              "    </tr>\n",
              "    <tr>\n",
              "      <th>2</th>\n",
              "      <td>great for the jawbone</td>\n",
              "      <td>[great, for, the, jawbone]</td>\n",
              "      <td>great for the jawbone</td>\n",
              "    </tr>\n",
              "  </tbody>\n",
              "</table>\n",
              "</div>\n",
              "    <div class=\"colab-df-buttons\">\n",
              "\n",
              "  <div class=\"colab-df-container\">\n",
              "    <button class=\"colab-df-convert\" onclick=\"convertToInteractive('df-1f8eb454-0d10-45bb-b8e9-1c08aa3a26ce')\"\n",
              "            title=\"Convert this dataframe to an interactive table.\"\n",
              "            style=\"display:none;\">\n",
              "\n",
              "  <svg xmlns=\"http://www.w3.org/2000/svg\" height=\"24px\" viewBox=\"0 -960 960 960\">\n",
              "    <path d=\"M120-120v-720h720v720H120Zm60-500h600v-160H180v160Zm220 220h160v-160H400v160Zm0 220h160v-160H400v160ZM180-400h160v-160H180v160Zm440 0h160v-160H620v160ZM180-180h160v-160H180v160Zm440 0h160v-160H620v160Z\"/>\n",
              "  </svg>\n",
              "    </button>\n",
              "\n",
              "  <style>\n",
              "    .colab-df-container {\n",
              "      display:flex;\n",
              "      gap: 12px;\n",
              "    }\n",
              "\n",
              "    .colab-df-convert {\n",
              "      background-color: #E8F0FE;\n",
              "      border: none;\n",
              "      border-radius: 50%;\n",
              "      cursor: pointer;\n",
              "      display: none;\n",
              "      fill: #1967D2;\n",
              "      height: 32px;\n",
              "      padding: 0 0 0 0;\n",
              "      width: 32px;\n",
              "    }\n",
              "\n",
              "    .colab-df-convert:hover {\n",
              "      background-color: #E2EBFA;\n",
              "      box-shadow: 0px 1px 2px rgba(60, 64, 67, 0.3), 0px 1px 3px 1px rgba(60, 64, 67, 0.15);\n",
              "      fill: #174EA6;\n",
              "    }\n",
              "\n",
              "    .colab-df-buttons div {\n",
              "      margin-bottom: 4px;\n",
              "    }\n",
              "\n",
              "    [theme=dark] .colab-df-convert {\n",
              "      background-color: #3B4455;\n",
              "      fill: #D2E3FC;\n",
              "    }\n",
              "\n",
              "    [theme=dark] .colab-df-convert:hover {\n",
              "      background-color: #434B5C;\n",
              "      box-shadow: 0px 1px 3px 1px rgba(0, 0, 0, 0.15);\n",
              "      filter: drop-shadow(0px 1px 2px rgba(0, 0, 0, 0.3));\n",
              "      fill: #FFFFFF;\n",
              "    }\n",
              "  </style>\n",
              "\n",
              "    <script>\n",
              "      const buttonEl =\n",
              "        document.querySelector('#df-1f8eb454-0d10-45bb-b8e9-1c08aa3a26ce button.colab-df-convert');\n",
              "      buttonEl.style.display =\n",
              "        google.colab.kernel.accessAllowed ? 'block' : 'none';\n",
              "\n",
              "      async function convertToInteractive(key) {\n",
              "        const element = document.querySelector('#df-1f8eb454-0d10-45bb-b8e9-1c08aa3a26ce');\n",
              "        const dataTable =\n",
              "          await google.colab.kernel.invokeFunction('convertToInteractive',\n",
              "                                                    [key], {});\n",
              "        if (!dataTable) return;\n",
              "\n",
              "        const docLinkHtml = 'Like what you see? Visit the ' +\n",
              "          '<a target=\"_blank\" href=https://colab.research.google.com/notebooks/data_table.ipynb>data table notebook</a>'\n",
              "          + ' to learn more about interactive tables.';\n",
              "        element.innerHTML = '';\n",
              "        dataTable['output_type'] = 'display_data';\n",
              "        await google.colab.output.renderOutput(dataTable, element);\n",
              "        const docLink = document.createElement('div');\n",
              "        docLink.innerHTML = docLinkHtml;\n",
              "        element.appendChild(docLink);\n",
              "      }\n",
              "    </script>\n",
              "  </div>\n",
              "\n",
              "\n",
              "    <div id=\"df-51e3e887-13b3-40fb-949a-dad164f9e7c9\">\n",
              "      <button class=\"colab-df-quickchart\" onclick=\"quickchart('df-51e3e887-13b3-40fb-949a-dad164f9e7c9')\"\n",
              "                title=\"Suggest charts\"\n",
              "                style=\"display:none;\">\n",
              "\n",
              "<svg xmlns=\"http://www.w3.org/2000/svg\" height=\"24px\"viewBox=\"0 0 24 24\"\n",
              "     width=\"24px\">\n",
              "    <g>\n",
              "        <path d=\"M19 3H5c-1.1 0-2 .9-2 2v14c0 1.1.9 2 2 2h14c1.1 0 2-.9 2-2V5c0-1.1-.9-2-2-2zM9 17H7v-7h2v7zm4 0h-2V7h2v10zm4 0h-2v-4h2v4z\"/>\n",
              "    </g>\n",
              "</svg>\n",
              "      </button>\n",
              "\n",
              "<style>\n",
              "  .colab-df-quickchart {\n",
              "      --bg-color: #E8F0FE;\n",
              "      --fill-color: #1967D2;\n",
              "      --hover-bg-color: #E2EBFA;\n",
              "      --hover-fill-color: #174EA6;\n",
              "      --disabled-fill-color: #AAA;\n",
              "      --disabled-bg-color: #DDD;\n",
              "  }\n",
              "\n",
              "  [theme=dark] .colab-df-quickchart {\n",
              "      --bg-color: #3B4455;\n",
              "      --fill-color: #D2E3FC;\n",
              "      --hover-bg-color: #434B5C;\n",
              "      --hover-fill-color: #FFFFFF;\n",
              "      --disabled-bg-color: #3B4455;\n",
              "      --disabled-fill-color: #666;\n",
              "  }\n",
              "\n",
              "  .colab-df-quickchart {\n",
              "    background-color: var(--bg-color);\n",
              "    border: none;\n",
              "    border-radius: 50%;\n",
              "    cursor: pointer;\n",
              "    display: none;\n",
              "    fill: var(--fill-color);\n",
              "    height: 32px;\n",
              "    padding: 0;\n",
              "    width: 32px;\n",
              "  }\n",
              "\n",
              "  .colab-df-quickchart:hover {\n",
              "    background-color: var(--hover-bg-color);\n",
              "    box-shadow: 0 1px 2px rgba(60, 64, 67, 0.3), 0 1px 3px 1px rgba(60, 64, 67, 0.15);\n",
              "    fill: var(--button-hover-fill-color);\n",
              "  }\n",
              "\n",
              "  .colab-df-quickchart-complete:disabled,\n",
              "  .colab-df-quickchart-complete:disabled:hover {\n",
              "    background-color: var(--disabled-bg-color);\n",
              "    fill: var(--disabled-fill-color);\n",
              "    box-shadow: none;\n",
              "  }\n",
              "\n",
              "  .colab-df-spinner {\n",
              "    border: 2px solid var(--fill-color);\n",
              "    border-color: transparent;\n",
              "    border-bottom-color: var(--fill-color);\n",
              "    animation:\n",
              "      spin 1s steps(1) infinite;\n",
              "  }\n",
              "\n",
              "  @keyframes spin {\n",
              "    0% {\n",
              "      border-color: transparent;\n",
              "      border-bottom-color: var(--fill-color);\n",
              "      border-left-color: var(--fill-color);\n",
              "    }\n",
              "    20% {\n",
              "      border-color: transparent;\n",
              "      border-left-color: var(--fill-color);\n",
              "      border-top-color: var(--fill-color);\n",
              "    }\n",
              "    30% {\n",
              "      border-color: transparent;\n",
              "      border-left-color: var(--fill-color);\n",
              "      border-top-color: var(--fill-color);\n",
              "      border-right-color: var(--fill-color);\n",
              "    }\n",
              "    40% {\n",
              "      border-color: transparent;\n",
              "      border-right-color: var(--fill-color);\n",
              "      border-top-color: var(--fill-color);\n",
              "    }\n",
              "    60% {\n",
              "      border-color: transparent;\n",
              "      border-right-color: var(--fill-color);\n",
              "    }\n",
              "    80% {\n",
              "      border-color: transparent;\n",
              "      border-right-color: var(--fill-color);\n",
              "      border-bottom-color: var(--fill-color);\n",
              "    }\n",
              "    90% {\n",
              "      border-color: transparent;\n",
              "      border-bottom-color: var(--fill-color);\n",
              "    }\n",
              "  }\n",
              "</style>\n",
              "\n",
              "      <script>\n",
              "        async function quickchart(key) {\n",
              "          const quickchartButtonEl =\n",
              "            document.querySelector('#' + key + ' button');\n",
              "          quickchartButtonEl.disabled = true;  // To prevent multiple clicks.\n",
              "          quickchartButtonEl.classList.add('colab-df-spinner');\n",
              "          try {\n",
              "            const charts = await google.colab.kernel.invokeFunction(\n",
              "                'suggestCharts', [key], {});\n",
              "          } catch (error) {\n",
              "            console.error('Error during call to suggestCharts:', error);\n",
              "          }\n",
              "          quickchartButtonEl.classList.remove('colab-df-spinner');\n",
              "          quickchartButtonEl.classList.add('colab-df-quickchart-complete');\n",
              "        }\n",
              "        (() => {\n",
              "          let quickchartButtonEl =\n",
              "            document.querySelector('#df-51e3e887-13b3-40fb-949a-dad164f9e7c9 button');\n",
              "          quickchartButtonEl.style.display =\n",
              "            google.colab.kernel.accessAllowed ? 'block' : 'none';\n",
              "        })();\n",
              "      </script>\n",
              "    </div>\n",
              "\n",
              "    </div>\n",
              "  </div>\n"
            ],
            "application/vnd.google.colaboratory.intrinsic+json": {
              "type": "dataframe",
              "summary": "{\n  \"name\": \"df[[\\\"review\\\", \\\"tokens\\\", \\\"review_processed\\\"]]\",\n  \"rows\": 3,\n  \"fields\": [\n    {\n      \"column\": \"review\",\n      \"properties\": {\n        \"dtype\": \"string\",\n        \"num_unique_values\": 3,\n        \"samples\": [\n          \"so there is no way for me to plug it in here in the us unless i go by a converter\",\n          \"good case excellent value\",\n          \"great for the jawbone\"\n        ],\n        \"semantic_type\": \"\",\n        \"description\": \"\"\n      }\n    },\n    {\n      \"column\": \"tokens\",\n      \"properties\": {\n        \"dtype\": \"object\",\n        \"semantic_type\": \"\",\n        \"description\": \"\"\n      }\n    },\n    {\n      \"column\": \"review_processed\",\n      \"properties\": {\n        \"dtype\": \"string\",\n        \"num_unique_values\": 3,\n        \"samples\": [\n          \"so there is no way for me to plug it in here in the us unless i go by a converter\",\n          \"good case excellent value\",\n          \"great for the jawbone\"\n        ],\n        \"semantic_type\": \"\",\n        \"description\": \"\"\n      }\n    }\n  ]\n}"
            }
          },
          "metadata": {},
          "execution_count": 17
        }
      ]
    },
    {
      "cell_type": "markdown",
      "source": [
        "Using TensorFlow's `text_to_word_sequence`, I succesfully processed all 990 Amazon reviews through a tokenization pipeline. This function handles basic text cleaning like converting to lowercase and removing punctuation before splitting the text into individual tokens. Lemmatization was not performed; instead I will rely on the model's embedding layer to learn the relationships between different forms of a word (e.g., \"phone\" and \"phones\"). Stop words were also retained based on the very small size of the dataset."
      ],
      "metadata": {
        "id": "0sleQYUgW-dJ"
      }
    },
    {
      "cell_type": "code",
      "source": [
        "# Vocabulary statistics after lemmatization\n",
        "all_tokens = [token for tokens_list in df[\"tokens\"] for token in tokens_list]\n",
        "vocab_size = len(set(all_tokens))\n",
        "\n",
        "print(f\"\\nVocabulary Statistics:\")\n",
        "print(f\"Total tokens: {len(all_tokens):,}\")\n",
        "print(f\"Unique tokens: {vocab_size:,}\")"
      ],
      "metadata": {
        "colab": {
          "base_uri": "https://localhost:8080/"
        },
        "id": "4v3dCu4iW7Do",
        "outputId": "26ff013e-f443-4935-999a-f89710e17daa"
      },
      "execution_count": 18,
      "outputs": [
        {
          "output_type": "stream",
          "name": "stdout",
          "text": [
            "\n",
            "Vocabulary Statistics:\n",
            "Total tokens: 10,333\n",
            "Unique tokens: 1,816\n"
          ]
        }
      ]
    },
    {
      "cell_type": "markdown",
      "source": [
        "**Key Results:**\n",
        "\n",
        "* **Consistent Tokenization:** The TensorFlow tokenizer provides a standardized way to break down the reviews into words.\n",
        "\n",
        "* **Vocabulary Size:** The resulting vocabulary consists of 1,816 unique words. This is slightly larger than it would be with lemmatization, but the embedding layer is well-suited to handle these variations."
      ],
      "metadata": {
        "id": "bD6M1hO6XL3f"
      }
    },
    {
      "cell_type": "markdown",
      "source": [
        "### B3. Padding Process"
      ],
      "metadata": {
        "id": "b9R1_ojOXPOM"
      }
    },
    {
      "cell_type": "markdown",
      "source": [
        "> Explain the padding process used to standardize the length of sequences. Include the following in your explanation:\n",
        "\n",
        "  * whether the padding occurs before or after the text sequence\n",
        "  * a screenshot of a single padded sequence"
      ],
      "metadata": {
        "id": "RgNh94hWYpvI"
      }
    },
    {
      "cell_type": "markdown",
      "source": [
        "Before we can apply padding, we must first convert our text into numeric sequences. Neural networks cannot process text directly, they require numeric input. So this section will cover both vectorization (the text-to-numbers conversion) and padding."
      ],
      "metadata": {
        "id": "tNnkyUrmYLte"
      }
    },
    {
      "cell_type": "markdown",
      "source": [
        "**Vectorization**"
      ],
      "metadata": {
        "id": "QNVPl3gVZnZ1"
      }
    },
    {
      "cell_type": "code",
      "source": [
        "from tensorflow.keras.preprocessing.text import Tokenizer\n",
        "from tensorflow.keras.preprocessing.sequence import pad_sequences\n",
        "\n",
        "# Initialize Keras Tokenizer\n",
        "tokenizer = Tokenizer(\n",
        "    num_words=None,     # Use all words, no vocabulary limit\n",
        "    oov_token='<OOV>',  # Out-of-vocabulary token\n",
        "    lower=False         # Already lowercased during cleaning\n",
        ")\n",
        "\n",
        "# Fit tokenizer on processed text\n",
        "tokenizer.fit_on_texts(df['review_processed'])\n",
        "\n",
        "# Get vocabulary information\n",
        "word_index = tokenizer.word_index\n",
        "vocab_size = len(word_index)\n",
        "print(f\"Vocabulary built: {vocab_size:,} unique words\")\n",
        "\n",
        "# Convert text to sequences\n",
        "sequences = tokenizer.texts_to_sequences(df['review_processed'])\n",
        "print(f\"Converted {len(sequences):,} reviews to numeric sequences\")"
      ],
      "metadata": {
        "colab": {
          "base_uri": "https://localhost:8080/"
        },
        "id": "Y_GZa3LFYcfG",
        "outputId": "99463369-4a8a-4959-ec75-0ca6a4e91a6a"
      },
      "execution_count": 34,
      "outputs": [
        {
          "output_type": "stream",
          "name": "stdout",
          "text": [
            "Vocabulary built: 1,817 unique words\n",
            "Converted 990 reviews to numeric sequences\n"
          ]
        }
      ]
    },
    {
      "cell_type": "code",
      "source": [
        "# Show example conversion\n",
        "example_idx = 5\n",
        "print(f\"Example Conversion:\")\n",
        "print(\"=\" * 60)\n",
        "print(f\"Original text: '{df['review_processed'].iloc[example_idx]}'\")\n",
        "print(f\"Tokens: {df['tokens'].iloc[example_idx]}\")\n",
        "print(f\"Numeric sequence: {sequences[example_idx]}\")\n",
        "print(f\"Sequence length: {len(sequences[example_idx])} tokens\")"
      ],
      "metadata": {
        "colab": {
          "base_uri": "https://localhost:8080/"
        },
        "id": "zC9UblZgYkST",
        "outputId": "e13791f0-404b-4908-c22c-d35999b0e181"
      },
      "execution_count": 20,
      "outputs": [
        {
          "output_type": "stream",
          "name": "stdout",
          "text": [
            "Example Conversion:\n",
            "============================================================\n",
            "Original text: 'i have to jiggle the plug to get it to line up right to get decent volume'\n",
            "Tokens: ['i', 'have', 'to', 'jiggle', 'the', 'plug', 'to', 'get', 'it', 'to', 'line', 'up', 'right', 'to', 'get', 'decent', 'volume']\n",
            "Numeric sequence: [3, 24, 9, 804, 2, 156, 9, 72, 4, 9, 272, 56, 147, 9, 72, 337, 148]\n",
            "Sequence length: 17 tokens\n"
          ]
        }
      ]
    },
    {
      "cell_type": "markdown",
      "source": [
        "Vectorization is the process of converting text tokens into sequences of integers. Each unique word in our vocabulary is assigned a unique integer index, and reviews are represented as sequences of these indices.\n",
        "\n",
        "I used Keras `Tokenizer` from TensorFlow to perform the conversion. The tokenizer builds a vocabulary index (word-to-integer mapping), converts each review into a sequence of integers, and handles out-of-vocabulary (OOV) words. OOV refers to words that may find themselves in the validation or testing dataset that were never present in the training data when the model was trained. So these words may be brand new to the model."
      ],
      "metadata": {
        "id": "eNjTkS7vYnrW"
      }
    },
    {
      "cell_type": "markdown",
      "source": [
        "**Padding**"
      ],
      "metadata": {
        "id": "6B_-iPtmZrCQ"
      }
    },
    {
      "cell_type": "code",
      "source": [
        "# Define maximum sequence length (from Part B1 analysis)\n",
        "max_sequence_length = 50\n",
        "\n",
        "# Apply padding\n",
        "padded_sequences = pad_sequences(\n",
        "    sequences,\n",
        "    maxlen=max_sequence_length,\n",
        "    padding='post',     # Add zeros to the end of sequences\n",
        "    truncating='post',  # Truncate from the end if too long\n",
        "    value=0             # Use 0 as padding value\n",
        ")\n",
        "\n",
        "print(f\"Padded Sequences Shape: {padded_sequences.shape}\")\n",
        "print(f\"Number of reviews: {padded_sequences.shape[0]:,}\")\n",
        "print(f\"Sequence length: {padded_sequences.shape[1]}\")"
      ],
      "metadata": {
        "colab": {
          "base_uri": "https://localhost:8080/"
        },
        "id": "uViS9u6FZs7V",
        "outputId": "26b9f614-62e4-4b5a-f9ba-feefd05a99a0"
      },
      "execution_count": 21,
      "outputs": [
        {
          "output_type": "stream",
          "name": "stdout",
          "text": [
            "Padded Sequences Shape: (990, 50)\n",
            "Number of reviews: 990\n",
            "Sequence length: 50\n"
          ]
        }
      ]
    },
    {
      "cell_type": "code",
      "source": [
        "# Example: Short sequence requiring padding\n",
        "short_idx = 5\n",
        "print(\"Example: Padded Sequence\")\n",
        "print(\"=\" * 60)\n",
        "print(f\"Original text: '{df['review_processed'].iloc[short_idx]}'\")\n",
        "print(f\"\\nOriginal sequence (length {len(sequences[short_idx])}):\")\n",
        "print(sequences[short_idx])\n",
        "print(f\"\\nPadded sequence (length {max_sequence_length}):\")\n",
        "print(padded_sequences[short_idx])\n",
        "print(f\"\\nExplanation: {max_sequence_length - len(sequences[short_idx])} zeros added at the end\")"
      ],
      "metadata": {
        "colab": {
          "base_uri": "https://localhost:8080/"
        },
        "id": "KQrbcdJXZwbV",
        "outputId": "d48c6f24-aabb-44ba-b7e8-d949976ae56f"
      },
      "execution_count": 22,
      "outputs": [
        {
          "output_type": "stream",
          "name": "stdout",
          "text": [
            "Example: Padded Sequence\n",
            "============================================================\n",
            "Original text: 'i have to jiggle the plug to get it to line up right to get decent volume'\n",
            "\n",
            "Original sequence (length 17):\n",
            "[3, 24, 9, 804, 2, 156, 9, 72, 4, 9, 272, 56, 147, 9, 72, 337, 148]\n",
            "\n",
            "Padded sequence (length 50):\n",
            "[  3  24   9 804   2 156   9  72   4   9 272  56 147   9  72 337 148   0\n",
            "   0   0   0   0   0   0   0   0   0   0   0   0   0   0   0   0   0   0\n",
            "   0   0   0   0   0   0   0   0   0   0   0   0   0   0]\n",
            "\n",
            "Explanation: 33 zeros added at the end\n"
          ]
        }
      ]
    },
    {
      "cell_type": "markdown",
      "source": [
        "Padding is the process of standardizing all sequences to be the same length by adding zeros to sequences that are shorter than the specified maximum length. Neural networks like LSTMs require fixed-size inputs, and our reviews vary in length, so padding ensures uniform input size.\n",
        "\n",
        "I chose to use \"post-padding\", which adds zeros at the end of sequences that are shorter than the maximum length for the following reasons:\n",
        "\n",
        "* **Natural Language Flow:** In sentiment analysis, the beginning of a review often contains the most important sentiment information. Post-padding preserves the natural left-to-right flow of the language without inserting artificial zeros before the actual content or truncating early parts of the review if a review surpasses the maximum length. English is a left-to-right language, so \"pre-padding\" might be better used for a right-to-left language like Farsi or Arabic.\n",
        "* **LSTM Compatibility:** LSTMs process sequences from left to right. Post-padding allows the LSTM to process all actual words before encountering padding, making it easier for the network to learn meaningful patterns.\n",
        "\n",
        "**Padding Parameters:**\n",
        "\n",
        "* `maxlen=50`: Maximum sequence length (determined in Part **B1**)\n",
        "* `padding='post'`: Add zeros at the end of sequences until `maxlen` is reached\n",
        "* `truncating='post`: If a sequence exceeds `maxlen`, tokens are removed from the end until the maximum length is reached\n",
        "* `value=0`: Use 0 as the padding value"
      ],
      "metadata": {
        "id": "S7wGL6mCZ_Y5"
      }
    },
    {
      "cell_type": "code",
      "source": [
        "# Store padded sequences\n",
        "X = padded_sequences\n",
        "y = df['sentiment'].values\n",
        "\n",
        "print(f\"\\nFinal Data Shape:\")\n",
        "print(f\"Features (X): {X.shape}\")\n",
        "print(f\"Labels (y): {y.shape}\")"
      ],
      "metadata": {
        "colab": {
          "base_uri": "https://localhost:8080/"
        },
        "id": "Wt1SBuv_bvN3",
        "outputId": "4fa75e83-36de-4f65-8f4d-36678901bd10"
      },
      "execution_count": 23,
      "outputs": [
        {
          "output_type": "stream",
          "name": "stdout",
          "text": [
            "\n",
            "Final Data Shape:\n",
            "Features (X): (990, 50)\n",
            "Labels (y): (990,)\n"
          ]
        }
      ]
    },
    {
      "cell_type": "markdown",
      "source": [
        "This code stores the full padded sequences with reviews as the X values and sentiment as the y values."
      ],
      "metadata": {
        "id": "Qwdwmsj_bzIY"
      }
    },
    {
      "cell_type": "markdown",
      "source": [
        "### B4. Categories of Sentiment"
      ],
      "metadata": {
        "id": "wFi0_nqiXQ8f"
      }
    },
    {
      "cell_type": "markdown",
      "source": [
        "> Identify how many categories of sentiment will be used and provide an activation function for the final dense layer of the network."
      ],
      "metadata": {
        "id": "L31XhnvPYvBP"
      }
    },
    {
      "cell_type": "markdown",
      "source": [
        "This analysis uses **2 categories of sentiment:**\n",
        "\n",
        "* **0:** Negative sentiment\n",
        "* **1:** Positive sentiment\n",
        "\n",
        "This a **binary classification** problem. For binary classification, the most appropriate activation function for the final dense layer is **sigmoid** because it outputs a value between 0 and 1, which can be interpreted as the probability that the review is negative. Typically, a threshold of greater than or equal to 0.5 is classified as positive (1), otherwise it's classified as negative (0)."
      ],
      "metadata": {
        "id": "Z6z_Nt3DdFdN"
      }
    },
    {
      "cell_type": "markdown",
      "source": [
        "### B5. Steps to Prepare the Data"
      ],
      "metadata": {
        "id": "28ZIKiAXXS4W"
      }
    },
    {
      "cell_type": "markdown",
      "source": [
        "> Explain the steps used to prepare the data for analysis, including the size of the training, validation, and test set split based on the industry average."
      ],
      "metadata": {
        "id": "TFOdKOeLYwwW"
      }
    },
    {
      "cell_type": "code",
      "source": [
        "from sklearn.model_selection import train_test_split\n",
        "# First split: Separate train split (70%)\n",
        "X_train, X_temp, y_train, y_temp = train_test_split(\n",
        "    X, y, test_size=0.3, random_state=42, stratify=y\n",
        ")\n",
        "\n",
        "# Second split: Separate remaining data into validation and test split\n",
        "X_val, X_test, y_val, y_test = train_test_split(\n",
        "    X_temp, y_temp, test_size=0.5, random_state=42, stratify=y_temp\n",
        ")\n",
        "\n",
        "print(\"Dataset Split:\")\n",
        "print(f\"Training set: {len(X_train)} samples ({len(X_train) / len(X) * 100:.1f}%)\")\n",
        "print(f\"Validation set: {len(X_val)} samples ({len(X_val) / len(X) * 100:.1f}%)\")\n",
        "print(f\"Test set: {len(X_test)} samples ({len(X_test) / len(X) * 100:.1f}%)\")\n",
        "\n",
        "print(\"\\nClass distribution:\")\n",
        "print(f\"Training - Negative: {sum(y_train==0)}, Positive: {sum(y_train==1)}\")\n",
        "print(f\"Validation - Negative: {sum(y_val==0)}, Positive: {sum(y_val==1)}\")\n",
        "print(f\"Test - Negative: {sum(y_test==0)}, Positive: {sum(y_test==1)}\")"
      ],
      "metadata": {
        "colab": {
          "base_uri": "https://localhost:8080/"
        },
        "id": "mTp1ti3YfE_N",
        "outputId": "e4f3ee7b-ac63-4fe9-b361-6495015c3c1b"
      },
      "execution_count": 35,
      "outputs": [
        {
          "output_type": "stream",
          "name": "stdout",
          "text": [
            "Dataset Split:\n",
            "Training set: 693 samples (70.0%)\n",
            "Validation set: 148 samples (14.9%)\n",
            "Test set: 149 samples (15.1%)\n",
            "\n",
            "Class distribution:\n",
            "Training - Negative: 348, Positive: 345\n",
            "Validation - Negative: 74, Positive: 74\n",
            "Test - Negative: 75, Positive: 74\n"
          ]
        }
      ]
    },
    {
      "cell_type": "markdown",
      "source": [
        "Now that the data is cleaned and tokenized, I used the code above to split the dataset into three sets: training, validation, and test. I chose a split of 70/15/15, which is a fairly typical option within industry standards.\n",
        "\n",
        "* **Training set:** 70%\n",
        "* **Validation set:** 15%\n",
        "* **Testing set:** 15%\n",
        "\n",
        "In addition, I stratified the split to ensure that both positive and negative sentiments are proportionally represented in all three sets."
      ],
      "metadata": {
        "id": "cfb507hZd7u8"
      }
    },
    {
      "cell_type": "markdown",
      "source": [
        "### B6. Prepared Dataset"
      ],
      "metadata": {
        "id": "SmfnTDfjXVWW"
      }
    },
    {
      "cell_type": "markdown",
      "source": [
        "> Provide a copy of the prepared dataset."
      ],
      "metadata": {
        "id": "wF5vypKCYyZX"
      }
    },
    {
      "cell_type": "code",
      "source": [
        "# Save the train, validation, and test splits as CSV files\n",
        "# Convert padded sequences back to DataFrames with sentiment labels\n",
        "train_df = pd.DataFrame(X_train)\n",
        "train_df['sentiment'] = y_train\n",
        "train_df.to_csv('train.csv', index=False)\n",
        "\n",
        "val_df = pd.DataFrame(X_val)\n",
        "val_df['sentiment'] = y_val\n",
        "val_df.to_csv('validation.csv', index=False)\n",
        "\n",
        "test_df = pd.DataFrame(X_test)\n",
        "test_df['sentiment'] = y_test\n",
        "test_df.to_csv('test.csv', index=False)\n",
        "\n",
        "print(\"Saved train, validation, and test sets as CSV files.\")"
      ],
      "metadata": {
        "colab": {
          "base_uri": "https://localhost:8080/"
        },
        "id": "STePzbStf-wq",
        "outputId": "355cb633-9b9d-44bf-cc36-bdf9fd1da09e"
      },
      "execution_count": 25,
      "outputs": [
        {
          "output_type": "stream",
          "name": "stdout",
          "text": [
            "Saved train, validation, and test sets as CSV files.\n"
          ]
        }
      ]
    },
    {
      "cell_type": "markdown",
      "source": [
        "This code converts all data back to DataFrames for easy export to CSV files. We now have CSV files for training, validation, and testing data that preserves the tokenization and padding."
      ],
      "metadata": {
        "id": "PizARVE0P68o"
      }
    },
    {
      "cell_type": "markdown",
      "source": [
        "## C. Network Architecture"
      ],
      "metadata": {
        "id": "82WV4F4jXYO7"
      }
    },
    {
      "cell_type": "markdown",
      "source": [
        "> Describe the type of neural network model used by doing the following:"
      ],
      "metadata": {
        "id": "MvSCOej3Y33a"
      }
    },
    {
      "cell_type": "markdown",
      "source": [
        "### C1. Model Summary"
      ],
      "metadata": {
        "id": "4auiTuqPXZCx"
      }
    },
    {
      "cell_type": "markdown",
      "source": [
        "> Provide the output of the model summary of the function from TensorFlow or PyTorch."
      ],
      "metadata": {
        "id": "PlS2ulu_Y5cc"
      }
    },
    {
      "cell_type": "code",
      "source": [
        "import tensorflow as tf\n",
        "from tensorflow.keras.models import Sequential\n",
        "from tensorflow.keras.layers import Embedding, LSTM, Dense, Dropout\n",
        "\n",
        "# Build the model\n",
        "model = Sequential([\n",
        "    Embedding(input_dim=vocab_size + 1,\n",
        "              output_dim=50,\n",
        "              mask_zero=True),\n",
        "    LSTM(64, return_sequences=False),\n",
        "    Dropout(0.5),\n",
        "    Dense(1, activation='sigmoid')\n",
        "])\n",
        "\n",
        "# Build the model with input shape to initialize parameters\n",
        "model.build(input_shape=(None, max_sequence_length))\n",
        "\n",
        "# Compile the model\n",
        "model.compile(\n",
        "    optimizer='adam',\n",
        "    loss='binary_crossentropy',\n",
        "    metrics=['accuracy']\n",
        ")\n",
        "\n",
        "# Display model summary\n",
        "print(model.summary())"
      ],
      "metadata": {
        "colab": {
          "base_uri": "https://localhost:8080/",
          "height": 282
        },
        "id": "Sh6N1VqIhzd9",
        "outputId": "b5b8c6a3-569b-416d-c04e-4beb90776045"
      },
      "execution_count": 26,
      "outputs": [
        {
          "output_type": "display_data",
          "data": {
            "text/plain": [
              "\u001b[1mModel: \"sequential\"\u001b[0m\n"
            ],
            "text/html": [
              "<pre style=\"white-space:pre;overflow-x:auto;line-height:normal;font-family:Menlo,'DejaVu Sans Mono',consolas,'Courier New',monospace\"><span style=\"font-weight: bold\">Model: \"sequential\"</span>\n",
              "</pre>\n"
            ]
          },
          "metadata": {}
        },
        {
          "output_type": "display_data",
          "data": {
            "text/plain": [
              "┏━━━━━━━━━━━━━━━━━━━━━━━━━━━━━━━━━┳━━━━━━━━━━━━━━━━━━━━━━━━┳━━━━━━━━━━━━━━━┓\n",
              "┃\u001b[1m \u001b[0m\u001b[1mLayer (type)                   \u001b[0m\u001b[1m \u001b[0m┃\u001b[1m \u001b[0m\u001b[1mOutput Shape          \u001b[0m\u001b[1m \u001b[0m┃\u001b[1m \u001b[0m\u001b[1m      Param #\u001b[0m\u001b[1m \u001b[0m┃\n",
              "┡━━━━━━━━━━━━━━━━━━━━━━━━━━━━━━━━━╇━━━━━━━━━━━━━━━━━━━━━━━━╇━━━━━━━━━━━━━━━┩\n",
              "│ embedding (\u001b[38;5;33mEmbedding\u001b[0m)           │ (\u001b[38;5;45mNone\u001b[0m, \u001b[38;5;34m50\u001b[0m, \u001b[38;5;34m50\u001b[0m)         │        \u001b[38;5;34m90,900\u001b[0m │\n",
              "├─────────────────────────────────┼────────────────────────┼───────────────┤\n",
              "│ lstm (\u001b[38;5;33mLSTM\u001b[0m)                     │ (\u001b[38;5;45mNone\u001b[0m, \u001b[38;5;34m64\u001b[0m)             │        \u001b[38;5;34m29,440\u001b[0m │\n",
              "├─────────────────────────────────┼────────────────────────┼───────────────┤\n",
              "│ dropout (\u001b[38;5;33mDropout\u001b[0m)               │ (\u001b[38;5;45mNone\u001b[0m, \u001b[38;5;34m64\u001b[0m)             │             \u001b[38;5;34m0\u001b[0m │\n",
              "├─────────────────────────────────┼────────────────────────┼───────────────┤\n",
              "│ dense (\u001b[38;5;33mDense\u001b[0m)                   │ (\u001b[38;5;45mNone\u001b[0m, \u001b[38;5;34m1\u001b[0m)              │            \u001b[38;5;34m65\u001b[0m │\n",
              "└─────────────────────────────────┴────────────────────────┴───────────────┘\n"
            ],
            "text/html": [
              "<pre style=\"white-space:pre;overflow-x:auto;line-height:normal;font-family:Menlo,'DejaVu Sans Mono',consolas,'Courier New',monospace\">┏━━━━━━━━━━━━━━━━━━━━━━━━━━━━━━━━━┳━━━━━━━━━━━━━━━━━━━━━━━━┳━━━━━━━━━━━━━━━┓\n",
              "┃<span style=\"font-weight: bold\"> Layer (type)                    </span>┃<span style=\"font-weight: bold\"> Output Shape           </span>┃<span style=\"font-weight: bold\">       Param # </span>┃\n",
              "┡━━━━━━━━━━━━━━━━━━━━━━━━━━━━━━━━━╇━━━━━━━━━━━━━━━━━━━━━━━━╇━━━━━━━━━━━━━━━┩\n",
              "│ embedding (<span style=\"color: #0087ff; text-decoration-color: #0087ff\">Embedding</span>)           │ (<span style=\"color: #00d7ff; text-decoration-color: #00d7ff\">None</span>, <span style=\"color: #00af00; text-decoration-color: #00af00\">50</span>, <span style=\"color: #00af00; text-decoration-color: #00af00\">50</span>)         │        <span style=\"color: #00af00; text-decoration-color: #00af00\">90,900</span> │\n",
              "├─────────────────────────────────┼────────────────────────┼───────────────┤\n",
              "│ lstm (<span style=\"color: #0087ff; text-decoration-color: #0087ff\">LSTM</span>)                     │ (<span style=\"color: #00d7ff; text-decoration-color: #00d7ff\">None</span>, <span style=\"color: #00af00; text-decoration-color: #00af00\">64</span>)             │        <span style=\"color: #00af00; text-decoration-color: #00af00\">29,440</span> │\n",
              "├─────────────────────────────────┼────────────────────────┼───────────────┤\n",
              "│ dropout (<span style=\"color: #0087ff; text-decoration-color: #0087ff\">Dropout</span>)               │ (<span style=\"color: #00d7ff; text-decoration-color: #00d7ff\">None</span>, <span style=\"color: #00af00; text-decoration-color: #00af00\">64</span>)             │             <span style=\"color: #00af00; text-decoration-color: #00af00\">0</span> │\n",
              "├─────────────────────────────────┼────────────────────────┼───────────────┤\n",
              "│ dense (<span style=\"color: #0087ff; text-decoration-color: #0087ff\">Dense</span>)                   │ (<span style=\"color: #00d7ff; text-decoration-color: #00d7ff\">None</span>, <span style=\"color: #00af00; text-decoration-color: #00af00\">1</span>)              │            <span style=\"color: #00af00; text-decoration-color: #00af00\">65</span> │\n",
              "└─────────────────────────────────┴────────────────────────┴───────────────┘\n",
              "</pre>\n"
            ]
          },
          "metadata": {}
        },
        {
          "output_type": "display_data",
          "data": {
            "text/plain": [
              "\u001b[1m Total params: \u001b[0m\u001b[38;5;34m120,405\u001b[0m (470.33 KB)\n"
            ],
            "text/html": [
              "<pre style=\"white-space:pre;overflow-x:auto;line-height:normal;font-family:Menlo,'DejaVu Sans Mono',consolas,'Courier New',monospace\"><span style=\"font-weight: bold\"> Total params: </span><span style=\"color: #00af00; text-decoration-color: #00af00\">120,405</span> (470.33 KB)\n",
              "</pre>\n"
            ]
          },
          "metadata": {}
        },
        {
          "output_type": "display_data",
          "data": {
            "text/plain": [
              "\u001b[1m Trainable params: \u001b[0m\u001b[38;5;34m120,405\u001b[0m (470.33 KB)\n"
            ],
            "text/html": [
              "<pre style=\"white-space:pre;overflow-x:auto;line-height:normal;font-family:Menlo,'DejaVu Sans Mono',consolas,'Courier New',monospace\"><span style=\"font-weight: bold\"> Trainable params: </span><span style=\"color: #00af00; text-decoration-color: #00af00\">120,405</span> (470.33 KB)\n",
              "</pre>\n"
            ]
          },
          "metadata": {}
        },
        {
          "output_type": "display_data",
          "data": {
            "text/plain": [
              "\u001b[1m Non-trainable params: \u001b[0m\u001b[38;5;34m0\u001b[0m (0.00 B)\n"
            ],
            "text/html": [
              "<pre style=\"white-space:pre;overflow-x:auto;line-height:normal;font-family:Menlo,'DejaVu Sans Mono',consolas,'Courier New',monospace\"><span style=\"font-weight: bold\"> Non-trainable params: </span><span style=\"color: #00af00; text-decoration-color: #00af00\">0</span> (0.00 B)\n",
              "</pre>\n"
            ]
          },
          "metadata": {}
        },
        {
          "output_type": "stream",
          "name": "stdout",
          "text": [
            "None\n"
          ]
        }
      ]
    },
    {
      "cell_type": "markdown",
      "source": [
        "### C2. Network Architecture"
      ],
      "metadata": {
        "id": "GEEmujQVXaQW"
      }
    },
    {
      "cell_type": "markdown",
      "source": [
        "> Discuss the number of layers, the type of layers, and the total number of parameters."
      ],
      "metadata": {
        "id": "3wXVZoIsY6_Z"
      }
    },
    {
      "cell_type": "markdown",
      "source": [
        "The neural network consists of **4 layers:**\n",
        "\n",
        "1. **Embedding Layer (84,500 parameters)**\n",
        "  * Converts integer word indices into dense 50-dimensional vectors\n",
        "  * Input dimension: 1,690 (vocabulary size + 1 padding/OOV token)\n",
        "  * Output dimension: 50\n",
        "  * Input length: 50 tokens\n",
        "  * Mask zero: True (ignores padding tokens during training)\n",
        "\n",
        "2. **LSTM Layer (29,440 parameters)**\n",
        "  * 64 LSTM units\n",
        "  * Processes the sequence and captures temporal dependencies\n",
        "  * Returns only the final hidden state (`return_sequences=False)`\n",
        "\n",
        "3. **Dropout Layer (0 parameters)**\n",
        "  * Dropout rate: 50%\n",
        "  * Randomly drops connections during training to prevent overfitting, particularly given that this dataset is small\n",
        "\n",
        "4. **Dense Output Layer (65 parameters)**\n",
        "  * 1 neuron with sigmoid activation\n",
        "  * Outputs probability of positive sentiment (0 to 1)\n",
        "\n",
        "**Total Parameters: 114,005**\n",
        "\n",
        "The majority of parameters (74%) are in the embedding layer, which learns word representations. The LSTM layer accounts for 26% of parameters and is responsible for understanding sequential patterns in the text <mark>(Bourke, 2025)</mark>."
      ],
      "metadata": {
        "id": "tRCKXAs4mFTG"
      }
    },
    {
      "cell_type": "markdown",
      "source": [
        "### C3. Hyperparameters"
      ],
      "metadata": {
        "id": "pGqvqMw9XcKd"
      }
    },
    {
      "cell_type": "markdown",
      "source": [
        "> Justify the choice of hyperparameters, including each of the following elements:\n",
        "\n",
        "  * activation functions\n",
        "  * number of nodes per layer\n",
        "  * loss function\n",
        "  * optimizer\n",
        "  * stopping criteria"
      ],
      "metadata": {
        "id": "zkvfN8ekY8fZ"
      }
    },
    {
      "cell_type": "code",
      "source": [
        "from tensorflow.keras.callbacks import EarlyStopping\n",
        "\n",
        "# Compile the model\n",
        "model.compile(\n",
        "    optimizer='adam',\n",
        "    loss='binary_crossentropy',\n",
        "    metrics=['accuracy']\n",
        ")\n",
        "\n",
        "early_stopping = EarlyStopping(\n",
        "    monitor='val_loss',\n",
        "    patience=5,\n",
        "    restore_best_weights=True\n",
        ")"
      ],
      "metadata": {
        "id": "17VSXQmDuDnG"
      },
      "execution_count": 27,
      "outputs": []
    },
    {
      "cell_type": "markdown",
      "source": [
        "#### Activation Function"
      ],
      "metadata": {
        "id": "lkTXxCtypQvd"
      }
    },
    {
      "cell_type": "markdown",
      "source": [
        "For the final dense layer, I used the **sigmoid** activation function. This choice is optimal for binary classification tasks, such as determining sentiment as either positive or negative, because it outputs a probability between 0 and 1. This output effectively quantifies the likelihood of a positive review, thereby facilitating a clear distinction between positive and negative sentiments.\n",
        "\n",
        "When the output is greater than or equal to 0.5, we classify the review as positive (1); otherwise, we classify it as negative (0). This probabilistic interpretation also provides confidence scores for predictions, which can be valuable for business applications where we may want to flag uncertain predictions for human review."
      ],
      "metadata": {
        "id": "dQW-JjCppS9H"
      }
    },
    {
      "cell_type": "markdown",
      "source": [
        "#### Number of nodes per layer"
      ],
      "metadata": {
        "id": "PpuKMvzfp_43"
      }
    },
    {
      "cell_type": "markdown",
      "source": [
        "The **embedding layer** uses **50 dimensions** to represent each word as a dense vector. This choice was justified in Part **B1. Data Preparation**. In summary, 50 dimensions provide enough capacity for our vocabulary of approximately 1,690 words, while avoiding the risk of overfitting that would come with larger embeddings on a limited dataset of 990 reviews.\n",
        "\n",
        "The **LSTM layer** contains **64 units**, again providing enough capacity to capture sequence patterns and context while reducing the risk of overfitting.\n",
        "\n",
        "The **dropout layer** is set to a rate of **0.5 (50%)**. During training, it randomly sets 50% of the input units to 0 at each update. This forces the network to learn redundant representations and prevents it from becoming too reliant on any single neuron, which is a very effective technique for avoiding overfitting <mark>(Bourke, 2025)</mark>.\n",
        "\n",
        "The **output layer** has only **1 neuron**, which works along with the sigmoid activation function, to produce a single probability value representing the likelihood of positive sentiment."
      ],
      "metadata": {
        "id": "thWAjwlOqJBi"
      }
    },
    {
      "cell_type": "markdown",
      "source": [
        "#### Loss function"
      ],
      "metadata": {
        "id": "cauAbKk3qC5t"
      }
    },
    {
      "cell_type": "markdown",
      "source": [
        "I chose **binary crossentropy** as the loss function for this model. It is the standard choice for binary classification problems. It measures the difference between the predicted probability distribution and the true distribution. The loss is minimized when the model's predictions closely match the true labels, gives a higher penalty when the prediction is far from the truth, and works well with the sigmoid activation in the output layer."
      ],
      "metadata": {
        "id": "8goqkb0AqIwd"
      }
    },
    {
      "cell_type": "markdown",
      "source": [
        "#### Optimizer"
      ],
      "metadata": {
        "id": "rXxucTJXqFJN"
      }
    },
    {
      "cell_type": "markdown",
      "source": [
        "I chose to use the **Adam (Adaptive Movement Estimation)** optimizer with its default learning rate of 0.001 because it's widely used with LSTM models and combines the advantages of two other popular optimizers. The key benefit of Adam is that it automatically adapts the learning rate for each parameter individually during training and minimizes the amount of manual tuning necessary."
      ],
      "metadata": {
        "id": "LXVvrdODqIcS"
      }
    },
    {
      "cell_type": "markdown",
      "source": [
        "#### Stopping criteria"
      ],
      "metadata": {
        "id": "GuOjAOpnqGYv"
      }
    },
    {
      "cell_type": "markdown",
      "source": [
        "I implemented **early stopping** to prevent overfitting and ensure sufficient training. The early stopping callback monitors the validation loss and halts training when this metric stops improving, indicating the model has reached its optimal performance on unseen data.\n",
        "\n",
        "I configured early stopping with a `patience` of **5 epochs**, meaning training continues as long as validation loss improves, but stops if no loss improvement occurs for 5 consecutive epochs. The callback is set to `restore_best_weights=True`, ensuring we use the optimial version of the model.\n",
        "\n",
        "If the model learns early on, this early stopping criteria prevents continued use of computation power for limited-or-no gain. With a dataset of only 990 reviews total, we have to take these intentional efforts to prevent overfitting of the training data."
      ],
      "metadata": {
        "id": "JJl2HQq1qIMJ"
      }
    },
    {
      "cell_type": "markdown",
      "source": [
        "## D. Neural Network Model Evaluation"
      ],
      "metadata": {
        "id": "Q0EQRo3KXeJp"
      }
    },
    {
      "cell_type": "markdown",
      "source": [
        "> Evaluate the model's training process and its relevant outcomes by doing the following:"
      ],
      "metadata": {
        "id": "qYDNjoOwZFuM"
      }
    },
    {
      "cell_type": "markdown",
      "source": [
        "### D1. Stopping Criteria"
      ],
      "metadata": {
        "id": "GvncPTQ1Xf2m"
      }
    },
    {
      "cell_type": "markdown",
      "source": [
        "> Discuss the impact of using stopping criteria to include defining the number of epochs, including a screenshot showing the final training epoch."
      ],
      "metadata": {
        "id": "CA4060YpZHIi"
      }
    },
    {
      "cell_type": "code",
      "source": [
        "# Train the model with early stopping\n",
        "history = model.fit(\n",
        "    X_train, y_train,\n",
        "    validation_data=(X_val, y_val),\n",
        "    epochs=50,\n",
        "    batch_size=32,\n",
        "    callbacks=[early_stopping],\n",
        "    verbose=1\n",
        ")\n",
        "\n",
        "print(f\"\\nTraining stopped at epoch: {len(history.history['loss'])}\")"
      ],
      "metadata": {
        "colab": {
          "base_uri": "https://localhost:8080/"
        },
        "id": "7hJdDVpoxtoO",
        "outputId": "bbff080a-0fd6-44ac-da6a-039464262ec4"
      },
      "execution_count": 28,
      "outputs": [
        {
          "output_type": "stream",
          "name": "stdout",
          "text": [
            "Epoch 1/50\n",
            "\u001b[1m22/22\u001b[0m \u001b[32m━━━━━━━━━━━━━━━━━━━━\u001b[0m\u001b[37m\u001b[0m \u001b[1m4s\u001b[0m 45ms/step - accuracy: 0.5079 - loss: 0.6923 - val_accuracy: 0.6622 - val_loss: 0.6871\n",
            "Epoch 2/50\n",
            "\u001b[1m22/22\u001b[0m \u001b[32m━━━━━━━━━━━━━━━━━━━━\u001b[0m\u001b[37m\u001b[0m \u001b[1m1s\u001b[0m 25ms/step - accuracy: 0.8520 - loss: 0.6697 - val_accuracy: 0.7838 - val_loss: 0.6222\n",
            "Epoch 3/50\n",
            "\u001b[1m22/22\u001b[0m \u001b[32m━━━━━━━━━━━━━━━━━━━━\u001b[0m\u001b[37m\u001b[0m \u001b[1m1s\u001b[0m 25ms/step - accuracy: 0.8985 - loss: 0.4865 - val_accuracy: 0.7568 - val_loss: 0.6664\n",
            "Epoch 4/50\n",
            "\u001b[1m22/22\u001b[0m \u001b[32m━━━━━━━━━━━━━━━━━━━━\u001b[0m\u001b[37m\u001b[0m \u001b[1m1s\u001b[0m 25ms/step - accuracy: 0.9556 - loss: 0.2742 - val_accuracy: 0.7703 - val_loss: 0.7576\n",
            "Epoch 5/50\n",
            "\u001b[1m22/22\u001b[0m \u001b[32m━━━━━━━━━━━━━━━━━━━━\u001b[0m\u001b[37m\u001b[0m \u001b[1m1s\u001b[0m 24ms/step - accuracy: 0.9761 - loss: 0.1728 - val_accuracy: 0.7770 - val_loss: 0.8376\n",
            "Epoch 6/50\n",
            "\u001b[1m22/22\u001b[0m \u001b[32m━━━━━━━━━━━━━━━━━━━━\u001b[0m\u001b[37m\u001b[0m \u001b[1m1s\u001b[0m 26ms/step - accuracy: 0.9838 - loss: 0.1144 - val_accuracy: 0.7838 - val_loss: 0.8549\n",
            "Epoch 7/50\n",
            "\u001b[1m22/22\u001b[0m \u001b[32m━━━━━━━━━━━━━━━━━━━━\u001b[0m\u001b[37m\u001b[0m \u001b[1m1s\u001b[0m 25ms/step - accuracy: 0.9875 - loss: 0.0799 - val_accuracy: 0.7703 - val_loss: 1.1690\n",
            "\n",
            "Training stopped at epoch: 7\n"
          ]
        }
      ]
    },
    {
      "cell_type": "markdown",
      "source": [
        "The early stopping callback monitored validation loss and stopped training at **epoch 7** (out of a maximum of 50 epochs) because the validation loss had not improved for 5 consecutive epochs. The best validation loss of **0.6222** occurred at **epoch 2**, and although training continued in epochs 3-7, the validation loss progressively increased (0.6664, 0.7576, 0.8376, 0.8549, 1.1691), indicating the model was beginning to overfit to the training data.\n",
        "\n",
        "This is clearly demonstrated by the divergence between training and validation data. While training accuracy continued to improve dramatically from epoch 2 (83.41%) to epoch 7 (99.13%) and training loss decreased to just 0.0769, the validation accuracy plateaued around 75-78%, and validation loss actually worsened. This overfitting pattern shows the model was memorizing the training data rather than learning generalizable patterns.\n",
        "\n",
        "By stopping at epoch 7 and automatically restoring the model weights from epoch 2 (the epoch with the best validation loss of 0.6222), early stopping prevented further overfitting and saved approximately 43 epochs of unnecessary computation. Without early stopping, the model would have continued for all 50 epochs, resulting in a highly overfit model with poor generalization to unseen data. The stopping criteria successfully identified the optimal point in training and preserved the best-performing version of the model."
      ],
      "metadata": {
        "id": "ZM6PZOITyWz9"
      }
    },
    {
      "cell_type": "markdown",
      "source": [
        "### D2. Fitness"
      ],
      "metadata": {
        "id": "Gtcil_UvXhiE"
      }
    },
    {
      "cell_type": "markdown",
      "source": [
        "> Assess the fitness of the model and any actions taken to address overfitting or underfitting."
      ],
      "metadata": {
        "id": "T0llPTCPZIgm"
      }
    },
    {
      "cell_type": "code",
      "source": [
        "# Evaluate on training and validation sets\n",
        "train_loss, train_acc = model.evaluate(X_train, y_train, verbose=0)\n",
        "val_loss, val_acc = model.evaluate(X_val, y_val, verbose=0)\n",
        "\n",
        "print(\"Model Fitness Assessment:\")\n",
        "print(f\"Training accuracy: {train_acc * 100:.2f}%\")\n",
        "print(f\"Validation accuracy: {val_acc * 100:.2f}%\")\n",
        "print(f\"Difference: {abs(train_acc - val_acc) * 100:.2f}%\")\n",
        "\n",
        "print(\"\\nResult:\")\n",
        "print(\"=\" * 60)\n",
        "if abs(train_acc - val_acc) < 0.05:\n",
        "    print(\"Model is well-fitted (difference < 5%)\")\n",
        "elif train_acc > val_acc + 0.10:\n",
        "    print(\"Model may be overfitting (training accuracy much higher)\")\n",
        "else:\n",
        "    print(\"Model may be underfitting (both accuracies low)\")"
      ],
      "metadata": {
        "colab": {
          "base_uri": "https://localhost:8080/"
        },
        "id": "IjpHrQkqi3I5",
        "outputId": "ab2009bf-62c5-46a4-f34c-1b299407e1b8"
      },
      "execution_count": 29,
      "outputs": [
        {
          "output_type": "stream",
          "name": "stdout",
          "text": [
            "Model Fitness Assessment:\n",
            "Training accuracy: 89.03%\n",
            "Validation accuracy: 78.38%\n",
            "Difference: 10.65%\n",
            "\n",
            "Result:\n",
            "============================================================\n",
            "Model may be overfitting (training accuracy much higher)\n"
          ]
        }
      ]
    },
    {
      "cell_type": "markdown",
      "source": [
        "**General Assessment:**\n",
        "\n",
        "The model shows signs of **overfitting**. The training accuracy is **89.03%**, while the validation accuracy is **78.38%, resulting in a difference of **10.65**. This gap indicates that the model has learned the training data better than it performs on unseen validation data.\n",
        "\n",
        "**Actions Taken to Address Overfitting:**\n",
        "\n",
        "Several measures were taken to mitigate this overfitting, which is a common challenge with smaller datasets:\n",
        "\n",
        "1. **Dropout Layer (50%):** A dropout layer was added after the LSTM layer. This randomly deactivates 50% of the neurons during training, which prevents the model from becoming too dependent on any single neuron and encourages it to learn more robust features.\n",
        "\n",
        "2. **Early Stopping:** This was crucial. The training was stopped at epoch 7, and the model weights were restored from epoch 2, which had the best performance on the validation set. This prevented the model from continuing to train and further memorize the training data.\n",
        "\n",
        "3. **Conservative Model Size:** The architecture is relatively simple, with a 64-unit LSTM layer and 50-dimensional embeddings. This helps to limit the model's capacity and reduces the risk of overfitting.\n",
        "\n",
        "**Why Overfitting Still Persists:**\n",
        "\n",
        "The primary reason for the remaining overfitting is the **small size of the dataset**. With only 693 samples for training, it's difficult for the model to learn a truly general representation of sentiment without starting to memorize the training examples.\n",
        "\n",
        "**Conclusion:**\n",
        "\n",
        "While there is evidence of overfitting, the validation accuracy of 78.38% is still respectable and shows that the model has learned generalizable patterns for sentiment classification. The regularization techniques have successfully prevented a complete collapse in performance on the validation set."
      ],
      "metadata": {
        "id": "2vIOKy0dkVHI"
      }
    },
    {
      "cell_type": "markdown",
      "source": [
        "### D3. Training Process"
      ],
      "metadata": {
        "id": "GFfPUSzyXi-v"
      }
    },
    {
      "cell_type": "markdown",
      "source": [
        "> Provide clearly labeled visualizations of the model's training process and show the loss and accuracy metric."
      ],
      "metadata": {
        "id": "eCGOiV3NZJws"
      }
    },
    {
      "cell_type": "code",
      "source": [
        "# Plot training history\n",
        "fig, (ax1, ax2) = plt.subplots(1, 2, figsize=(14, 5))\n",
        "\n",
        "# Loss plot\n",
        "ax1.plot(history.history['loss'], label='Training Loss', color='#A6192E', linewidth=2)\n",
        "ax1.plot(history.history['val_loss'], label='Validation Loss', color='#5CB8B2', linewidth=2)\n",
        "ax1.set_xlabel('Epoch', fontsize=12, fontweight='bold')\n",
        "ax1.set_ylabel('Loss', fontsize=12, fontweight='bold')\n",
        "ax1.set_title('Model Loss Over Epochs', fontsize=14, fontweight='bold')\n",
        "ax1.legend()\n",
        "ax1.grid(alpha=0.3)\n",
        "\n",
        "# Accuracy plot\n",
        "ax2.plot(history.history['accuracy'], label='Training Accuracy', color='#A6192E', linewidth=2)\n",
        "ax2.plot(history.history['val_accuracy'], label='Validation Accuracy', color='#5CB8B2', linewidth=2)\n",
        "ax2.set_xlabel('Epoch', fontsize=12, fontweight='bold')\n",
        "ax2.set_ylabel('Accuracy', fontsize=12, fontweight='bold')\n",
        "ax2.set_title('Model Accuracy Over Epochs', fontsize=14, fontweight='bold')\n",
        "ax2.legend()\n",
        "ax2.grid(alpha=0.3)\n",
        "\n",
        "plt.tight_layout()\n",
        "plt.show()"
      ],
      "metadata": {
        "colab": {
          "base_uri": "https://localhost:8080/",
          "height": 388
        },
        "id": "-yRiPb8roKv6",
        "outputId": "828c9c05-c87f-4073-baaa-882997b96147"
      },
      "execution_count": 30,
      "outputs": [
        {
          "output_type": "display_data",
          "data": {
            "text/plain": [
              "<Figure size 1400x500 with 2 Axes>"
            ],
            "image/png": "[encoded data removed]"
          },
          "metadata": {}
        }
      ]
    },
    {
      "cell_type": "markdown",
      "source": [
        "The visualizations reveal a clear overfitting pattern throughout the training process.\n",
        "\n",
        "**Loss Metrics (left plot):** The training loss (red line) decreases steadily and smoothly from approximately 0.69 at epoch 1 to about 0.10 by epoch 8, demonstrating that the model is successfully minimizing error on the training data. However, the validation loss (teal line) measures very differently. After initially decreasing from 0.69 to approximately 0.60 at epoch 3, the validation loss becomes highly volatile and generally worsens. It spikes dramatically to around 1.10 at epoch 6 before dropping back to 0.65 at epoch 8. This erratic behavior and overall upward trend after epoch 3 indicates that improvements to the training set are not translating to better performance on unseen data.\n",
        "\n",
        "**Accuracy Metrics (right plot):** The training accuracy (red line) shows continuous improvement throughout training, starting at approximately 55% and climbing steadily to nearly 100% by epoch 8. This near-perfect training accuracy demonstrates that the model has learned to classify the training data almost flawlessly. In start contrast, the validation accuracy (teal line) plateaus early and fluctuates. After reaching about 78% at epoch 2, it hovers between 74-78% for the remaining epochs with no clear upward trend. The widening gap between the two lines visually represents the overfitting occurring in the model.\n",
        "\n",
        "**Key Observations:**\n",
        "\n",
        "The divergence between training and validation metrics becomes increasingly pronounced as training progresses. By epoch 8, there is approximately a 20-25% gap between training accuracy and validation accuracy, and the validation loss is significantly higher than the training loss. This pattern is indicative of overfitting--the model is memorizing the specific characteristics and noise in the training data rather than learning generalizable sentiment patterns.\n",
        "\n",
        "The best model performance on validation data occurred at epoch 3, where validation loss reached its minimum of approximately 0.60. This is precisely why the early stopping callback restored the weights from epoch 3 rather than using the final epoch 8 weights. Despite the model's excellent performance on training data at epoch 8, the epoch 3 weights represent the best compromise between learning from the training data and maintaining generalization to new data."
      ],
      "metadata": {
        "id": "LavpAYQgooTE"
      }
    },
    {
      "cell_type": "markdown",
      "source": [
        "### D4. Predictive Accuracy"
      ],
      "metadata": {
        "id": "8tjs7IIhXlEX"
      }
    },
    {
      "cell_type": "markdown",
      "source": [
        "> Discuss the predictive accuracy of the trained model using the chosen evaluation metric from part D3."
      ],
      "metadata": {
        "id": "RBWgs7RnZLqq"
      }
    },
    {
      "cell_type": "code",
      "source": [
        "# Evaluate on test set\n",
        "test_loss, test_acc = model.evaluate(X_test, y_test, verbose=0)\n",
        "\n",
        "print(\"Final Model Performance:\")\n",
        "print(f\"Test Accuracy: {test_acc:.4f} ({test_acc*100:.2f}%)\")\n",
        "print(f\"Test Loss: {test_loss:.4f}\")\n",
        "\n",
        "# Generate predictions\n",
        "y_pred_prob = model.predict(X_test, verbose=0)\n",
        "y_pred = (y_pred_prob > 0.5).astype(int).flatten()\n",
        "\n",
        "# Classification report\n",
        "from sklearn.metrics import classification_report, confusion_matrix\n",
        "\n",
        "print(\"\\nClassification Report:\")\n",
        "print(classification_report(y_test, y_pred, target_names=['Negative', 'Positive']))\n",
        "\n",
        "print(\"\\nConfusion Matrix:\")\n",
        "print(confusion_matrix(y_test, y_pred))"
      ],
      "metadata": {
        "colab": {
          "base_uri": "https://localhost:8080/"
        },
        "id": "wk659k9ds-TC",
        "outputId": "25121196-1322-4215-8e4c-af31ac61f3d0"
      },
      "execution_count": 31,
      "outputs": [
        {
          "output_type": "stream",
          "name": "stdout",
          "text": [
            "Final Model Performance:\n",
            "Test Accuracy: 0.8121 (81.21%)\n",
            "Test Loss: 0.5783\n",
            "\n",
            "Classification Report:\n",
            "              precision    recall  f1-score   support\n",
            "\n",
            "    Negative       0.83      0.79      0.81        75\n",
            "    Positive       0.79      0.84      0.82        74\n",
            "\n",
            "    accuracy                           0.81       149\n",
            "   macro avg       0.81      0.81      0.81       149\n",
            "weighted avg       0.81      0.81      0.81       149\n",
            "\n",
            "\n",
            "Confusion Matrix:\n",
            "[[59 16]\n",
            " [12 62]]\n"
          ]
        }
      ]
    },
    {
      "cell_type": "markdown",
      "source": [
        "**Analysis:**\n",
        "\n",
        "The model achieves a **test accuracy of 79.87%** on completely unseen data, which demonstrates reasonably good generalization capability. Notably, this test accuracy is actually higher than the validation accuracy (74.32%), which is an encouraging sign that the model performs consistently on new data and that the early stopping mechanism successfully created a well-generalizing version of the model from epoch 3.\n",
        "\n",
        "The classification report shows:\n",
        "\n",
        "* **Precision:** 81% for Positive and 79% for Negative (when the model makes a prediction, it makes correct positive predictions 81% of the time and correct negative predictions 79% of the time).\n",
        "* **Recall:** 78% for Positive and 81% for Negative (when the model makes a prediction, it correctly identifies 78% of the Positive reviews and 81% of the Negative reviews).\n",
        "* **F1-Score:** 79%/80% (balanced performance)\n",
        "\n",
        "The confusion matrix shows balanced performance with 61/75 negative reviews and 58/74 positive reviews correctly classified. The 16 false positives and 14 false negatives indicate the model doesn't systematically favor one class.\n",
        "\n",
        "**Conclusion:** The model successfully answers the research question \"Can a neural network be trained to accurately classify sentiment in Amazon product reviews?\" with 80% accuracy, which is reasonable for sentiment analysis on short product reviews."
      ],
      "metadata": {
        "id": "nQlb2NwKthED"
      }
    },
    {
      "cell_type": "markdown",
      "source": [
        "### D5. Ethical Standards Compliance"
      ],
      "metadata": {
        "id": "VQpGd1E-Xmus"
      }
    },
    {
      "cell_type": "markdown",
      "source": [
        "> Explain how the analysis complies with artificial intelligence (AI) global ethical standards and mitigates bias."
      ],
      "metadata": {
        "id": "qOObi3qeZM_8"
      }
    },
    {
      "cell_type": "markdown",
      "source": [
        "This sentiment analysis project complies with AI ethical standards and mitigates bias through several carefully implemented measures across data handling, model design, and deployment considerations.\n",
        "\n",
        "**Fairness and Non-Discrimination:**\n",
        "\n",
        "The model is trained on balanced data with equal distribution of positive and negative reviews (50% each), preventing systematic bias toward either class. The dataset contains only review text without any demographic data or metadata, ensuring the model classifies sentiment based solely on content rather than reviewer characteristics.\n",
        "\n",
        "**Transparency and Accountability:**\n",
        "\n",
        "All preprocessing steps, model architecture, and hyperparameters are thoroughly documented with code and justifications. Training visualizations and evaluation metrics transparently show both performance and limitations. The analysis explicitly acknowledges significant overfitting (training accuracy vs validation accuracy) and the 20% test error rate, enabling stakeholders to make informed deployment decisions.\n",
        "\n",
        "\n",
        "**Data Privacy and Bias Mitigation Strategies:**\n",
        "\n",
        "The dataset contains only publicly available review text without personally identifying information. Technical strategies specific mitigate bias: stratified sampling maintains proportional representation across all data splits, the single product category (cell phone accessories) avoids category bias, and stop words are retained because terms like \"not\" and \"very\" are crucial for sentiment understanding.\n",
        "\n",
        "**Responsible Use:**\n",
        "\n",
        "The model serves a legitimate business purpose--understanding customer sentiment to improve products and services. However, given the 20% error rate, human oversight is essential for important decisions. The model should function as a decision-support tool that prioritizes reviews for human attention rather than operating autonomously. Low-confidence predictions require manual review by analysts who apply contextual understanding and business judgment."
      ],
      "metadata": {
        "id": "a0eMdqMWwJRm"
      }
    },
    {
      "cell_type": "markdown",
      "source": [
        "## E. Code"
      ],
      "metadata": {
        "id": "SODusEBeXpq3"
      }
    },
    {
      "cell_type": "markdown",
      "source": [
        "> Provide the code you used to save the trained model within the neural network."
      ],
      "metadata": {
        "id": "NsIupuSXZOW-"
      }
    },
    {
      "cell_type": "code",
      "source": [
        "# Save the trained model\n",
        "model.save('sentiment_model.keras')"
      ],
      "metadata": {
        "id": "whtKoweN1gqh"
      },
      "execution_count": 32,
      "outputs": []
    },
    {
      "cell_type": "markdown",
      "source": [
        "This code saves the trained LSTM model in the keras format, containing the full model architecture, weights, and optimizer state."
      ],
      "metadata": {
        "id": "2WrIR0241r4G"
      }
    },
    {
      "cell_type": "markdown",
      "source": [
        "## F. Functionality"
      ],
      "metadata": {
        "id": "Tp1BhWM3Xrwq"
      }
    },
    {
      "cell_type": "markdown",
      "source": [
        "> Discuss the functionality of your model, including the impact of your choice of network architecture."
      ],
      "metadata": {
        "id": "hcv8uZc0ZQCF"
      }
    },
    {
      "cell_type": "markdown",
      "source": [
        "The LSTM-based neural network demonstrates effective functionality for classifying sentiment in Amazon product reviews, achieving 78.87% accuracy on unseen test data.\n",
        "\n",
        "**Core Functional Capabilities:**\n",
        "\n",
        "The model successfully performs binary sentiment classification, distinguishing between positive and negative product reviews with balanced performance across both classes (appoximately 80% precision and recall). Through embedding and padding layers, the model flexibly handles reviews of varying lengths up to 50 tokens, making it practical for real-world deployment. The LSTM architecture processes text sequentially, capturing contextual relationships that are crucial for sentiment analysis. For example, it correctly interprets phrases like \"not good\" as negative sentiment by understanding how the word \"not\" modifies the meaning of \"good.\"\n",
        "\n",
        "**Architectural Impact:**\n",
        "\n",
        "The choice of LSTM architecture significantly influences the model's capabilities. The 64-unit LSTM layer maintains internal memory that tracks information across word sequences, enabling recognition of sentiment patterns that depend on word order and context.\n",
        "\n",
        "The 50-dimensional embedding layer transforms words into dense vector representations, allowing the model to learn that semantically similar words like \"excellent\" and \"great\" share similar meanings in positive sentiment contexts. The 50% dropout layer provides critical regularization, preventing more severe overfitting while maintaining reasonable generalization to new reviews.\n",
        "\n",
        "The sigmoid output layer produces interpretable probability scores (0 to 1) rather than simple binary classifications, allowing organizations to set custom thresholds and flag uncertain predictions for human review.\n",
        "\n",
        "**Performance Trade-offs:**\n",
        "\n",
        "The architecture balances model complexity with dataset size. With only 693 training samples, a larger architecture would memorize training data, while a simpler model would lack capacity to capture nuanced language patterns. The design I chose achieves 80% accuracy while maintaining computational efficiency."
      ],
      "metadata": {
        "id": "uyyTNjCW23BL"
      }
    },
    {
      "cell_type": "markdown",
      "source": [
        "## G. Recommendations"
      ],
      "metadata": {
        "id": "YTc92xwVXtR2"
      }
    },
    {
      "cell_type": "markdown",
      "source": [
        "> Recommend a course of action based on your results as they relate to the research question."
      ],
      "metadata": {
        "id": "oushAu1oZRco"
      }
    },
    {
      "cell_type": "markdown",
      "source": [
        "Based on the model's 79.87% accuracy in classifying sentiment in Amazon product reviews, I recommend the following course of action:\n",
        "\n",
        "1. **Deploy for automated sentiment monitoring:** The model is sufficiently accurate to serve as a sentiment screening tool for Amazon product reviews. With approximately 80% accuracy and balanced precision/recall across both sentiment classes, it can effectively flag negative reviews for immediate attention, identify trends in customer satisfaction over time, and prioritize products receiving predominantly negative feedback for quality improvement initiatives.\n",
        "\n",
        "2. **Implement human-in-the-loop review:** The 20% error rate (30 misclassified reviews out of 149 in testing) means the model should function as a decision-support tool rather than an autonomous classifier. Human reviewers should validate high-stakes decisions such as product recalls or major design changes. Additionally, reviews with low confidence scores (predictions near 0.5) should be manually reviewed by analysts who can apply contextual understanding and business judgment that the model may miss.\n",
        "\n",
        "3. **Address overfitting through data expansion:** The significant gap between training accuracy (93.07%) and validation accuracy (74.32%) indicates overfitting due to the small dataset size of 693 training samples. To improve generalization, Amazon should collect additional labeled reviews to expand the training set. A datset of 5,000-10,000 reviews would likely reduce overfitting and improve validation performance.\n",
        "\n",
        "4. **Continuous monitoring and improcement:** Deploy the model with ongoing performance monitoring to detect concept drift (changes in how customers express sentiment over time) or emerging biases. Periodically retrain the model with newly collected reviews to maintain accuracy as language patterns and product types evolve. It's worth experimenting with different architectures or ensemble methods that combine multiple models to potentially exceed 80% accuracy.\n",
        "\n",
        "**Conclusion:** The model successfully demonstrates that neural networks can classify sentiment in Amazon product reviews with reasonable accuracy, directly answering the research question affirmatively. It's ready for deployment as a decision-support tool that automates initial sentiment screening while maintaining appropriate human oversight. The 80% accuracy provides substantial value by reducing manual review workload, but the remaining limitations underscore the importance of combining automated processing with human judgment for optimal customer feedback analysis."
      ],
      "metadata": {
        "id": "vepIlNYN5y51"
      }
    },
    {
      "cell_type": "markdown",
      "source": [
        "## H. Reporting"
      ],
      "metadata": {
        "id": "w1NyxmdpXvKP"
      }
    },
    {
      "cell_type": "markdown",
      "source": [
        "> Submit a copy of your code and output in a PDF or HTML format."
      ],
      "metadata": {
        "id": "uBk3dAORZTDk"
      }
    },
    {
      "cell_type": "code",
      "source": [
        "# Convert notebook to HTML\n",
        "!jupyter nbconvert --to html d604_task_2.ipynb"
      ],
      "metadata": {
        "id": "PqtYBIGnW_Wi",
        "colab": {
          "base_uri": "https://localhost:8080/"
        },
        "outputId": "24b1f610-7fe9-479e-bfd7-73a8af2369aa"
      },
      "execution_count": 33,
      "outputs": [
        {
          "output_type": "stream",
          "name": "stdout",
          "text": [
            "[NbConvertApp] Converting notebook d604_task_2.ipynb to html\n",
            "[NbConvertApp] WARNING | Alternative text is missing on 3 image(s).\n",
            "[NbConvertApp] Writing 648827 bytes to d604_task_2.html\n"
          ]
        }
      ]
    },
    {
      "cell_type": "markdown",
      "source": [
        "## I. Sources for Third-Party Code"
      ],
      "metadata": {
        "id": "EAH5x1UvX0Ag"
      }
    },
    {
      "cell_type": "markdown",
      "source": [
        "> Submit a list of all the specific web sources you used to acquire segments of third-party code to support the application."
      ],
      "metadata": {
        "id": "4s_Gv5wQZUVt"
      }
    },
    {
      "cell_type": "markdown",
      "source": [
        "* [Python RegEx 're' module](https://docs.python.org/3/library/re.html)\n",
        "* [Python String module](https://docs.python.org/3/library/string.html)\n",
        "* WGU Course Materials"
      ],
      "metadata": {
        "id": "ZQJWeVv-O7ux"
      }
    },
    {
      "cell_type": "markdown",
      "source": [
        "## J. Sources"
      ],
      "metadata": {
        "id": "x37fOYtSX2On"
      }
    },
    {
      "cell_type": "markdown",
      "source": [
        "> Acknowledge sources, using in-text citations and references, for content that is quoted, paraphrased, or summarized."
      ],
      "metadata": {
        "id": "1yVmJSpbX6_K"
      }
    },
    {
      "cell_type": "markdown",
      "source": [
        "* Ahmad, I., Phd (2023). 50 Algorithms Every Programmer Should Know (2nd ed.). Packt Publishing.\n",
        "* Audevart, A., Banachewicz, K., & Massaron, L. (2021). Machine Learning Using TensorFlow Cookbook. Packt Publishing.\n",
        "* Bourke, D. (2025). TensorFlow for Deep Learning Bootcamp: Zero to Mastery. Zero to Mastery. https://zerotomastery.io/courses/learn-tensorflow/\n",
        "* WGU Course Materials"
      ],
      "metadata": {
        "id": "iJn9TIMdE1r-"
      }
    },
    {
      "cell_type": "code",
      "source": [],
      "metadata": {
        "id": "oSaDgniszNmB"
      },
      "execution_count": 33,
      "outputs": []
    }
  ]
}