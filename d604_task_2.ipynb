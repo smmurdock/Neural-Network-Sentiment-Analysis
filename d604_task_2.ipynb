{
  "nbformat": 4,
  "nbformat_minor": 0,
  "metadata": {
    "colab": {
      "provenance": [],
      "mount_file_id": "1i7I5u-GuRHNUH_f65Z3zV9QwJsri6VqR",
      "authorship_tag": "ABX9TyORDZlEzRlKRZlODI0lySef",
      "include_colab_link": true
    },
    "kernelspec": {
      "name": "python3",
      "display_name": "Python 3"
    },
    "language_info": {
      "name": "python"
    }
  },
  "cells": [
    {
      "cell_type": "markdown",
      "metadata": {
        "id": "view-in-github",
        "colab_type": "text"
      },
      "source": [
        "<a href=\"https://colab.research.google.com/github/smmurdock/Neural-Network-Sentiment-Analysis/blob/main/d604_task_2.ipynb\" target=\"_parent\"><img src=\"https://colab.research.google.com/assets/colab-badge.svg\" alt=\"Open In Colab\"/></a>"
      ]
    },
    {
      "cell_type": "markdown",
      "source": [
        "# D604 Task 2 - Sentiment Analysis Using Neural Networks"
      ],
      "metadata": {
        "id": "wvGxAFBIW13x"
      }
    },
    {
      "cell_type": "code",
      "execution_count": 32,
      "metadata": {
        "colab": {
          "base_uri": "https://localhost:8080/"
        },
        "id": "YBu6PaAOVL1h",
        "outputId": "a8e9ac49-1ff2-4252-8e33-189429ce2a25"
      },
      "outputs": [
        {
          "output_type": "stream",
          "name": "stdout",
          "text": [
            "/content/drive/MyDrive/1 Projects/_WGU | MS-DataAnalytics-DataScience/WGU | D604 - ADVANCED ANALYTICS/Task 2 - Sentiment Analysis Using Neural Networks\n"
          ]
        }
      ],
      "source": [
        "cd /content/drive/MyDrive/1 Projects/_WGU | MS-DataAnalytics-DataScience/WGU | D604 - ADVANCED ANALYTICS/Task 2 - Sentiment Analysis Using Neural Networks"
      ]
    },
    {
      "cell_type": "markdown",
      "source": [
        "## A. Research Purpose"
      ],
      "metadata": {
        "id": "XYnqYu1IW8ZQ"
      }
    },
    {
      "cell_type": "markdown",
      "source": [
        "> Describe the purpose of this data analysis by doing the following:"
      ],
      "metadata": {
        "id": "n8ek1mScXAuI"
      }
    },
    {
      "cell_type": "markdown",
      "source": [
        "### A1. Research Question"
      ],
      "metadata": {
        "id": "1slqPNrqXCHU"
      }
    },
    {
      "cell_type": "markdown",
      "source": [
        "> Summarize one research question that you will answer using a neural network model and NLP techniques. Be sure the research question is relevant to a real-world organizational situation and sentiment analysis captured in your chosen dataset or datasets.\n",
        "\n",
        "\n",
        "  Note: If you choose to use more than one dataset, you must concatenate them into one dataset for parts II and III."
      ],
      "metadata": {
        "id": "KkehER61YRzV"
      }
    },
    {
      "cell_type": "markdown",
      "source": [
        "**Research Question:** Can a neural network be trained to accurately classify sentiment in customer product reviews from Amazon as either positive or negative?\n",
        "\n",
        "This question is directly relevant to a real-world organizational situation. For a company like Amazon or any third-party seller on its platform, manually sifting through thousands of customer reviews to gauge public opinion is impractical based on the sheer volume of Amazon's product catalog. A system that can accurately classify sentiment allows an organization to quickly monitor customer feedback at scale. This enables them to identify popular product features, detect widespread product defects, determine if a product is likely to be returned, and track shifts in customer satisfaction over time, leading to faster product improvements and better customer service."
      ],
      "metadata": {
        "id": "DYV5t1bIiYSs"
      }
    },
    {
      "cell_type": "markdown",
      "source": [
        "### A2. Objectives or Goals"
      ],
      "metadata": {
        "id": "suidsROMXFZj"
      }
    },
    {
      "cell_type": "markdown",
      "source": [
        "> Define the objectives or goals of the data analysis. Be sure each objective or goal is reasonable within the scope of the research question and is represented in the available data."
      ],
      "metadata": {
        "id": "oI94y0muYVGi"
      }
    },
    {
      "cell_type": "markdown",
      "source": [
        "The primary goals of this data analysis are to design, build, and evaluate a neural network for sentiment classification. The specific objectives are as follows:\n",
        "\n",
        "* **Data Preprocessing:** To clean and prepare the raw text data from the Amazon reviews dataset for modeling.\n",
        "\n",
        "* **Model Development:** To build and train a suitable neural network. This analysis will use an LSTM-based architecture, which is effective for learning from sequential data like text. The goal is to train the model to recognize patterns and contextual cues in word usage that indicate positive or negative sentiment.\n",
        "\n",
        "* **Model Evaluation:** To assess the performance of the trained model on an unseen test dataset. The objective is to quantify its predictive accuracy using key classification metrics. This evaluation will directly answer how effectively the model can classify new, unseen review data."
      ],
      "metadata": {
        "id": "lGIsFmmzfopp"
      }
    },
    {
      "cell_type": "markdown",
      "source": [
        "### A3. Prescribed Network"
      ],
      "metadata": {
        "id": "Wdznno85XHt6"
      }
    },
    {
      "cell_type": "markdown",
      "source": [
        "> Identify an industry-relevant type of neural network capable of performing a text classification task that can be trained to produce useful predictions on text sequences on the selected dataset."
      ],
      "metadata": {
        "id": "6G2EyKjQYWkJ"
      }
    },
    {
      "cell_type": "markdown",
      "source": [
        "An appropriate and industry-relevant neural network for this text sentiment classification tasks is the **Long Short-Term Memory (LSTM)** neural network.\n",
        "\n",
        "LSTMs are a type of Recurrent Neural Network (RNN) specifically designed to handle and learn from sequential data like text, where the order of text matters. Unlock standard networks, LSTMs have internal memory cells that can maintain information over long sequences. This capability is crucial for natural language processing because the meaning of a word often depends on its context. An LSTM can capture these dependencies, allowing it to understand nuances in language that are critical for accurately determining sentiment. This makes LSTMs a powerful and widely used tool for sentiment analysis in real-world applications."
      ],
      "metadata": {
        "id": "E_zLGej_g9JZ"
      }
    },
    {
      "cell_type": "markdown",
      "source": [
        "## B. Data Preparation"
      ],
      "metadata": {
        "id": "69M-msJNXJng"
      }
    },
    {
      "cell_type": "markdown",
      "source": [
        "> Summarize the data cleaning process by doing the following:"
      ],
      "metadata": {
        "id": "JB6PS55jYYJV"
      }
    },
    {
      "cell_type": "markdown",
      "source": [
        "### B1. Data Exploration"
      ],
      "metadata": {
        "id": "cdydIL9vXLRH"
      }
    },
    {
      "cell_type": "markdown",
      "source": [
        "> Perform exploratory data analysis on the chosen dataset, and include an explanation of each of the following elements:\n",
        "\n",
        "  * presence of unusual characters (e.g., emojis, non-English characters)\n",
        "  * vocabulary size\n",
        "  * word embedding length\n",
        "  * statistical justification for the chosen maximum sequence length"
      ],
      "metadata": {
        "id": "UnAYjwVIYbC1"
      }
    },
    {
      "cell_type": "code",
      "source": [
        "# Load libraries\n",
        "import pandas as pd\n",
        "import numpy as np\n",
        "import matplotlib.pyplot as plt\n",
        "import seaborn as sns\n",
        "\n",
        "# Set the display options for better readability\n",
        "pd.set_option('display.max_colwidth', 100)"
      ],
      "metadata": {
        "id": "7Mh4B7Oci_91"
      },
      "execution_count": 64,
      "outputs": []
    },
    {
      "cell_type": "markdown",
      "source": [
        "The code cell above loads in the basic libraries needed to get started and sets the DataFrame's maximum column width to '100' for better readability."
      ],
      "metadata": {
        "id": "6i1igtEK_e0W"
      }
    },
    {
      "cell_type": "code",
      "source": [
        "# Load the data\n",
        "df = pd.read_csv('amazon_cells_labelled.txt',\n",
        "                 sep='\\t',\n",
        "                 header=None,\n",
        "                 names=['review', 'sentiment'])"
      ],
      "metadata": {
        "id": "bG467cdajKpI"
      },
      "execution_count": 65,
      "outputs": []
    },
    {
      "cell_type": "markdown",
      "source": [
        "The code cell above loads in the the text file as a tab-delimited file with no headers identifying what the observations mean. Because of this, I looked at the data ahead of time and determined appropriate names to act as column headers."
      ],
      "metadata": {
        "id": "susmnqTq_rjc"
      }
    },
    {
      "cell_type": "code",
      "source": [
        "# View the first few rows\n",
        "print(\"First 5 rows:\")\n",
        "df.head()"
      ],
      "metadata": {
        "colab": {
          "base_uri": "https://localhost:8080/",
          "height": 224
        },
        "id": "foaTZ88t4oQP",
        "outputId": "b26d097f-2f65-4053-aaf9-17763f2962f4"
      },
      "execution_count": 66,
      "outputs": [
        {
          "output_type": "stream",
          "name": "stdout",
          "text": [
            "First 5 rows:\n"
          ]
        },
        {
          "output_type": "execute_result",
          "data": {
            "text/plain": [
              "                                                                               review  \\\n",
              "0  So there is no way for me to plug it in here in the US unless I go by a converter.   \n",
              "1                                                         Good case, Excellent value.   \n",
              "2                                                              Great for the jawbone.   \n",
              "3     Tied to charger for conversations lasting more than 45 minutes.MAJOR PROBLEMS!!   \n",
              "4                                                                   The mic is great.   \n",
              "\n",
              "   sentiment  \n",
              "0          0  \n",
              "1          1  \n",
              "2          1  \n",
              "3          0  \n",
              "4          1  "
            ],
            "text/html": [
              "\n",
              "  <div id=\"df-2c71616d-da00-4a0c-b85c-bfa34ce8c544\" class=\"colab-df-container\">\n",
              "    <div>\n",
              "<style scoped>\n",
              "    .dataframe tbody tr th:only-of-type {\n",
              "        vertical-align: middle;\n",
              "    }\n",
              "\n",
              "    .dataframe tbody tr th {\n",
              "        vertical-align: top;\n",
              "    }\n",
              "\n",
              "    .dataframe thead th {\n",
              "        text-align: right;\n",
              "    }\n",
              "</style>\n",
              "<table border=\"1\" class=\"dataframe\">\n",
              "  <thead>\n",
              "    <tr style=\"text-align: right;\">\n",
              "      <th></th>\n",
              "      <th>review</th>\n",
              "      <th>sentiment</th>\n",
              "    </tr>\n",
              "  </thead>\n",
              "  <tbody>\n",
              "    <tr>\n",
              "      <th>0</th>\n",
              "      <td>So there is no way for me to plug it in here in the US unless I go by a converter.</td>\n",
              "      <td>0</td>\n",
              "    </tr>\n",
              "    <tr>\n",
              "      <th>1</th>\n",
              "      <td>Good case, Excellent value.</td>\n",
              "      <td>1</td>\n",
              "    </tr>\n",
              "    <tr>\n",
              "      <th>2</th>\n",
              "      <td>Great for the jawbone.</td>\n",
              "      <td>1</td>\n",
              "    </tr>\n",
              "    <tr>\n",
              "      <th>3</th>\n",
              "      <td>Tied to charger for conversations lasting more than 45 minutes.MAJOR PROBLEMS!!</td>\n",
              "      <td>0</td>\n",
              "    </tr>\n",
              "    <tr>\n",
              "      <th>4</th>\n",
              "      <td>The mic is great.</td>\n",
              "      <td>1</td>\n",
              "    </tr>\n",
              "  </tbody>\n",
              "</table>\n",
              "</div>\n",
              "    <div class=\"colab-df-buttons\">\n",
              "\n",
              "  <div class=\"colab-df-container\">\n",
              "    <button class=\"colab-df-convert\" onclick=\"convertToInteractive('df-2c71616d-da00-4a0c-b85c-bfa34ce8c544')\"\n",
              "            title=\"Convert this dataframe to an interactive table.\"\n",
              "            style=\"display:none;\">\n",
              "\n",
              "  <svg xmlns=\"http://www.w3.org/2000/svg\" height=\"24px\" viewBox=\"0 -960 960 960\">\n",
              "    <path d=\"M120-120v-720h720v720H120Zm60-500h600v-160H180v160Zm220 220h160v-160H400v160Zm0 220h160v-160H400v160ZM180-400h160v-160H180v160Zm440 0h160v-160H620v160ZM180-180h160v-160H180v160Zm440 0h160v-160H620v160Z\"/>\n",
              "  </svg>\n",
              "    </button>\n",
              "\n",
              "  <style>\n",
              "    .colab-df-container {\n",
              "      display:flex;\n",
              "      gap: 12px;\n",
              "    }\n",
              "\n",
              "    .colab-df-convert {\n",
              "      background-color: #E8F0FE;\n",
              "      border: none;\n",
              "      border-radius: 50%;\n",
              "      cursor: pointer;\n",
              "      display: none;\n",
              "      fill: #1967D2;\n",
              "      height: 32px;\n",
              "      padding: 0 0 0 0;\n",
              "      width: 32px;\n",
              "    }\n",
              "\n",
              "    .colab-df-convert:hover {\n",
              "      background-color: #E2EBFA;\n",
              "      box-shadow: 0px 1px 2px rgba(60, 64, 67, 0.3), 0px 1px 3px 1px rgba(60, 64, 67, 0.15);\n",
              "      fill: #174EA6;\n",
              "    }\n",
              "\n",
              "    .colab-df-buttons div {\n",
              "      margin-bottom: 4px;\n",
              "    }\n",
              "\n",
              "    [theme=dark] .colab-df-convert {\n",
              "      background-color: #3B4455;\n",
              "      fill: #D2E3FC;\n",
              "    }\n",
              "\n",
              "    [theme=dark] .colab-df-convert:hover {\n",
              "      background-color: #434B5C;\n",
              "      box-shadow: 0px 1px 3px 1px rgba(0, 0, 0, 0.15);\n",
              "      filter: drop-shadow(0px 1px 2px rgba(0, 0, 0, 0.3));\n",
              "      fill: #FFFFFF;\n",
              "    }\n",
              "  </style>\n",
              "\n",
              "    <script>\n",
              "      const buttonEl =\n",
              "        document.querySelector('#df-2c71616d-da00-4a0c-b85c-bfa34ce8c544 button.colab-df-convert');\n",
              "      buttonEl.style.display =\n",
              "        google.colab.kernel.accessAllowed ? 'block' : 'none';\n",
              "\n",
              "      async function convertToInteractive(key) {\n",
              "        const element = document.querySelector('#df-2c71616d-da00-4a0c-b85c-bfa34ce8c544');\n",
              "        const dataTable =\n",
              "          await google.colab.kernel.invokeFunction('convertToInteractive',\n",
              "                                                    [key], {});\n",
              "        if (!dataTable) return;\n",
              "\n",
              "        const docLinkHtml = 'Like what you see? Visit the ' +\n",
              "          '<a target=\"_blank\" href=https://colab.research.google.com/notebooks/data_table.ipynb>data table notebook</a>'\n",
              "          + ' to learn more about interactive tables.';\n",
              "        element.innerHTML = '';\n",
              "        dataTable['output_type'] = 'display_data';\n",
              "        await google.colab.output.renderOutput(dataTable, element);\n",
              "        const docLink = document.createElement('div');\n",
              "        docLink.innerHTML = docLinkHtml;\n",
              "        element.appendChild(docLink);\n",
              "      }\n",
              "    </script>\n",
              "  </div>\n",
              "\n",
              "\n",
              "    <div id=\"df-3bbccbbf-91b4-4406-9904-92c56a017d8a\">\n",
              "      <button class=\"colab-df-quickchart\" onclick=\"quickchart('df-3bbccbbf-91b4-4406-9904-92c56a017d8a')\"\n",
              "                title=\"Suggest charts\"\n",
              "                style=\"display:none;\">\n",
              "\n",
              "<svg xmlns=\"http://www.w3.org/2000/svg\" height=\"24px\"viewBox=\"0 0 24 24\"\n",
              "     width=\"24px\">\n",
              "    <g>\n",
              "        <path d=\"M19 3H5c-1.1 0-2 .9-2 2v14c0 1.1.9 2 2 2h14c1.1 0 2-.9 2-2V5c0-1.1-.9-2-2-2zM9 17H7v-7h2v7zm4 0h-2V7h2v10zm4 0h-2v-4h2v4z\"/>\n",
              "    </g>\n",
              "</svg>\n",
              "      </button>\n",
              "\n",
              "<style>\n",
              "  .colab-df-quickchart {\n",
              "      --bg-color: #E8F0FE;\n",
              "      --fill-color: #1967D2;\n",
              "      --hover-bg-color: #E2EBFA;\n",
              "      --hover-fill-color: #174EA6;\n",
              "      --disabled-fill-color: #AAA;\n",
              "      --disabled-bg-color: #DDD;\n",
              "  }\n",
              "\n",
              "  [theme=dark] .colab-df-quickchart {\n",
              "      --bg-color: #3B4455;\n",
              "      --fill-color: #D2E3FC;\n",
              "      --hover-bg-color: #434B5C;\n",
              "      --hover-fill-color: #FFFFFF;\n",
              "      --disabled-bg-color: #3B4455;\n",
              "      --disabled-fill-color: #666;\n",
              "  }\n",
              "\n",
              "  .colab-df-quickchart {\n",
              "    background-color: var(--bg-color);\n",
              "    border: none;\n",
              "    border-radius: 50%;\n",
              "    cursor: pointer;\n",
              "    display: none;\n",
              "    fill: var(--fill-color);\n",
              "    height: 32px;\n",
              "    padding: 0;\n",
              "    width: 32px;\n",
              "  }\n",
              "\n",
              "  .colab-df-quickchart:hover {\n",
              "    background-color: var(--hover-bg-color);\n",
              "    box-shadow: 0 1px 2px rgba(60, 64, 67, 0.3), 0 1px 3px 1px rgba(60, 64, 67, 0.15);\n",
              "    fill: var(--button-hover-fill-color);\n",
              "  }\n",
              "\n",
              "  .colab-df-quickchart-complete:disabled,\n",
              "  .colab-df-quickchart-complete:disabled:hover {\n",
              "    background-color: var(--disabled-bg-color);\n",
              "    fill: var(--disabled-fill-color);\n",
              "    box-shadow: none;\n",
              "  }\n",
              "\n",
              "  .colab-df-spinner {\n",
              "    border: 2px solid var(--fill-color);\n",
              "    border-color: transparent;\n",
              "    border-bottom-color: var(--fill-color);\n",
              "    animation:\n",
              "      spin 1s steps(1) infinite;\n",
              "  }\n",
              "\n",
              "  @keyframes spin {\n",
              "    0% {\n",
              "      border-color: transparent;\n",
              "      border-bottom-color: var(--fill-color);\n",
              "      border-left-color: var(--fill-color);\n",
              "    }\n",
              "    20% {\n",
              "      border-color: transparent;\n",
              "      border-left-color: var(--fill-color);\n",
              "      border-top-color: var(--fill-color);\n",
              "    }\n",
              "    30% {\n",
              "      border-color: transparent;\n",
              "      border-left-color: var(--fill-color);\n",
              "      border-top-color: var(--fill-color);\n",
              "      border-right-color: var(--fill-color);\n",
              "    }\n",
              "    40% {\n",
              "      border-color: transparent;\n",
              "      border-right-color: var(--fill-color);\n",
              "      border-top-color: var(--fill-color);\n",
              "    }\n",
              "    60% {\n",
              "      border-color: transparent;\n",
              "      border-right-color: var(--fill-color);\n",
              "    }\n",
              "    80% {\n",
              "      border-color: transparent;\n",
              "      border-right-color: var(--fill-color);\n",
              "      border-bottom-color: var(--fill-color);\n",
              "    }\n",
              "    90% {\n",
              "      border-color: transparent;\n",
              "      border-bottom-color: var(--fill-color);\n",
              "    }\n",
              "  }\n",
              "</style>\n",
              "\n",
              "      <script>\n",
              "        async function quickchart(key) {\n",
              "          const quickchartButtonEl =\n",
              "            document.querySelector('#' + key + ' button');\n",
              "          quickchartButtonEl.disabled = true;  // To prevent multiple clicks.\n",
              "          quickchartButtonEl.classList.add('colab-df-spinner');\n",
              "          try {\n",
              "            const charts = await google.colab.kernel.invokeFunction(\n",
              "                'suggestCharts', [key], {});\n",
              "          } catch (error) {\n",
              "            console.error('Error during call to suggestCharts:', error);\n",
              "          }\n",
              "          quickchartButtonEl.classList.remove('colab-df-spinner');\n",
              "          quickchartButtonEl.classList.add('colab-df-quickchart-complete');\n",
              "        }\n",
              "        (() => {\n",
              "          let quickchartButtonEl =\n",
              "            document.querySelector('#df-3bbccbbf-91b4-4406-9904-92c56a017d8a button');\n",
              "          quickchartButtonEl.style.display =\n",
              "            google.colab.kernel.accessAllowed ? 'block' : 'none';\n",
              "        })();\n",
              "      </script>\n",
              "    </div>\n",
              "\n",
              "    </div>\n",
              "  </div>\n"
            ],
            "application/vnd.google.colaboratory.intrinsic+json": {
              "type": "dataframe",
              "variable_name": "df",
              "summary": "{\n  \"name\": \"df\",\n  \"rows\": 1000,\n  \"fields\": [\n    {\n      \"column\": \"review\",\n      \"properties\": {\n        \"dtype\": \"string\",\n        \"num_unique_values\": 990,\n        \"samples\": [\n          \"The range is very decent, I've been able to roam around my house with the phone in the living room with no reception/sound quality issues.\",\n          \"The reception is excellent!\",\n          \"I would have given no star if I was able.\"\n        ],\n        \"semantic_type\": \"\",\n        \"description\": \"\"\n      }\n    },\n    {\n      \"column\": \"sentiment\",\n      \"properties\": {\n        \"dtype\": \"number\",\n        \"std\": 0,\n        \"min\": 0,\n        \"max\": 1,\n        \"num_unique_values\": 2,\n        \"samples\": [\n          1,\n          0\n        ],\n        \"semantic_type\": \"\",\n        \"description\": \"\"\n      }\n    }\n  ]\n}"
            }
          },
          "metadata": {},
          "execution_count": 66
        }
      ]
    },
    {
      "cell_type": "markdown",
      "source": [
        "The code cell above reads in the first five rows and gives a glimpse of how the data is formatted and what issues may present themselves. We can already seem some issues like use of punctuation, differences in casing, and missing spaces in between sentences."
      ],
      "metadata": {
        "id": "omMdHu2N_4JK"
      }
    },
    {
      "cell_type": "code",
      "source": [
        "# Check shape\n",
        "print(f\"Dataset shape: {df.shape}\")\n",
        "print(f\"Total reviews: {df.shape[0]}\")\n",
        "print(f\"Total columns: {df.shape[1]}\")"
      ],
      "metadata": {
        "colab": {
          "base_uri": "https://localhost:8080/"
        },
        "id": "-ybJodLQ46RD",
        "outputId": "25ae7489-c0f8-4504-a275-cf0921149772"
      },
      "execution_count": 67,
      "outputs": [
        {
          "output_type": "stream",
          "name": "stdout",
          "text": [
            "Dataset shape: (1000, 2)\n",
            "Total reviews: 1000\n",
            "Total columns: 2\n"
          ]
        }
      ]
    },
    {
      "cell_type": "markdown",
      "source": [
        "The code cell above uses Pandas DataFrame properties to check for how many rows and columns are present, indicating there are 1,000 rows and 2 columns. This is a fairly small, fairly simply DataFrame."
      ],
      "metadata": {
        "id": "Bf8_DTIfAJpz"
      }
    },
    {
      "cell_type": "code",
      "source": [
        "# Check for missing values\n",
        "print(\"Missing values:\")\n",
        "print(df.isnull().sum())\n",
        "print(f\"\\nTotal missing: {df.isnull().sum().sum()}\")"
      ],
      "metadata": {
        "colab": {
          "base_uri": "https://localhost:8080/"
        },
        "id": "oYnsTxtnjsT2",
        "outputId": "68deb3b7-4860-43de-c772-6b316dffa801"
      },
      "execution_count": 68,
      "outputs": [
        {
          "output_type": "stream",
          "name": "stdout",
          "text": [
            "Missing values:\n",
            "review       0\n",
            "sentiment    0\n",
            "dtype: int64\n",
            "\n",
            "Total missing: 0\n"
          ]
        }
      ]
    },
    {
      "cell_type": "markdown",
      "source": [
        "The code cell above checks for the presence of any missing values. The presence of missing values determines the logical flow of EDA by determining if there are further preprocessing steps to take (e.g., remove the observations with missing data or fill the missing data with a determined value).\n",
        "\n",
        "There are no missing values in this dataset, so we can move on without needing to address any missing values."
      ],
      "metadata": {
        "id": "WAOiFkamAbuB"
      }
    },
    {
      "cell_type": "code",
      "source": [
        "# Check for duplicates\n",
        "print(f\"Number of duplicate rows: {df.duplicated().sum()}\")\n",
        "print(f\"Percentage of duplicates: {df.duplicated().sum() / len(df) * 100:.2f}%\")"
      ],
      "metadata": {
        "colab": {
          "base_uri": "https://localhost:8080/"
        },
        "id": "jyJN9dBQ5PLD",
        "outputId": "dffa9dd6-a6a8-43e4-ce10-c474c7a8ea75"
      },
      "execution_count": 69,
      "outputs": [
        {
          "output_type": "stream",
          "name": "stdout",
          "text": [
            "Number of duplicate rows: 10\n",
            "Percentage of duplicates: 1.00%\n"
          ]
        }
      ]
    },
    {
      "cell_type": "markdown",
      "source": [
        "The code cell above checks for the presence of any duplicate observations and how prevalent they are.\n",
        "\n",
        "The code finds 10 instances of duplicates, which accounts for 1% of the total dataset."
      ],
      "metadata": {
        "id": "I7O6LfgOA2dv"
      }
    },
    {
      "cell_type": "code",
      "source": [
        "# Find and examine duplicate reviews\n",
        "duplicates = df[df.duplicated(subset=['review'], keep=False)]\n",
        "duplicates_sorted = duplicates.sort_values('review')\n",
        "\n",
        "print(f\"Total duplicate entries: {len(duplicates)}\")\n",
        "print(\"\\nSample of duplicate reviews:\")\n",
        "duplicates_sorted.head(20)"
      ],
      "metadata": {
        "colab": {
          "base_uri": "https://localhost:8080/",
          "height": 730
        },
        "id": "-hlqqsDy6uz4",
        "outputId": "9076093f-5b31-47b2-e612-052f95783776"
      },
      "execution_count": 71,
      "outputs": [
        {
          "output_type": "stream",
          "name": "stdout",
          "text": [
            "Total duplicate entries: 20\n",
            "\n",
            "Sample of duplicate reviews:\n"
          ]
        },
        {
          "output_type": "execute_result",
          "data": {
            "text/plain": [
              "                                                                                         review  \\\n",
              "446                                                                               Does not fit.   \n",
              "748                                                                               Does not fit.   \n",
              "180                                                                     Don't buy this product.   \n",
              "543                                                                     Don't buy this product.   \n",
              "402                                                            Excellent product for the price.   \n",
              "892                                                            Excellent product for the price.   \n",
              "792                                                                                Great Phone.   \n",
              "290                                                                                Great Phone.   \n",
              "187                                                                               Great phone!.   \n",
              "285                                                                               Great phone!.   \n",
              "896                                                                                Great phone.   \n",
              "647                                                                                Great phone.   \n",
              "179  If you like a loud buzzing to override all your conversations, then this phone is for you!   \n",
              "744  If you like a loud buzzing to override all your conversations, then this phone is for you!   \n",
              "392                                                                       This is a great deal.   \n",
              "778                                                                       This is a great deal.   \n",
              "18                                                                                Works great!.   \n",
              "524                                                                               Works great!.   \n",
              "262                                                                                Works great.   \n",
              "407                                                                                Works great.   \n",
              "\n",
              "     sentiment  \n",
              "446          0  \n",
              "748          0  \n",
              "180          0  \n",
              "543          0  \n",
              "402          1  \n",
              "892          1  \n",
              "792          1  \n",
              "290          1  \n",
              "187          1  \n",
              "285          1  \n",
              "896          1  \n",
              "647          1  \n",
              "179          0  \n",
              "744          0  \n",
              "392          1  \n",
              "778          1  \n",
              "18           1  \n",
              "524          1  \n",
              "262          1  \n",
              "407          1  "
            ],
            "text/html": [
              "\n",
              "  <div id=\"df-b98f0eac-eb96-4b57-9305-a0e04c144dbf\" class=\"colab-df-container\">\n",
              "    <div>\n",
              "<style scoped>\n",
              "    .dataframe tbody tr th:only-of-type {\n",
              "        vertical-align: middle;\n",
              "    }\n",
              "\n",
              "    .dataframe tbody tr th {\n",
              "        vertical-align: top;\n",
              "    }\n",
              "\n",
              "    .dataframe thead th {\n",
              "        text-align: right;\n",
              "    }\n",
              "</style>\n",
              "<table border=\"1\" class=\"dataframe\">\n",
              "  <thead>\n",
              "    <tr style=\"text-align: right;\">\n",
              "      <th></th>\n",
              "      <th>review</th>\n",
              "      <th>sentiment</th>\n",
              "    </tr>\n",
              "  </thead>\n",
              "  <tbody>\n",
              "    <tr>\n",
              "      <th>446</th>\n",
              "      <td>Does not fit.</td>\n",
              "      <td>0</td>\n",
              "    </tr>\n",
              "    <tr>\n",
              "      <th>748</th>\n",
              "      <td>Does not fit.</td>\n",
              "      <td>0</td>\n",
              "    </tr>\n",
              "    <tr>\n",
              "      <th>180</th>\n",
              "      <td>Don't buy this product.</td>\n",
              "      <td>0</td>\n",
              "    </tr>\n",
              "    <tr>\n",
              "      <th>543</th>\n",
              "      <td>Don't buy this product.</td>\n",
              "      <td>0</td>\n",
              "    </tr>\n",
              "    <tr>\n",
              "      <th>402</th>\n",
              "      <td>Excellent product for the price.</td>\n",
              "      <td>1</td>\n",
              "    </tr>\n",
              "    <tr>\n",
              "      <th>892</th>\n",
              "      <td>Excellent product for the price.</td>\n",
              "      <td>1</td>\n",
              "    </tr>\n",
              "    <tr>\n",
              "      <th>792</th>\n",
              "      <td>Great Phone.</td>\n",
              "      <td>1</td>\n",
              "    </tr>\n",
              "    <tr>\n",
              "      <th>290</th>\n",
              "      <td>Great Phone.</td>\n",
              "      <td>1</td>\n",
              "    </tr>\n",
              "    <tr>\n",
              "      <th>187</th>\n",
              "      <td>Great phone!.</td>\n",
              "      <td>1</td>\n",
              "    </tr>\n",
              "    <tr>\n",
              "      <th>285</th>\n",
              "      <td>Great phone!.</td>\n",
              "      <td>1</td>\n",
              "    </tr>\n",
              "    <tr>\n",
              "      <th>896</th>\n",
              "      <td>Great phone.</td>\n",
              "      <td>1</td>\n",
              "    </tr>\n",
              "    <tr>\n",
              "      <th>647</th>\n",
              "      <td>Great phone.</td>\n",
              "      <td>1</td>\n",
              "    </tr>\n",
              "    <tr>\n",
              "      <th>179</th>\n",
              "      <td>If you like a loud buzzing to override all your conversations, then this phone is for you!</td>\n",
              "      <td>0</td>\n",
              "    </tr>\n",
              "    <tr>\n",
              "      <th>744</th>\n",
              "      <td>If you like a loud buzzing to override all your conversations, then this phone is for you!</td>\n",
              "      <td>0</td>\n",
              "    </tr>\n",
              "    <tr>\n",
              "      <th>392</th>\n",
              "      <td>This is a great deal.</td>\n",
              "      <td>1</td>\n",
              "    </tr>\n",
              "    <tr>\n",
              "      <th>778</th>\n",
              "      <td>This is a great deal.</td>\n",
              "      <td>1</td>\n",
              "    </tr>\n",
              "    <tr>\n",
              "      <th>18</th>\n",
              "      <td>Works great!.</td>\n",
              "      <td>1</td>\n",
              "    </tr>\n",
              "    <tr>\n",
              "      <th>524</th>\n",
              "      <td>Works great!.</td>\n",
              "      <td>1</td>\n",
              "    </tr>\n",
              "    <tr>\n",
              "      <th>262</th>\n",
              "      <td>Works great.</td>\n",
              "      <td>1</td>\n",
              "    </tr>\n",
              "    <tr>\n",
              "      <th>407</th>\n",
              "      <td>Works great.</td>\n",
              "      <td>1</td>\n",
              "    </tr>\n",
              "  </tbody>\n",
              "</table>\n",
              "</div>\n",
              "    <div class=\"colab-df-buttons\">\n",
              "\n",
              "  <div class=\"colab-df-container\">\n",
              "    <button class=\"colab-df-convert\" onclick=\"convertToInteractive('df-b98f0eac-eb96-4b57-9305-a0e04c144dbf')\"\n",
              "            title=\"Convert this dataframe to an interactive table.\"\n",
              "            style=\"display:none;\">\n",
              "\n",
              "  <svg xmlns=\"http://www.w3.org/2000/svg\" height=\"24px\" viewBox=\"0 -960 960 960\">\n",
              "    <path d=\"M120-120v-720h720v720H120Zm60-500h600v-160H180v160Zm220 220h160v-160H400v160Zm0 220h160v-160H400v160ZM180-400h160v-160H180v160Zm440 0h160v-160H620v160ZM180-180h160v-160H180v160Zm440 0h160v-160H620v160Z\"/>\n",
              "  </svg>\n",
              "    </button>\n",
              "\n",
              "  <style>\n",
              "    .colab-df-container {\n",
              "      display:flex;\n",
              "      gap: 12px;\n",
              "    }\n",
              "\n",
              "    .colab-df-convert {\n",
              "      background-color: #E8F0FE;\n",
              "      border: none;\n",
              "      border-radius: 50%;\n",
              "      cursor: pointer;\n",
              "      display: none;\n",
              "      fill: #1967D2;\n",
              "      height: 32px;\n",
              "      padding: 0 0 0 0;\n",
              "      width: 32px;\n",
              "    }\n",
              "\n",
              "    .colab-df-convert:hover {\n",
              "      background-color: #E2EBFA;\n",
              "      box-shadow: 0px 1px 2px rgba(60, 64, 67, 0.3), 0px 1px 3px 1px rgba(60, 64, 67, 0.15);\n",
              "      fill: #174EA6;\n",
              "    }\n",
              "\n",
              "    .colab-df-buttons div {\n",
              "      margin-bottom: 4px;\n",
              "    }\n",
              "\n",
              "    [theme=dark] .colab-df-convert {\n",
              "      background-color: #3B4455;\n",
              "      fill: #D2E3FC;\n",
              "    }\n",
              "\n",
              "    [theme=dark] .colab-df-convert:hover {\n",
              "      background-color: #434B5C;\n",
              "      box-shadow: 0px 1px 3px 1px rgba(0, 0, 0, 0.15);\n",
              "      filter: drop-shadow(0px 1px 2px rgba(0, 0, 0, 0.3));\n",
              "      fill: #FFFFFF;\n",
              "    }\n",
              "  </style>\n",
              "\n",
              "    <script>\n",
              "      const buttonEl =\n",
              "        document.querySelector('#df-b98f0eac-eb96-4b57-9305-a0e04c144dbf button.colab-df-convert');\n",
              "      buttonEl.style.display =\n",
              "        google.colab.kernel.accessAllowed ? 'block' : 'none';\n",
              "\n",
              "      async function convertToInteractive(key) {\n",
              "        const element = document.querySelector('#df-b98f0eac-eb96-4b57-9305-a0e04c144dbf');\n",
              "        const dataTable =\n",
              "          await google.colab.kernel.invokeFunction('convertToInteractive',\n",
              "                                                    [key], {});\n",
              "        if (!dataTable) return;\n",
              "\n",
              "        const docLinkHtml = 'Like what you see? Visit the ' +\n",
              "          '<a target=\"_blank\" href=https://colab.research.google.com/notebooks/data_table.ipynb>data table notebook</a>'\n",
              "          + ' to learn more about interactive tables.';\n",
              "        element.innerHTML = '';\n",
              "        dataTable['output_type'] = 'display_data';\n",
              "        await google.colab.output.renderOutput(dataTable, element);\n",
              "        const docLink = document.createElement('div');\n",
              "        docLink.innerHTML = docLinkHtml;\n",
              "        element.appendChild(docLink);\n",
              "      }\n",
              "    </script>\n",
              "  </div>\n",
              "\n",
              "\n",
              "    <div id=\"df-d2af928c-9673-49d8-92a4-1c38e881c271\">\n",
              "      <button class=\"colab-df-quickchart\" onclick=\"quickchart('df-d2af928c-9673-49d8-92a4-1c38e881c271')\"\n",
              "                title=\"Suggest charts\"\n",
              "                style=\"display:none;\">\n",
              "\n",
              "<svg xmlns=\"http://www.w3.org/2000/svg\" height=\"24px\"viewBox=\"0 0 24 24\"\n",
              "     width=\"24px\">\n",
              "    <g>\n",
              "        <path d=\"M19 3H5c-1.1 0-2 .9-2 2v14c0 1.1.9 2 2 2h14c1.1 0 2-.9 2-2V5c0-1.1-.9-2-2-2zM9 17H7v-7h2v7zm4 0h-2V7h2v10zm4 0h-2v-4h2v4z\"/>\n",
              "    </g>\n",
              "</svg>\n",
              "      </button>\n",
              "\n",
              "<style>\n",
              "  .colab-df-quickchart {\n",
              "      --bg-color: #E8F0FE;\n",
              "      --fill-color: #1967D2;\n",
              "      --hover-bg-color: #E2EBFA;\n",
              "      --hover-fill-color: #174EA6;\n",
              "      --disabled-fill-color: #AAA;\n",
              "      --disabled-bg-color: #DDD;\n",
              "  }\n",
              "\n",
              "  [theme=dark] .colab-df-quickchart {\n",
              "      --bg-color: #3B4455;\n",
              "      --fill-color: #D2E3FC;\n",
              "      --hover-bg-color: #434B5C;\n",
              "      --hover-fill-color: #FFFFFF;\n",
              "      --disabled-bg-color: #3B4455;\n",
              "      --disabled-fill-color: #666;\n",
              "  }\n",
              "\n",
              "  .colab-df-quickchart {\n",
              "    background-color: var(--bg-color);\n",
              "    border: none;\n",
              "    border-radius: 50%;\n",
              "    cursor: pointer;\n",
              "    display: none;\n",
              "    fill: var(--fill-color);\n",
              "    height: 32px;\n",
              "    padding: 0;\n",
              "    width: 32px;\n",
              "  }\n",
              "\n",
              "  .colab-df-quickchart:hover {\n",
              "    background-color: var(--hover-bg-color);\n",
              "    box-shadow: 0 1px 2px rgba(60, 64, 67, 0.3), 0 1px 3px 1px rgba(60, 64, 67, 0.15);\n",
              "    fill: var(--button-hover-fill-color);\n",
              "  }\n",
              "\n",
              "  .colab-df-quickchart-complete:disabled,\n",
              "  .colab-df-quickchart-complete:disabled:hover {\n",
              "    background-color: var(--disabled-bg-color);\n",
              "    fill: var(--disabled-fill-color);\n",
              "    box-shadow: none;\n",
              "  }\n",
              "\n",
              "  .colab-df-spinner {\n",
              "    border: 2px solid var(--fill-color);\n",
              "    border-color: transparent;\n",
              "    border-bottom-color: var(--fill-color);\n",
              "    animation:\n",
              "      spin 1s steps(1) infinite;\n",
              "  }\n",
              "\n",
              "  @keyframes spin {\n",
              "    0% {\n",
              "      border-color: transparent;\n",
              "      border-bottom-color: var(--fill-color);\n",
              "      border-left-color: var(--fill-color);\n",
              "    }\n",
              "    20% {\n",
              "      border-color: transparent;\n",
              "      border-left-color: var(--fill-color);\n",
              "      border-top-color: var(--fill-color);\n",
              "    }\n",
              "    30% {\n",
              "      border-color: transparent;\n",
              "      border-left-color: var(--fill-color);\n",
              "      border-top-color: var(--fill-color);\n",
              "      border-right-color: var(--fill-color);\n",
              "    }\n",
              "    40% {\n",
              "      border-color: transparent;\n",
              "      border-right-color: var(--fill-color);\n",
              "      border-top-color: var(--fill-color);\n",
              "    }\n",
              "    60% {\n",
              "      border-color: transparent;\n",
              "      border-right-color: var(--fill-color);\n",
              "    }\n",
              "    80% {\n",
              "      border-color: transparent;\n",
              "      border-right-color: var(--fill-color);\n",
              "      border-bottom-color: var(--fill-color);\n",
              "    }\n",
              "    90% {\n",
              "      border-color: transparent;\n",
              "      border-bottom-color: var(--fill-color);\n",
              "    }\n",
              "  }\n",
              "</style>\n",
              "\n",
              "      <script>\n",
              "        async function quickchart(key) {\n",
              "          const quickchartButtonEl =\n",
              "            document.querySelector('#' + key + ' button');\n",
              "          quickchartButtonEl.disabled = true;  // To prevent multiple clicks.\n",
              "          quickchartButtonEl.classList.add('colab-df-spinner');\n",
              "          try {\n",
              "            const charts = await google.colab.kernel.invokeFunction(\n",
              "                'suggestCharts', [key], {});\n",
              "          } catch (error) {\n",
              "            console.error('Error during call to suggestCharts:', error);\n",
              "          }\n",
              "          quickchartButtonEl.classList.remove('colab-df-spinner');\n",
              "          quickchartButtonEl.classList.add('colab-df-quickchart-complete');\n",
              "        }\n",
              "        (() => {\n",
              "          let quickchartButtonEl =\n",
              "            document.querySelector('#df-d2af928c-9673-49d8-92a4-1c38e881c271 button');\n",
              "          quickchartButtonEl.style.display =\n",
              "            google.colab.kernel.accessAllowed ? 'block' : 'none';\n",
              "        })();\n",
              "      </script>\n",
              "    </div>\n",
              "\n",
              "    </div>\n",
              "  </div>\n"
            ],
            "application/vnd.google.colaboratory.intrinsic+json": {
              "type": "dataframe",
              "variable_name": "duplicates_sorted",
              "summary": "{\n  \"name\": \"duplicates_sorted\",\n  \"rows\": 20,\n  \"fields\": [\n    {\n      \"column\": \"review\",\n      \"properties\": {\n        \"dtype\": \"string\",\n        \"num_unique_values\": 10,\n        \"samples\": [\n          \"Works great!.\",\n          \"Don't buy this product.\",\n          \"Great phone.\"\n        ],\n        \"semantic_type\": \"\",\n        \"description\": \"\"\n      }\n    },\n    {\n      \"column\": \"sentiment\",\n      \"properties\": {\n        \"dtype\": \"number\",\n        \"std\": 0,\n        \"min\": 0,\n        \"max\": 1,\n        \"num_unique_values\": 2,\n        \"samples\": [\n          1,\n          0\n        ],\n        \"semantic_type\": \"\",\n        \"description\": \"\"\n      }\n    }\n  ]\n}"
            }
          },
          "metadata": {},
          "execution_count": 71
        }
      ]
    },
    {
      "cell_type": "markdown",
      "source": [
        "The code cell above pulls out the duplicates and sorts them by ascending alphabetical order so that they are paired together by value rather than row ID. This step is valuable so we can determine if any of the duplicates appear to be legitimate or they appear to be actual duplicates.\n",
        "\n",
        "Based on the small number of duplicates and the presence of the same unusual punctuation combinations appearing in a few of the examples, we can remove all duplicates while keeping the first occurrence."
      ],
      "metadata": {
        "id": "BQhXla9uBFzP"
      }
    },
    {
      "cell_type": "code",
      "source": [
        "# Remove exact duplicates, keeping the first occurrence\n",
        "df_clean = df.drop_duplicates(keep='first')\n",
        "\n",
        "print(f\"Original dataset: {len(df)} rows\")\n",
        "print(f\"After removing duplicates: {len(df_clean)} rows\")\n",
        "print(f\"Duplicates removed: {len(df) - len(df_clean)}\")"
      ],
      "metadata": {
        "colab": {
          "base_uri": "https://localhost:8080/"
        },
        "id": "1-PA1xgd66IQ",
        "outputId": "e7ca9e79-e887-41a3-a1dd-d1dc53f4fa25"
      },
      "execution_count": 72,
      "outputs": [
        {
          "output_type": "stream",
          "name": "stdout",
          "text": [
            "Original dataset: 1000 rows\n",
            "After removing duplicates: 990 rows\n",
            "Duplicates removed: 10\n"
          ]
        }
      ]
    },
    {
      "cell_type": "markdown",
      "source": [
        "The code cell above removes the duplicate rows, keeping the first occurrence of the value and saving the results in a new copy of the DataFrame. It then checks the size of the cleaned DataFrame to confirm the removal of duplicates and compares the size to the original DataFrame."
      ],
      "metadata": {
        "id": "nmF0bRj4B6k1"
      }
    },
    {
      "cell_type": "code",
      "source": [
        "# Check unique values in sentiment column\n",
        "print(\"Unique sentiment values:\")\n",
        "print(df_clean['sentiment'].unique())\n",
        "print(f\"Number of unique sentiment values: {df_clean['sentiment'].nunique()}\")"
      ],
      "metadata": {
        "colab": {
          "base_uri": "https://localhost:8080/"
        },
        "id": "r4uE3EAyjzw7",
        "outputId": "34711c29-676e-4e80-cafa-b3ae22f2069e"
      },
      "execution_count": 73,
      "outputs": [
        {
          "output_type": "stream",
          "name": "stdout",
          "text": [
            "Unique sentiment values:\n",
            "[0 1]\n",
            "Number of unique sentiment values: 2\n"
          ]
        }
      ]
    },
    {
      "cell_type": "markdown",
      "source": [
        "The code cell above checks the DataFrame's `'sentiment'` column for unique values to ensure that there are only the expected binary values of `0` for negative sentiment and `1` for positive sentiment. There are no unexpected values."
      ],
      "metadata": {
        "id": "bgFNnC6_CPO9"
      }
    },
    {
      "cell_type": "code",
      "source": [
        "# Check for class balance\n",
        "print(\"Sentiment distribution:\")\n",
        "print(df_clean['sentiment'].value_counts())\n",
        "print(\"\\nSentiment distribution (percentages):\")\n",
        "print(df_clean['sentiment'].value_counts(normalize=True) * 100)"
      ],
      "metadata": {
        "colab": {
          "base_uri": "https://localhost:8080/"
        },
        "id": "tjKykTEWj5z3",
        "outputId": "b53fbfef-4b5e-4aa4-cec8-e7f3fdfcf87d"
      },
      "execution_count": 74,
      "outputs": [
        {
          "output_type": "stream",
          "name": "stdout",
          "text": [
            "Sentiment distribution:\n",
            "sentiment\n",
            "0    497\n",
            "1    493\n",
            "Name: count, dtype: int64\n",
            "\n",
            "Sentiment distribution (percentages):\n",
            "sentiment\n",
            "0    50.20202\n",
            "1    49.79798\n",
            "Name: proportion, dtype: float64\n"
          ]
        }
      ]
    },
    {
      "cell_type": "markdown",
      "source": [
        "The code cell above checks how balanced the sentiment is across negative and positive reviews, both in actual numbers and in proportion to the full remaining dataset.\n",
        "\n",
        "After removing the duplicates, there are 497 negative reviews and 493 positive reviews. Based on the small difference, we can consider this dataset to be balanced.\n",
        "\n",
        "This information is important to keep in mind for when we split our datasets into train/validation/test datasets later in step **B5. Steps to Prepare the Data**, as we'll want to keep the proportions while shuffling the data. This ensures that the model *can't* learn from patterns that occur based on what order the data was added to the dataset but that it *can* learn, validate, and test fairly across representative proportions."
      ],
      "metadata": {
        "id": "I5sli09oDBES"
      }
    },
    {
      "cell_type": "code",
      "source": [
        "# Visualize class balance\n",
        "plt.figure(figsize=(8, 5))\n",
        "sentiment_counts = df_clean['sentiment'].value_counts()\n",
        "bars = plt.bar(sentiment_counts.index, sentiment_counts.values, color=['#A6192E', '#5CB8B2'])\n",
        "\n",
        "# Add value labels on top of each bar\n",
        "for bar in bars:\n",
        "    height = bar.get_height()\n",
        "    plt.text(bar.get_x() + bar.get_width()/2., height,\n",
        "             f'{int(height)}',\n",
        "             ha='center', va='bottom', fontsize=12, fontweight='bold')\n",
        "\n",
        "plt.title('Sentiment Distribution', fontsize=14, fontweight='bold')\n",
        "plt.xlabel('Sentiment (0=Negative, 1=Positive)', fontsize=12)\n",
        "plt.ylabel('Count', fontsize=12)\n",
        "plt.xticks([0, 1])\n",
        "plt.tight_layout()\n",
        "plt.show()"
      ],
      "metadata": {
        "colab": {
          "base_uri": "https://localhost:8080/",
          "height": 507
        },
        "id": "ZBzQus11n5hu",
        "outputId": "c7347078-80cb-450e-fe28-d179d0ce883d"
      },
      "execution_count": 48,
      "outputs": [
        {
          "output_type": "display_data",
          "data": {
            "text/plain": [
              "<Figure size 800x500 with 1 Axes>"
            ],
            "image/png": "[encoded data removed]"
          },
          "metadata": {}
        }
      ]
    },
    {
      "cell_type": "markdown",
      "source": [
        "The code cell above visualizes the class balance of negative and positive sentiment observations for the full cleaned dataset. The exact values are added above each bar because they are nearly indecipherable at a visual glance."
      ],
      "metadata": {
        "id": "NdlMRP7PEEXr"
      }
    },
    {
      "cell_type": "markdown",
      "source": [
        "#### Presence of unusual characters"
      ],
      "metadata": {
        "id": "fkUygOJ_m7nv"
      }
    },
    {
      "cell_type": "markdown",
      "source": [
        "**Analyze Unusual Characters Before Cleaning**\n",
        "\n",
        "Working definition of unusual characters: Any emojis, non-English characters, non-Unicode characters, punctuation, or control characters"
      ],
      "metadata": {
        "id": "TMHs2rV0ErYy"
      }
    },
    {
      "cell_type": "code",
      "source": [
        "# Load additional libraries\n",
        "import re\n",
        "import unicodedata\n",
        "import string\n",
        "from collections import Counter"
      ],
      "metadata": {
        "id": "Honqpt5mFBr2"
      },
      "execution_count": 84,
      "outputs": []
    },
    {
      "cell_type": "code",
      "source": [
        "# Create custom function to check for emojis, non-ASCII, punctuation, and numbers\n",
        "def analyze_characters(text_series):\n",
        "    \"\"\"\n",
        "    Analyze and categorize unusual characters using Unicode categories.\n",
        "\n",
        "    References:\n",
        "    - Python unicodedata module: https://docs.python.org/3/library/unicodedata.html\n",
        "    - Unicode categories: https://www.unicode.org/reports/tr44/#General_Category_Values\n",
        "    - Python string module: https://docs.python.org/3/library/string.html\n",
        "    \"\"\"\n",
        "\n",
        "    all_text = ' '.join(text_series.astype(str))\n",
        "\n",
        "    emojis = []\n",
        "    non_ascii = []\n",
        "    punctuation = []\n",
        "    numbers = []\n",
        "\n",
        "    for char in all_text:\n",
        "        # Get Unicode category\n",
        "        category = unicodedata.category(char)\n",
        "\n",
        "        # Emojis (Symbols category)\n",
        "        if category.startswith('So'):  # 'So' = Symbol, other\n",
        "            emojis.append(char)\n",
        "\n",
        "        # Non-ASCII (anything with code point > 127)\n",
        "        elif ord(char) > 127:\n",
        "            non_ascii.append(char)\n",
        "\n",
        "        # Punctuation (using string.punctuation)\n",
        "        elif char in string.punctuation:\n",
        "            punctuation.append(char)\n",
        "\n",
        "        # Numbers\n",
        "        elif char.isdigit():\n",
        "            numbers.append(char)\n",
        "\n",
        "    return {\n",
        "        'emojis': Counter(emojis),\n",
        "        'non_ascii': Counter(non_ascii),\n",
        "        'punctuation': Counter(punctuation),\n",
        "        'numbers': Counter(numbers)\n",
        "    }"
      ],
      "metadata": {
        "id": "FOvXJsISFbS4"
      },
      "execution_count": 85,
      "outputs": []
    },
    {
      "cell_type": "code",
      "source": [
        "char_analysis = analyze_characters(df_clean['review'])\n",
        "char_analysis"
      ],
      "metadata": {
        "colab": {
          "base_uri": "https://localhost:8080/"
        },
        "id": "toAvEUUFOXhm",
        "outputId": "3c2f5578-ed92-4a0f-a0a4-1865cc7e103f"
      },
      "execution_count": 86,
      "outputs": [
        {
          "output_type": "execute_result",
          "data": {
            "text/plain": [
              "{'emojis': Counter(),\n",
              " 'non_ascii': Counter(),\n",
              " 'punctuation': Counter({'.': 1070,\n",
              "          ',': 292,\n",
              "          '!': 164,\n",
              "          '+': 1,\n",
              "          '\"': 19,\n",
              "          \"'\": 179,\n",
              "          '/': 8,\n",
              "          '?': 7,\n",
              "          '-': 74,\n",
              "          ':': 4,\n",
              "          ')': 29,\n",
              "          '(': 26,\n",
              "          '&': 7,\n",
              "          '$': 9,\n",
              "          '*': 4,\n",
              "          ';': 9,\n",
              "          '%': 2,\n",
              "          '#': 2,\n",
              "          '[': 1,\n",
              "          ']': 1}),\n",
              " 'numbers': Counter({'4': 10,\n",
              "          '5': 37,\n",
              "          '7': 10,\n",
              "          '3': 23,\n",
              "          '6': 5,\n",
              "          '8': 11,\n",
              "          '0': 43,\n",
              "          '2': 45,\n",
              "          '1': 33,\n",
              "          '9': 2})}"
            ]
          },
          "metadata": {},
          "execution_count": 86
        }
      ]
    },
    {
      "cell_type": "markdown",
      "source": [
        "#### Vocabulary size"
      ],
      "metadata": {
        "id": "gYTa1ezfnBP7"
      }
    },
    {
      "cell_type": "markdown",
      "source": [
        "#### Word embedding length"
      ],
      "metadata": {
        "id": "jmGPFPnOr_wS"
      }
    },
    {
      "cell_type": "markdown",
      "source": [
        "#### Statistical justification for maximum sequence length"
      ],
      "metadata": {
        "id": "FXQJwE_WDov8"
      }
    },
    {
      "cell_type": "markdown",
      "source": [
        "### B2. Tokenization"
      ],
      "metadata": {
        "id": "8Zu1S8rkXNFB"
      }
    },
    {
      "cell_type": "markdown",
      "source": [
        "> Describe the goals of the tokenization process, including any code generated and any packages that are used to normalize text during the process."
      ],
      "metadata": {
        "id": "yoaRyAZNYoLd"
      }
    },
    {
      "cell_type": "markdown",
      "source": [
        "### B3. Padding Process"
      ],
      "metadata": {
        "id": "b9R1_ojOXPOM"
      }
    },
    {
      "cell_type": "markdown",
      "source": [
        "> Explain the padding process used to standardize the length of sequences. Include the following in your explanation:\n",
        "\n",
        "  * whether the padding occurs before or after the text sequence\n",
        "  * a screenshot of a single padded sequence"
      ],
      "metadata": {
        "id": "RgNh94hWYpvI"
      }
    },
    {
      "cell_type": "markdown",
      "source": [
        "### B4. Categories of Sentiment"
      ],
      "metadata": {
        "id": "wFi0_nqiXQ8f"
      }
    },
    {
      "cell_type": "markdown",
      "source": [
        "> Identify how many categories of sentiment will be used and provide an activation function for the final dense layer of the network."
      ],
      "metadata": {
        "id": "L31XhnvPYvBP"
      }
    },
    {
      "cell_type": "markdown",
      "source": [
        "### B5. Steps to Prepare the Data"
      ],
      "metadata": {
        "id": "28ZIKiAXXS4W"
      }
    },
    {
      "cell_type": "markdown",
      "source": [
        "> Explain the steps used to prepare the data for analysis, including the size of the training, validation, and test set split based on the industry average."
      ],
      "metadata": {
        "id": "TFOdKOeLYwwW"
      }
    },
    {
      "cell_type": "markdown",
      "source": [
        "### B6. Prepared Dataset"
      ],
      "metadata": {
        "id": "SmfnTDfjXVWW"
      }
    },
    {
      "cell_type": "markdown",
      "source": [
        "> Provide a copy of the prepared dataset."
      ],
      "metadata": {
        "id": "wF5vypKCYyZX"
      }
    },
    {
      "cell_type": "markdown",
      "source": [
        "## C. Network Architecture"
      ],
      "metadata": {
        "id": "82WV4F4jXYO7"
      }
    },
    {
      "cell_type": "markdown",
      "source": [
        "> Describe the type of neural network model used by doing the following:"
      ],
      "metadata": {
        "id": "MvSCOej3Y33a"
      }
    },
    {
      "cell_type": "markdown",
      "source": [
        "### C1. Model Summary"
      ],
      "metadata": {
        "id": "4auiTuqPXZCx"
      }
    },
    {
      "cell_type": "markdown",
      "source": [
        "> Provide the output of the model summary of the function from TensorFlow or PyTorch."
      ],
      "metadata": {
        "id": "PlS2ulu_Y5cc"
      }
    },
    {
      "cell_type": "markdown",
      "source": [
        "### C2. Network Architecture"
      ],
      "metadata": {
        "id": "GEEmujQVXaQW"
      }
    },
    {
      "cell_type": "markdown",
      "source": [
        "> Discuss the number of layers, the type of layers, and the total number of parameters."
      ],
      "metadata": {
        "id": "3wXVZoIsY6_Z"
      }
    },
    {
      "cell_type": "markdown",
      "source": [
        "### C3. Hyperparameters"
      ],
      "metadata": {
        "id": "pGqvqMw9XcKd"
      }
    },
    {
      "cell_type": "markdown",
      "source": [
        "> Justify the choice of hyperparameters, including each of the following elements:\n",
        "\n",
        "  * activation functions\n",
        "  * number of nodes per layer\n",
        "  * loss function\n",
        "  * optimizer\n",
        "  * stopping criteria"
      ],
      "metadata": {
        "id": "zkvfN8ekY8fZ"
      }
    },
    {
      "cell_type": "markdown",
      "source": [
        "## D. Neural Network Model Evaluation"
      ],
      "metadata": {
        "id": "Q0EQRo3KXeJp"
      }
    },
    {
      "cell_type": "markdown",
      "source": [
        "> Evaluate the model's training process and its relevant outcomes by doing the following:"
      ],
      "metadata": {
        "id": "qYDNjoOwZFuM"
      }
    },
    {
      "cell_type": "markdown",
      "source": [
        "### D1. Stopping Criteria"
      ],
      "metadata": {
        "id": "GvncPTQ1Xf2m"
      }
    },
    {
      "cell_type": "markdown",
      "source": [
        "> Discuss the impact of using stopping criteria to include defining the number of epochs, including a screenshot showing the final training epoch."
      ],
      "metadata": {
        "id": "CA4060YpZHIi"
      }
    },
    {
      "cell_type": "markdown",
      "source": [
        "### D2. Fitness"
      ],
      "metadata": {
        "id": "Gtcil_UvXhiE"
      }
    },
    {
      "cell_type": "markdown",
      "source": [
        "> Assess the fitness of the model and any actions taken to address overfitting or underfitting."
      ],
      "metadata": {
        "id": "T0llPTCPZIgm"
      }
    },
    {
      "cell_type": "markdown",
      "source": [
        "### D3. Training Process"
      ],
      "metadata": {
        "id": "GFfPUSzyXi-v"
      }
    },
    {
      "cell_type": "markdown",
      "source": [
        "> Provide clearly labeled visualizations of the model's training process and show the loss and accuracy metric."
      ],
      "metadata": {
        "id": "eCGOiV3NZJws"
      }
    },
    {
      "cell_type": "markdown",
      "source": [],
      "metadata": {
        "id": "W4xW8IL_E93z"
      }
    },
    {
      "cell_type": "markdown",
      "source": [
        "### D4. Predictive Accuracy"
      ],
      "metadata": {
        "id": "8tjs7IIhXlEX"
      }
    },
    {
      "cell_type": "markdown",
      "source": [
        "> Discuss the predictive accuracy of the trained model using the chosen evaluation metric from part D3."
      ],
      "metadata": {
        "id": "RBWgs7RnZLqq"
      }
    },
    {
      "cell_type": "markdown",
      "source": [
        "### D5. Ethical Standards Compliance"
      ],
      "metadata": {
        "id": "VQpGd1E-Xmus"
      }
    },
    {
      "cell_type": "markdown",
      "source": [
        "> Explain how the analysis complies with artificial intelligence (AI) global ethical standards and mitigates bias."
      ],
      "metadata": {
        "id": "qOObi3qeZM_8"
      }
    },
    {
      "cell_type": "markdown",
      "source": [
        "## E. Code"
      ],
      "metadata": {
        "id": "SODusEBeXpq3"
      }
    },
    {
      "cell_type": "markdown",
      "source": [
        "> Provide the code you used to save the trained model within the neural network."
      ],
      "metadata": {
        "id": "NsIupuSXZOW-"
      }
    },
    {
      "cell_type": "markdown",
      "source": [
        "## F. Functionality"
      ],
      "metadata": {
        "id": "Tp1BhWM3Xrwq"
      }
    },
    {
      "cell_type": "markdown",
      "source": [
        "> Discuss the functionality of your model, including the impact of your choice of network architecture."
      ],
      "metadata": {
        "id": "hcv8uZc0ZQCF"
      }
    },
    {
      "cell_type": "markdown",
      "source": [
        "## G. Recommendations"
      ],
      "metadata": {
        "id": "YTc92xwVXtR2"
      }
    },
    {
      "cell_type": "markdown",
      "source": [
        "> Recommend a course of action based on your results as they relate to the research question."
      ],
      "metadata": {
        "id": "oushAu1oZRco"
      }
    },
    {
      "cell_type": "markdown",
      "source": [
        "## H. Reporting"
      ],
      "metadata": {
        "id": "w1NyxmdpXvKP"
      }
    },
    {
      "cell_type": "markdown",
      "source": [
        "> Submit a copy of your code and output in a PDF or HTML format."
      ],
      "metadata": {
        "id": "uBk3dAORZTDk"
      }
    },
    {
      "cell_type": "code",
      "source": [
        "# Convert notebook to HTML\n",
        "!jupyter nbconvert --to html d604_task_2.ipynb"
      ],
      "metadata": {
        "id": "PqtYBIGnW_Wi",
        "colab": {
          "base_uri": "https://localhost:8080/"
        },
        "outputId": "37d38bb7-b7f0-41fe-b402-7851aee3e65d"
      },
      "execution_count": 44,
      "outputs": [
        {
          "output_type": "stream",
          "name": "stdout",
          "text": [
            "[NbConvertApp] Converting notebook d604_task_2.ipynb to html\n",
            "[NbConvertApp] WARNING | Alternative text is missing on 1 image(s).\n",
            "[NbConvertApp] Writing 383199 bytes to d604_task_2.html\n"
          ]
        }
      ]
    },
    {
      "cell_type": "markdown",
      "source": [
        "## I. Sources for Third-Party Code"
      ],
      "metadata": {
        "id": "EAH5x1UvX0Ag"
      }
    },
    {
      "cell_type": "markdown",
      "source": [
        "> Submit a list of all the specific web sources you used to acquire segments of third-party code to support the application."
      ],
      "metadata": {
        "id": "4s_Gv5wQZUVt"
      }
    },
    {
      "cell_type": "markdown",
      "source": [
        "* [Python String module](https://docs.python.org/3/library/string.html)\n",
        "* [Python Unicodedata module](https://docs.python.org/3/library/unicodedata.html)\n",
        "* [Unicode Character Categories](https://www.unicode.org/reports/tr44/#General_Category_Values)"
      ],
      "metadata": {
        "id": "ZQJWeVv-O7ux"
      }
    },
    {
      "cell_type": "markdown",
      "source": [
        "## J. Sources"
      ],
      "metadata": {
        "id": "x37fOYtSX2On"
      }
    },
    {
      "cell_type": "markdown",
      "source": [
        "> Acknowledge sources, using in-text citations and references, for content that is quoted, paraphrased, or summarized."
      ],
      "metadata": {
        "id": "1yVmJSpbX6_K"
      }
    },
    {
      "cell_type": "markdown",
      "source": [
        "* Bourke, D. (2025). TensorFlow for Deep Learning Bootcamp: Zero to Mastery. Zero to Mastery. https://zerotomastery.io/courses/learn-tensorflow/"
      ],
      "metadata": {
        "id": "iJn9TIMdE1r-"
      }
    }
  ]
}